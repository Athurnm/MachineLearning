{
 "cells": [
  {
   "cell_type": "markdown",
   "metadata": {},
   "source": [
    "# Setup Awal"
   ]
  },
  {
   "cell_type": "markdown",
   "metadata": {},
   "source": [
    "Berbagai library yang umumnya akan kita gunakan, kita panggil dari awal"
   ]
  },
  {
   "cell_type": "code",
   "execution_count": 49,
   "metadata": {},
   "outputs": [],
   "source": [
    "import sklearn\n",
    "import math\n",
    "import numpy as np #Linear algebra\n",
    "import pandas as pd #data preprocessing"
   ]
  },
  {
   "cell_type": "code",
   "execution_count": 50,
   "metadata": {},
   "outputs": [
    {
     "name": "stdout",
     "output_type": "stream",
     "text": [
      "['sample_submission.csv', 'test.csv', 'train.csv']\n"
     ]
    }
   ],
   "source": [
    "# Python ≥3.5 is required\n",
    "import sys\n",
    "assert sys.version_info >= (3, 5)\n",
    "\n",
    "# Common imports\n",
    "import os\n",
    "print(os.listdir(\"./input\"))\n",
    "# To plot pretty figures\n",
    "%matplotlib inline\n",
    "import matplotlib as mpl\n",
    "import matplotlib.pyplot as plt\n",
    "mpl.rc('axes', labelsize=14)\n",
    "mpl.rc('xtick', labelsize=12)\n",
    "mpl.rc('ytick', labelsize=12)\n",
    "\n",
    "# Ignore useless warnings (see SciPy issue #5998)\n",
    "import warnings\n",
    "warnings.filterwarnings(action=\"ignore\", message=\"^internal gelsd\")"
   ]
  },
  {
   "cell_type": "markdown",
   "metadata": {},
   "source": [
    "# Input Data"
   ]
  },
  {
   "cell_type": "markdown",
   "metadata": {},
   "source": [
    "Untuk mengambil dataset, disiapkan dari file csv yang sudah disediakan."
   ]
  },
  {
   "cell_type": "code",
   "execution_count": 51,
   "metadata": {},
   "outputs": [],
   "source": [
    "# Import training data from csv and cleaning the data\n",
    "training_data = pd.read_csv('./input/train.csv',index_col=0)\n",
    "test_data = pd.read_csv('./input/test.csv',index_col=0)"
   ]
  },
  {
   "cell_type": "code",
   "execution_count": 52,
   "metadata": {},
   "outputs": [
    {
     "name": "stdout",
     "output_type": "stream",
     "text": [
      "banyaknya data: 11087 data\n"
     ]
    }
   ],
   "source": [
    "print(\"banyaknya data: \" + str(training_data.shape[0]) + \" data\") "
   ]
  },
  {
   "cell_type": "code",
   "execution_count": 53,
   "metadata": {},
   "outputs": [],
   "source": [
    "#Clean train to corresponding X and Y\n",
    "train_set_X = training_data.drop(['is_team1_won'],axis=1).values\n",
    "train_set_Y = training_data['is_team1_won']"
   ]
  },
  {
   "cell_type": "code",
   "execution_count": 54,
   "metadata": {},
   "outputs": [
    {
     "data": {
      "text/html": [
       "<div>\n",
       "<style scoped>\n",
       "    .dataframe tbody tr th:only-of-type {\n",
       "        vertical-align: middle;\n",
       "    }\n",
       "\n",
       "    .dataframe tbody tr th {\n",
       "        vertical-align: top;\n",
       "    }\n",
       "\n",
       "    .dataframe thead th {\n",
       "        text-align: right;\n",
       "    }\n",
       "</style>\n",
       "<table border=\"1\" class=\"dataframe\">\n",
       "  <thead>\n",
       "    <tr style=\"text-align: right;\">\n",
       "      <th></th>\n",
       "      <th>rank_team1</th>\n",
       "      <th>total_points_team1</th>\n",
       "      <th>rank_team2</th>\n",
       "      <th>total_points_team2</th>\n",
       "    </tr>\n",
       "    <tr>\n",
       "      <th>id</th>\n",
       "      <th></th>\n",
       "      <th></th>\n",
       "      <th></th>\n",
       "      <th></th>\n",
       "    </tr>\n",
       "  </thead>\n",
       "  <tbody>\n",
       "    <tr>\n",
       "      <th>2</th>\n",
       "      <td>90.0</td>\n",
       "      <td>386.20</td>\n",
       "      <td>49.0</td>\n",
       "      <td>629.60</td>\n",
       "    </tr>\n",
       "    <tr>\n",
       "      <th>3</th>\n",
       "      <td>103.0</td>\n",
       "      <td>0.00</td>\n",
       "      <td>18.0</td>\n",
       "      <td>0.00</td>\n",
       "    </tr>\n",
       "    <tr>\n",
       "      <th>7</th>\n",
       "      <td>20.0</td>\n",
       "      <td>0.00</td>\n",
       "      <td>7.0</td>\n",
       "      <td>0.00</td>\n",
       "    </tr>\n",
       "    <tr>\n",
       "      <th>9</th>\n",
       "      <td>5.0</td>\n",
       "      <td>0.00</td>\n",
       "      <td>67.0</td>\n",
       "      <td>0.00</td>\n",
       "    </tr>\n",
       "    <tr>\n",
       "      <th>11</th>\n",
       "      <td>31.0</td>\n",
       "      <td>0.00</td>\n",
       "      <td>16.0</td>\n",
       "      <td>0.00</td>\n",
       "    </tr>\n",
       "    <tr>\n",
       "      <th>21</th>\n",
       "      <td>64.0</td>\n",
       "      <td>0.00</td>\n",
       "      <td>69.0</td>\n",
       "      <td>0.00</td>\n",
       "    </tr>\n",
       "    <tr>\n",
       "      <th>22</th>\n",
       "      <td>152.0</td>\n",
       "      <td>0.00</td>\n",
       "      <td>139.0</td>\n",
       "      <td>0.00</td>\n",
       "    </tr>\n",
       "    <tr>\n",
       "      <th>28</th>\n",
       "      <td>175.0</td>\n",
       "      <td>0.00</td>\n",
       "      <td>182.0</td>\n",
       "      <td>0.00</td>\n",
       "    </tr>\n",
       "    <tr>\n",
       "      <th>29</th>\n",
       "      <td>129.0</td>\n",
       "      <td>236.70</td>\n",
       "      <td>128.0</td>\n",
       "      <td>245.62</td>\n",
       "    </tr>\n",
       "    <tr>\n",
       "      <th>30</th>\n",
       "      <td>122.0</td>\n",
       "      <td>0.00</td>\n",
       "      <td>139.0</td>\n",
       "      <td>0.00</td>\n",
       "    </tr>\n",
       "    <tr>\n",
       "      <th>34</th>\n",
       "      <td>69.0</td>\n",
       "      <td>449.69</td>\n",
       "      <td>124.0</td>\n",
       "      <td>249.90</td>\n",
       "    </tr>\n",
       "    <tr>\n",
       "      <th>35</th>\n",
       "      <td>161.0</td>\n",
       "      <td>0.00</td>\n",
       "      <td>34.0</td>\n",
       "      <td>0.00</td>\n",
       "    </tr>\n",
       "    <tr>\n",
       "      <th>39</th>\n",
       "      <td>97.0</td>\n",
       "      <td>365.83</td>\n",
       "      <td>146.0</td>\n",
       "      <td>161.37</td>\n",
       "    </tr>\n",
       "    <tr>\n",
       "      <th>43</th>\n",
       "      <td>92.0</td>\n",
       "      <td>0.00</td>\n",
       "      <td>85.0</td>\n",
       "      <td>0.00</td>\n",
       "    </tr>\n",
       "    <tr>\n",
       "      <th>44</th>\n",
       "      <td>136.0</td>\n",
       "      <td>0.00</td>\n",
       "      <td>180.0</td>\n",
       "      <td>0.00</td>\n",
       "    </tr>\n",
       "    <tr>\n",
       "      <th>50</th>\n",
       "      <td>53.0</td>\n",
       "      <td>575.68</td>\n",
       "      <td>24.0</td>\n",
       "      <td>831.14</td>\n",
       "    </tr>\n",
       "    <tr>\n",
       "      <th>52</th>\n",
       "      <td>175.0</td>\n",
       "      <td>0.00</td>\n",
       "      <td>27.0</td>\n",
       "      <td>0.00</td>\n",
       "    </tr>\n",
       "    <tr>\n",
       "      <th>53</th>\n",
       "      <td>103.0</td>\n",
       "      <td>0.00</td>\n",
       "      <td>8.0</td>\n",
       "      <td>0.00</td>\n",
       "    </tr>\n",
       "    <tr>\n",
       "      <th>57</th>\n",
       "      <td>156.0</td>\n",
       "      <td>0.00</td>\n",
       "      <td>152.0</td>\n",
       "      <td>0.00</td>\n",
       "    </tr>\n",
       "    <tr>\n",
       "      <th>58</th>\n",
       "      <td>7.0</td>\n",
       "      <td>0.00</td>\n",
       "      <td>150.0</td>\n",
       "      <td>0.00</td>\n",
       "    </tr>\n",
       "    <tr>\n",
       "      <th>63</th>\n",
       "      <td>90.0</td>\n",
       "      <td>0.00</td>\n",
       "      <td>118.0</td>\n",
       "      <td>0.00</td>\n",
       "    </tr>\n",
       "    <tr>\n",
       "      <th>64</th>\n",
       "      <td>106.0</td>\n",
       "      <td>0.00</td>\n",
       "      <td>116.0</td>\n",
       "      <td>0.00</td>\n",
       "    </tr>\n",
       "    <tr>\n",
       "      <th>65</th>\n",
       "      <td>39.0</td>\n",
       "      <td>655.26</td>\n",
       "      <td>71.0</td>\n",
       "      <td>470.62</td>\n",
       "    </tr>\n",
       "    <tr>\n",
       "      <th>66</th>\n",
       "      <td>16.0</td>\n",
       "      <td>0.00</td>\n",
       "      <td>26.0</td>\n",
       "      <td>0.00</td>\n",
       "    </tr>\n",
       "    <tr>\n",
       "      <th>67</th>\n",
       "      <td>131.0</td>\n",
       "      <td>0.00</td>\n",
       "      <td>182.0</td>\n",
       "      <td>0.00</td>\n",
       "    </tr>\n",
       "    <tr>\n",
       "      <th>69</th>\n",
       "      <td>79.0</td>\n",
       "      <td>0.00</td>\n",
       "      <td>33.0</td>\n",
       "      <td>0.00</td>\n",
       "    </tr>\n",
       "    <tr>\n",
       "      <th>70</th>\n",
       "      <td>81.0</td>\n",
       "      <td>0.00</td>\n",
       "      <td>58.0</td>\n",
       "      <td>0.00</td>\n",
       "    </tr>\n",
       "    <tr>\n",
       "      <th>78</th>\n",
       "      <td>51.0</td>\n",
       "      <td>601.39</td>\n",
       "      <td>82.0</td>\n",
       "      <td>458.07</td>\n",
       "    </tr>\n",
       "    <tr>\n",
       "      <th>81</th>\n",
       "      <td>124.0</td>\n",
       "      <td>242.85</td>\n",
       "      <td>72.0</td>\n",
       "      <td>504.70</td>\n",
       "    </tr>\n",
       "    <tr>\n",
       "      <th>82</th>\n",
       "      <td>17.0</td>\n",
       "      <td>0.00</td>\n",
       "      <td>20.0</td>\n",
       "      <td>0.00</td>\n",
       "    </tr>\n",
       "    <tr>\n",
       "      <th>...</th>\n",
       "      <td>...</td>\n",
       "      <td>...</td>\n",
       "      <td>...</td>\n",
       "      <td>...</td>\n",
       "    </tr>\n",
       "    <tr>\n",
       "      <th>18402</th>\n",
       "      <td>16.0</td>\n",
       "      <td>0.00</td>\n",
       "      <td>44.0</td>\n",
       "      <td>0.00</td>\n",
       "    </tr>\n",
       "    <tr>\n",
       "      <th>18403</th>\n",
       "      <td>9.0</td>\n",
       "      <td>0.00</td>\n",
       "      <td>4.0</td>\n",
       "      <td>0.00</td>\n",
       "    </tr>\n",
       "    <tr>\n",
       "      <th>18405</th>\n",
       "      <td>51.0</td>\n",
       "      <td>0.00</td>\n",
       "      <td>4.0</td>\n",
       "      <td>0.00</td>\n",
       "    </tr>\n",
       "    <tr>\n",
       "      <th>18407</th>\n",
       "      <td>123.0</td>\n",
       "      <td>0.00</td>\n",
       "      <td>176.0</td>\n",
       "      <td>0.00</td>\n",
       "    </tr>\n",
       "    <tr>\n",
       "      <th>18412</th>\n",
       "      <td>10.0</td>\n",
       "      <td>1079.24</td>\n",
       "      <td>23.0</td>\n",
       "      <td>838.05</td>\n",
       "    </tr>\n",
       "    <tr>\n",
       "      <th>18413</th>\n",
       "      <td>31.0</td>\n",
       "      <td>757.03</td>\n",
       "      <td>10.0</td>\n",
       "      <td>1030.24</td>\n",
       "    </tr>\n",
       "    <tr>\n",
       "      <th>18416</th>\n",
       "      <td>30.0</td>\n",
       "      <td>0.00</td>\n",
       "      <td>32.0</td>\n",
       "      <td>0.00</td>\n",
       "    </tr>\n",
       "    <tr>\n",
       "      <th>18420</th>\n",
       "      <td>65.0</td>\n",
       "      <td>0.00</td>\n",
       "      <td>119.0</td>\n",
       "      <td>0.00</td>\n",
       "    </tr>\n",
       "    <tr>\n",
       "      <th>18424</th>\n",
       "      <td>25.0</td>\n",
       "      <td>0.00</td>\n",
       "      <td>3.0</td>\n",
       "      <td>0.00</td>\n",
       "    </tr>\n",
       "    <tr>\n",
       "      <th>18426</th>\n",
       "      <td>8.0</td>\n",
       "      <td>1052.62</td>\n",
       "      <td>1.0</td>\n",
       "      <td>1456.10</td>\n",
       "    </tr>\n",
       "    <tr>\n",
       "      <th>18432</th>\n",
       "      <td>34.0</td>\n",
       "      <td>0.00</td>\n",
       "      <td>20.0</td>\n",
       "      <td>0.00</td>\n",
       "    </tr>\n",
       "    <tr>\n",
       "      <th>18436</th>\n",
       "      <td>99.0</td>\n",
       "      <td>0.00</td>\n",
       "      <td>67.0</td>\n",
       "      <td>0.00</td>\n",
       "    </tr>\n",
       "    <tr>\n",
       "      <th>18437</th>\n",
       "      <td>132.0</td>\n",
       "      <td>0.00</td>\n",
       "      <td>64.0</td>\n",
       "      <td>0.00</td>\n",
       "    </tr>\n",
       "    <tr>\n",
       "      <th>18440</th>\n",
       "      <td>191.0</td>\n",
       "      <td>0.00</td>\n",
       "      <td>189.0</td>\n",
       "      <td>0.00</td>\n",
       "    </tr>\n",
       "    <tr>\n",
       "      <th>18443</th>\n",
       "      <td>47.0</td>\n",
       "      <td>0.00</td>\n",
       "      <td>43.0</td>\n",
       "      <td>0.00</td>\n",
       "    </tr>\n",
       "    <tr>\n",
       "      <th>18446</th>\n",
       "      <td>20.0</td>\n",
       "      <td>0.00</td>\n",
       "      <td>112.0</td>\n",
       "      <td>0.00</td>\n",
       "    </tr>\n",
       "    <tr>\n",
       "      <th>18449</th>\n",
       "      <td>84.0</td>\n",
       "      <td>0.00</td>\n",
       "      <td>110.0</td>\n",
       "      <td>0.00</td>\n",
       "    </tr>\n",
       "    <tr>\n",
       "      <th>18450</th>\n",
       "      <td>117.0</td>\n",
       "      <td>280.76</td>\n",
       "      <td>201.0</td>\n",
       "      <td>9.89</td>\n",
       "    </tr>\n",
       "    <tr>\n",
       "      <th>18451</th>\n",
       "      <td>156.0</td>\n",
       "      <td>0.00</td>\n",
       "      <td>153.0</td>\n",
       "      <td>0.00</td>\n",
       "    </tr>\n",
       "    <tr>\n",
       "      <th>18455</th>\n",
       "      <td>170.0</td>\n",
       "      <td>115.55</td>\n",
       "      <td>5.0</td>\n",
       "      <td>1158.42</td>\n",
       "    </tr>\n",
       "    <tr>\n",
       "      <th>18456</th>\n",
       "      <td>55.0</td>\n",
       "      <td>595.74</td>\n",
       "      <td>95.0</td>\n",
       "      <td>345.26</td>\n",
       "    </tr>\n",
       "    <tr>\n",
       "      <th>18457</th>\n",
       "      <td>111.0</td>\n",
       "      <td>302.37</td>\n",
       "      <td>144.0</td>\n",
       "      <td>192.83</td>\n",
       "    </tr>\n",
       "    <tr>\n",
       "      <th>18460</th>\n",
       "      <td>142.0</td>\n",
       "      <td>0.00</td>\n",
       "      <td>18.0</td>\n",
       "      <td>0.00</td>\n",
       "    </tr>\n",
       "    <tr>\n",
       "      <th>18461</th>\n",
       "      <td>29.0</td>\n",
       "      <td>0.00</td>\n",
       "      <td>28.0</td>\n",
       "      <td>0.00</td>\n",
       "    </tr>\n",
       "    <tr>\n",
       "      <th>18462</th>\n",
       "      <td>7.0</td>\n",
       "      <td>1099.28</td>\n",
       "      <td>5.0</td>\n",
       "      <td>1165.09</td>\n",
       "    </tr>\n",
       "    <tr>\n",
       "      <th>18463</th>\n",
       "      <td>100.0</td>\n",
       "      <td>0.00</td>\n",
       "      <td>116.0</td>\n",
       "      <td>0.00</td>\n",
       "    </tr>\n",
       "    <tr>\n",
       "      <th>18465</th>\n",
       "      <td>106.0</td>\n",
       "      <td>0.00</td>\n",
       "      <td>80.0</td>\n",
       "      <td>0.00</td>\n",
       "    </tr>\n",
       "    <tr>\n",
       "      <th>18475</th>\n",
       "      <td>31.0</td>\n",
       "      <td>794.25</td>\n",
       "      <td>47.0</td>\n",
       "      <td>678.31</td>\n",
       "    </tr>\n",
       "    <tr>\n",
       "      <th>18477</th>\n",
       "      <td>145.0</td>\n",
       "      <td>0.00</td>\n",
       "      <td>175.0</td>\n",
       "      <td>0.00</td>\n",
       "    </tr>\n",
       "    <tr>\n",
       "      <th>18478</th>\n",
       "      <td>104.0</td>\n",
       "      <td>304.53</td>\n",
       "      <td>90.0</td>\n",
       "      <td>356.97</td>\n",
       "    </tr>\n",
       "  </tbody>\n",
       "</table>\n",
       "<p>7392 rows × 4 columns</p>\n",
       "</div>"
      ],
      "text/plain": [
       "       rank_team1  total_points_team1  rank_team2  total_points_team2\n",
       "id                                                                   \n",
       "2            90.0              386.20        49.0              629.60\n",
       "3           103.0                0.00        18.0                0.00\n",
       "7            20.0                0.00         7.0                0.00\n",
       "9             5.0                0.00        67.0                0.00\n",
       "11           31.0                0.00        16.0                0.00\n",
       "21           64.0                0.00        69.0                0.00\n",
       "22          152.0                0.00       139.0                0.00\n",
       "28          175.0                0.00       182.0                0.00\n",
       "29          129.0              236.70       128.0              245.62\n",
       "30          122.0                0.00       139.0                0.00\n",
       "34           69.0              449.69       124.0              249.90\n",
       "35          161.0                0.00        34.0                0.00\n",
       "39           97.0              365.83       146.0              161.37\n",
       "43           92.0                0.00        85.0                0.00\n",
       "44          136.0                0.00       180.0                0.00\n",
       "50           53.0              575.68        24.0              831.14\n",
       "52          175.0                0.00        27.0                0.00\n",
       "53          103.0                0.00         8.0                0.00\n",
       "57          156.0                0.00       152.0                0.00\n",
       "58            7.0                0.00       150.0                0.00\n",
       "63           90.0                0.00       118.0                0.00\n",
       "64          106.0                0.00       116.0                0.00\n",
       "65           39.0              655.26        71.0              470.62\n",
       "66           16.0                0.00        26.0                0.00\n",
       "67          131.0                0.00       182.0                0.00\n",
       "69           79.0                0.00        33.0                0.00\n",
       "70           81.0                0.00        58.0                0.00\n",
       "78           51.0              601.39        82.0              458.07\n",
       "81          124.0              242.85        72.0              504.70\n",
       "82           17.0                0.00        20.0                0.00\n",
       "...           ...                 ...         ...                 ...\n",
       "18402        16.0                0.00        44.0                0.00\n",
       "18403         9.0                0.00         4.0                0.00\n",
       "18405        51.0                0.00         4.0                0.00\n",
       "18407       123.0                0.00       176.0                0.00\n",
       "18412        10.0             1079.24        23.0              838.05\n",
       "18413        31.0              757.03        10.0             1030.24\n",
       "18416        30.0                0.00        32.0                0.00\n",
       "18420        65.0                0.00       119.0                0.00\n",
       "18424        25.0                0.00         3.0                0.00\n",
       "18426         8.0             1052.62         1.0             1456.10\n",
       "18432        34.0                0.00        20.0                0.00\n",
       "18436        99.0                0.00        67.0                0.00\n",
       "18437       132.0                0.00        64.0                0.00\n",
       "18440       191.0                0.00       189.0                0.00\n",
       "18443        47.0                0.00        43.0                0.00\n",
       "18446        20.0                0.00       112.0                0.00\n",
       "18449        84.0                0.00       110.0                0.00\n",
       "18450       117.0              280.76       201.0                9.89\n",
       "18451       156.0                0.00       153.0                0.00\n",
       "18455       170.0              115.55         5.0             1158.42\n",
       "18456        55.0              595.74        95.0              345.26\n",
       "18457       111.0              302.37       144.0              192.83\n",
       "18460       142.0                0.00        18.0                0.00\n",
       "18461        29.0                0.00        28.0                0.00\n",
       "18462         7.0             1099.28         5.0             1165.09\n",
       "18463       100.0                0.00       116.0                0.00\n",
       "18465       106.0                0.00        80.0                0.00\n",
       "18475        31.0              794.25        47.0              678.31\n",
       "18477       145.0                0.00       175.0                0.00\n",
       "18478       104.0              304.53        90.0              356.97\n",
       "\n",
       "[7392 rows x 4 columns]"
      ]
     },
     "execution_count": 54,
     "metadata": {},
     "output_type": "execute_result"
    }
   ],
   "source": [
    "#Checking the preprocessed data\n",
    "training_data\n",
    "test_data"
   ]
  },
  {
   "cell_type": "markdown",
   "metadata": {},
   "source": [
    "# Pemodelan (RandomForestClassifier)"
   ]
  },
  {
   "cell_type": "markdown",
   "metadata": {},
   "source": [
    "Pada pemodelan kali ini digunakan algoritma RandomForestClassifier. Algoritma ini bekerja dengan menggunakan berbagai decision trees dengan tujuan menciptakan model yang stabil dan memiliki variansi yang rendah"
   ]
  },
  {
   "cell_type": "code",
   "execution_count": 7,
   "metadata": {},
   "outputs": [],
   "source": [
    "#Construct a classifier obj\n",
    "from sklearn.ensemble import RandomForestClassifier\n",
    "\n",
    "forest_reg = RandomForestClassifier()"
   ]
  },
  {
   "cell_type": "code",
   "execution_count": 8,
   "metadata": {},
   "outputs": [
    {
     "data": {
      "text/plain": [
       "0.9516550915486606"
      ]
     },
     "execution_count": 8,
     "metadata": {},
     "output_type": "execute_result"
    }
   ],
   "source": [
    "#Untuk Mencari parameter terbaik digunakan RandomizedSearchCV\n",
    "from sklearn.model_selection import RandomizedSearchCV\n",
    "from scipy.stats import randint\n",
    "\n",
    "param_for =  { 'n_estimators': randint(low=1, high=200),'max_features': randint(low=1, high=2)}\n",
    "clf = RandomizedSearchCV(forest_reg,param_for,cv=10,n_iter=20,return_train_score=True,error_score='raise')\n",
    "clf.fit(train_set_X,train_set_Y)"
   ]
  },
  {
   "cell_type": "code",
   "execution_count": 9,
   "metadata": {},
   "outputs": [
    {
     "data": {
      "text/plain": [
       "{'max_features': 1, 'n_estimators': 178}"
      ]
     },
     "execution_count": 9,
     "metadata": {},
     "output_type": "execute_result"
    }
   ],
   "source": [
    "clf.best_params_"
   ]
  },
  {
   "cell_type": "code",
   "execution_count": 14,
   "metadata": {},
   "outputs": [],
   "source": [
    "from sklearn.model_selection import train_test_split\n",
    "X_train, X_test, y_train, y_test = train_test_split(train_set_X, train_set_Y, test_size=0.3, random_state=1)"
   ]
  },
  {
   "cell_type": "code",
   "execution_count": 15,
   "metadata": {},
   "outputs": [
    {
     "data": {
      "text/plain": [
       "0.948840206185567"
      ]
     },
     "execution_count": 15,
     "metadata": {},
     "output_type": "execute_result"
    }
   ],
   "source": [
    "clf.score(X_train,y_train)"
   ]
  },
  {
   "cell_type": "code",
   "execution_count": 16,
   "metadata": {
    "scrolled": true
   },
   "outputs": [
    {
     "data": {
      "text/plain": [
       "0.9582206191764352"
      ]
     },
     "execution_count": 16,
     "metadata": {},
     "output_type": "execute_result"
    }
   ],
   "source": [
    "clf.score(X_test,y_test)"
   ]
  },
  {
   "cell_type": "code",
   "execution_count": 12,
   "metadata": {},
   "outputs": [],
   "source": [
    "prediction = clf.predict(test_data)\n",
    "submission_LogReg = pd.DataFrame(test_data,columns = ['is_team1_won'],)\n",
    "submission_LogReg['is_team1_won'] = prediction\n",
    "submission_LogReg.to_csv('SubmissionForrest.csv')"
   ]
  },
  {
   "cell_type": "code",
   "execution_count": null,
   "metadata": {},
   "outputs": [],
   "source": []
  },
  {
   "cell_type": "markdown",
   "metadata": {},
   "source": [
    "# Pemodelan (SGDClassifier)"
   ]
  },
  {
   "cell_type": "markdown",
   "metadata": {},
   "source": [
    "Pada pemodelan kali ini digunakan algoritma RandomForestRegressor. Algoritma ini bekerja dengan menggunakan berbagai decision trees dengan tujuan menciptakan model yang stabil dan memiliki variansi yang rendah"
   ]
  },
  {
   "cell_type": "code",
   "execution_count": 98,
   "metadata": {},
   "outputs": [],
   "source": [
    "#Construct a regressor obj\n",
    "from sklearn.linear_model import SGDClassifier\n",
    "from sklearn.svm import LinearSVC\n",
    "from sklearn.feature_selection import SelectFromModel\n",
    "from sklearn.pipeline import Pipeline\n",
    "\n",
    "sgd_clf = SGDClassifier(n_jobs = -1, max_iter=10000000, tol=1e-3, random_state=1, loss = \"log\")"
   ]
  },
  {
   "cell_type": "code",
   "execution_count": 99,
   "metadata": {},
   "outputs": [
    {
     "data": {
      "text/plain": [
       "Pipeline(memory=None,\n",
       "     steps=[('feature_selection', SelectFromModel(estimator=SGDClassifier(alpha=0.0001, average=False, class_weight=None,\n",
       "       early_stopping=False, epsilon=0.1, eta0=0.0, fit_intercept=True,\n",
       "       l1_ratio=0.15, learning_rate='optimal', loss='log',\n",
       "       max_iter=10000000, n_iter=None, n_iter_no_cha...dom_state=1, shuffle=True, tol=0.001,\n",
       "       validation_fraction=0.1, verbose=0, warm_start=False))])"
      ]
     },
     "execution_count": 99,
     "metadata": {},
     "output_type": "execute_result"
    }
   ],
   "source": [
    "clf = Pipeline([\n",
    "  ('feature_selection', SelectFromModel(sgd_clf)),\n",
    "  ('classification', sgd_clf)\n",
    "])\n",
    "clf.fit(train_set_X, train_set_Y)"
   ]
  },
  {
   "cell_type": "code",
   "execution_count": 100,
   "metadata": {},
   "outputs": [],
   "source": [
    "from sklearn.model_selection import train_test_split\n",
    "X_train, X_test, y_train, y_test = train_test_split(train_set_X, train_set_Y, test_size=0.3, random_state=1)"
   ]
  },
  {
   "cell_type": "code",
   "execution_count": 101,
   "metadata": {},
   "outputs": [
    {
     "data": {
      "text/plain": [
       "0.5152061855670103"
      ]
     },
     "execution_count": 101,
     "metadata": {},
     "output_type": "execute_result"
    }
   ],
   "source": [
    "clf.score(X_train,y_train)"
   ]
  },
  {
   "cell_type": "code",
   "execution_count": 102,
   "metadata": {
    "scrolled": true
   },
   "outputs": [
    {
     "data": {
      "text/plain": [
       "0.5169822663059813"
      ]
     },
     "execution_count": 102,
     "metadata": {},
     "output_type": "execute_result"
    }
   ],
   "source": [
    "clf.score(X_test,y_test)"
   ]
  },
  {
   "cell_type": "code",
   "execution_count": null,
   "metadata": {},
   "outputs": [],
   "source": []
  }
 ],
 "metadata": {
  "kernelspec": {
   "display_name": "Python 3",
   "language": "python",
   "name": "python3"
  },
  "language_info": {
   "codemirror_mode": {
    "name": "ipython",
    "version": 3
   },
   "file_extension": ".py",
   "mimetype": "text/x-python",
   "name": "python",
   "nbconvert_exporter": "python",
   "pygments_lexer": "ipython3",
   "version": "3.7.1"
  }
 },
 "nbformat": 4,
 "nbformat_minor": 2
}
