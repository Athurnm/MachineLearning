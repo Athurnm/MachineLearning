{
 "cells": [
  {
   "cell_type": "markdown",
   "metadata": {},
   "source": [
    "# Setup Awal"
   ]
  },
  {
   "cell_type": "markdown",
   "metadata": {},
   "source": [
    "Berbagai library yang umumnya akan kita gunakan, kita panggil dari awal"
   ]
  },
  {
   "cell_type": "code",
   "execution_count": 1,
   "metadata": {},
   "outputs": [],
   "source": [
    "import sklearn\n",
    "import math\n",
    "import numpy as np\n",
    "import pandas as pd"
   ]
  },
  {
   "cell_type": "code",
   "execution_count": 2,
   "metadata": {},
   "outputs": [],
   "source": [
    "# Python ≥3.5 is required\n",
    "import sys\n",
    "assert sys.version_info >= (3, 5)\n",
    "\n",
    "# Common imports\n",
    "import numpy as np\n",
    "import os\n",
    "\n",
    "# to make this notebook's output stable across runs\n",
    "np.random.seed(42)\n",
    "\n",
    "# To plot pretty figures\n",
    "%matplotlib inline\n",
    "import matplotlib as mpl\n",
    "import matplotlib.pyplot as plt\n",
    "mpl.rc('axes', labelsize=14)\n",
    "mpl.rc('xtick', labelsize=12)\n",
    "mpl.rc('ytick', labelsize=12)\n",
    "\n",
    "# Ignore useless warnings (see SciPy issue #5998)\n",
    "import warnings\n",
    "warnings.filterwarnings(action=\"ignore\", message=\"^internal gelsd\")"
   ]
  },
  {
   "cell_type": "markdown",
   "metadata": {},
   "source": [
    "# Input Data"
   ]
  },
  {
   "cell_type": "markdown",
   "metadata": {},
   "source": [
    "Untuk mengambil dataset, disiapkan dari file csv yang sudah disediakan dan membentuk moonset dataset"
   ]
  },
  {
   "cell_type": "code",
   "execution_count": 3,
   "metadata": {},
   "outputs": [],
   "source": [
    "# Import training data from csv and cleaning the data\n",
    "training_data = pd.read_csv('el4233-2018-2019-02-klasifikasi-train.csv',index_col=0)\n",
    "test_data = pd.read_csv('el4233-2018-2019-02-klasifikasi-test.csv',index_col=0)"
   ]
  },
  {
   "cell_type": "code",
   "execution_count": 5,
   "metadata": {},
   "outputs": [],
   "source": [
    "#Split to corresponding X0,X1 and Y\n",
    "train_set_X = training_data.drop(['Y'],axis=1)\n",
    "train_set_Y = training_data['Y']\n",
    "#valid_set_X = valid_set.drop(['Y','No'],axis=1)\n",
    "#valid_set_Y = valid_set['Y']"
   ]
  },
  {
   "cell_type": "code",
   "execution_count": 6,
   "metadata": {},
   "outputs": [
    {
     "data": {
      "text/html": [
       "<div>\n",
       "<style scoped>\n",
       "    .dataframe tbody tr th:only-of-type {\n",
       "        vertical-align: middle;\n",
       "    }\n",
       "\n",
       "    .dataframe tbody tr th {\n",
       "        vertical-align: top;\n",
       "    }\n",
       "\n",
       "    .dataframe thead th {\n",
       "        text-align: right;\n",
       "    }\n",
       "</style>\n",
       "<table border=\"1\" class=\"dataframe\">\n",
       "  <thead>\n",
       "    <tr style=\"text-align: right;\">\n",
       "      <th></th>\n",
       "      <th>X0</th>\n",
       "      <th>X1</th>\n",
       "    </tr>\n",
       "    <tr>\n",
       "      <th>No</th>\n",
       "      <th></th>\n",
       "      <th></th>\n",
       "    </tr>\n",
       "  </thead>\n",
       "  <tbody>\n",
       "    <tr>\n",
       "      <th>1000</th>\n",
       "      <td>1.030522</td>\n",
       "      <td>0.892364</td>\n",
       "    </tr>\n",
       "    <tr>\n",
       "      <th>1001</th>\n",
       "      <td>1.318739</td>\n",
       "      <td>-0.498590</td>\n",
       "    </tr>\n",
       "    <tr>\n",
       "      <th>1002</th>\n",
       "      <td>1.210100</td>\n",
       "      <td>0.498914</td>\n",
       "    </tr>\n",
       "    <tr>\n",
       "      <th>1003</th>\n",
       "      <td>-0.644977</td>\n",
       "      <td>1.346281</td>\n",
       "    </tr>\n",
       "    <tr>\n",
       "      <th>1004</th>\n",
       "      <td>0.042483</td>\n",
       "      <td>0.550473</td>\n",
       "    </tr>\n",
       "    <tr>\n",
       "      <th>1005</th>\n",
       "      <td>-0.886007</td>\n",
       "      <td>0.899231</td>\n",
       "    </tr>\n",
       "    <tr>\n",
       "      <th>1006</th>\n",
       "      <td>0.808737</td>\n",
       "      <td>-0.280190</td>\n",
       "    </tr>\n",
       "    <tr>\n",
       "      <th>1007</th>\n",
       "      <td>0.998703</td>\n",
       "      <td>0.231264</td>\n",
       "    </tr>\n",
       "    <tr>\n",
       "      <th>1008</th>\n",
       "      <td>1.839213</td>\n",
       "      <td>0.062754</td>\n",
       "    </tr>\n",
       "    <tr>\n",
       "      <th>1009</th>\n",
       "      <td>0.414872</td>\n",
       "      <td>1.454819</td>\n",
       "    </tr>\n",
       "    <tr>\n",
       "      <th>1010</th>\n",
       "      <td>1.034116</td>\n",
       "      <td>0.681630</td>\n",
       "    </tr>\n",
       "    <tr>\n",
       "      <th>1011</th>\n",
       "      <td>0.689122</td>\n",
       "      <td>-0.417326</td>\n",
       "    </tr>\n",
       "    <tr>\n",
       "      <th>1012</th>\n",
       "      <td>0.091345</td>\n",
       "      <td>0.383053</td>\n",
       "    </tr>\n",
       "    <tr>\n",
       "      <th>1013</th>\n",
       "      <td>-1.213295</td>\n",
       "      <td>0.670943</td>\n",
       "    </tr>\n",
       "    <tr>\n",
       "      <th>1014</th>\n",
       "      <td>0.455126</td>\n",
       "      <td>-0.090785</td>\n",
       "    </tr>\n",
       "    <tr>\n",
       "      <th>1015</th>\n",
       "      <td>1.201385</td>\n",
       "      <td>0.000165</td>\n",
       "    </tr>\n",
       "    <tr>\n",
       "      <th>1016</th>\n",
       "      <td>-0.618245</td>\n",
       "      <td>0.707295</td>\n",
       "    </tr>\n",
       "    <tr>\n",
       "      <th>1017</th>\n",
       "      <td>1.794065</td>\n",
       "      <td>-0.164296</td>\n",
       "    </tr>\n",
       "    <tr>\n",
       "      <th>1018</th>\n",
       "      <td>1.306753</td>\n",
       "      <td>0.688382</td>\n",
       "    </tr>\n",
       "    <tr>\n",
       "      <th>1019</th>\n",
       "      <td>0.987622</td>\n",
       "      <td>0.308359</td>\n",
       "    </tr>\n",
       "    <tr>\n",
       "      <th>1020</th>\n",
       "      <td>2.042701</td>\n",
       "      <td>0.301285</td>\n",
       "    </tr>\n",
       "    <tr>\n",
       "      <th>1021</th>\n",
       "      <td>0.700648</td>\n",
       "      <td>1.395533</td>\n",
       "    </tr>\n",
       "    <tr>\n",
       "      <th>1022</th>\n",
       "      <td>1.064990</td>\n",
       "      <td>0.418018</td>\n",
       "    </tr>\n",
       "    <tr>\n",
       "      <th>1023</th>\n",
       "      <td>1.658129</td>\n",
       "      <td>-0.330109</td>\n",
       "    </tr>\n",
       "    <tr>\n",
       "      <th>1024</th>\n",
       "      <td>0.023851</td>\n",
       "      <td>0.294368</td>\n",
       "    </tr>\n",
       "    <tr>\n",
       "      <th>1025</th>\n",
       "      <td>0.596702</td>\n",
       "      <td>1.211894</td>\n",
       "    </tr>\n",
       "    <tr>\n",
       "      <th>1026</th>\n",
       "      <td>0.455377</td>\n",
       "      <td>-0.221332</td>\n",
       "    </tr>\n",
       "    <tr>\n",
       "      <th>1027</th>\n",
       "      <td>0.851786</td>\n",
       "      <td>1.111942</td>\n",
       "    </tr>\n",
       "    <tr>\n",
       "      <th>1028</th>\n",
       "      <td>-0.135595</td>\n",
       "      <td>1.046369</td>\n",
       "    </tr>\n",
       "    <tr>\n",
       "      <th>1029</th>\n",
       "      <td>-0.080430</td>\n",
       "      <td>1.637697</td>\n",
       "    </tr>\n",
       "    <tr>\n",
       "      <th>...</th>\n",
       "      <td>...</td>\n",
       "      <td>...</td>\n",
       "    </tr>\n",
       "    <tr>\n",
       "      <th>1970</th>\n",
       "      <td>1.550078</td>\n",
       "      <td>0.227779</td>\n",
       "    </tr>\n",
       "    <tr>\n",
       "      <th>1971</th>\n",
       "      <td>-0.402433</td>\n",
       "      <td>1.247790</td>\n",
       "    </tr>\n",
       "    <tr>\n",
       "      <th>1972</th>\n",
       "      <td>0.162570</td>\n",
       "      <td>1.482213</td>\n",
       "    </tr>\n",
       "    <tr>\n",
       "      <th>1973</th>\n",
       "      <td>1.478819</td>\n",
       "      <td>-0.433250</td>\n",
       "    </tr>\n",
       "    <tr>\n",
       "      <th>1974</th>\n",
       "      <td>-0.926446</td>\n",
       "      <td>1.112851</td>\n",
       "    </tr>\n",
       "    <tr>\n",
       "      <th>1975</th>\n",
       "      <td>1.510945</td>\n",
       "      <td>-0.247273</td>\n",
       "    </tr>\n",
       "    <tr>\n",
       "      <th>1976</th>\n",
       "      <td>1.125564</td>\n",
       "      <td>0.732670</td>\n",
       "    </tr>\n",
       "    <tr>\n",
       "      <th>1977</th>\n",
       "      <td>1.124036</td>\n",
       "      <td>0.247590</td>\n",
       "    </tr>\n",
       "    <tr>\n",
       "      <th>1978</th>\n",
       "      <td>-0.106507</td>\n",
       "      <td>1.353781</td>\n",
       "    </tr>\n",
       "    <tr>\n",
       "      <th>1979</th>\n",
       "      <td>0.719062</td>\n",
       "      <td>-0.133476</td>\n",
       "    </tr>\n",
       "    <tr>\n",
       "      <th>1980</th>\n",
       "      <td>0.235495</td>\n",
       "      <td>1.376559</td>\n",
       "    </tr>\n",
       "    <tr>\n",
       "      <th>1981</th>\n",
       "      <td>0.800804</td>\n",
       "      <td>1.066887</td>\n",
       "    </tr>\n",
       "    <tr>\n",
       "      <th>1982</th>\n",
       "      <td>0.891334</td>\n",
       "      <td>-0.428375</td>\n",
       "    </tr>\n",
       "    <tr>\n",
       "      <th>1983</th>\n",
       "      <td>-0.033005</td>\n",
       "      <td>0.980116</td>\n",
       "    </tr>\n",
       "    <tr>\n",
       "      <th>1984</th>\n",
       "      <td>0.696512</td>\n",
       "      <td>-0.402091</td>\n",
       "    </tr>\n",
       "    <tr>\n",
       "      <th>1985</th>\n",
       "      <td>0.278456</td>\n",
       "      <td>0.404542</td>\n",
       "    </tr>\n",
       "    <tr>\n",
       "      <th>1986</th>\n",
       "      <td>0.174962</td>\n",
       "      <td>1.388266</td>\n",
       "    </tr>\n",
       "    <tr>\n",
       "      <th>1987</th>\n",
       "      <td>2.184243</td>\n",
       "      <td>-0.395347</td>\n",
       "    </tr>\n",
       "    <tr>\n",
       "      <th>1988</th>\n",
       "      <td>1.284570</td>\n",
       "      <td>-0.554872</td>\n",
       "    </tr>\n",
       "    <tr>\n",
       "      <th>1989</th>\n",
       "      <td>0.952924</td>\n",
       "      <td>1.177230</td>\n",
       "    </tr>\n",
       "    <tr>\n",
       "      <th>1990</th>\n",
       "      <td>1.759115</td>\n",
       "      <td>-0.147296</td>\n",
       "    </tr>\n",
       "    <tr>\n",
       "      <th>1991</th>\n",
       "      <td>0.213906</td>\n",
       "      <td>0.813885</td>\n",
       "    </tr>\n",
       "    <tr>\n",
       "      <th>1992</th>\n",
       "      <td>0.428816</td>\n",
       "      <td>0.230378</td>\n",
       "    </tr>\n",
       "    <tr>\n",
       "      <th>1993</th>\n",
       "      <td>1.672197</td>\n",
       "      <td>-0.547969</td>\n",
       "    </tr>\n",
       "    <tr>\n",
       "      <th>1994</th>\n",
       "      <td>-0.767601</td>\n",
       "      <td>1.424367</td>\n",
       "    </tr>\n",
       "    <tr>\n",
       "      <th>1995</th>\n",
       "      <td>-0.643106</td>\n",
       "      <td>1.041301</td>\n",
       "    </tr>\n",
       "    <tr>\n",
       "      <th>1996</th>\n",
       "      <td>0.519910</td>\n",
       "      <td>0.030210</td>\n",
       "    </tr>\n",
       "    <tr>\n",
       "      <th>1997</th>\n",
       "      <td>1.297644</td>\n",
       "      <td>-0.190436</td>\n",
       "    </tr>\n",
       "    <tr>\n",
       "      <th>1998</th>\n",
       "      <td>0.225894</td>\n",
       "      <td>1.116991</td>\n",
       "    </tr>\n",
       "    <tr>\n",
       "      <th>1999</th>\n",
       "      <td>0.031786</td>\n",
       "      <td>1.657164</td>\n",
       "    </tr>\n",
       "  </tbody>\n",
       "</table>\n",
       "<p>1000 rows × 2 columns</p>\n",
       "</div>"
      ],
      "text/plain": [
       "            X0        X1\n",
       "No                      \n",
       "1000  1.030522  0.892364\n",
       "1001  1.318739 -0.498590\n",
       "1002  1.210100  0.498914\n",
       "1003 -0.644977  1.346281\n",
       "1004  0.042483  0.550473\n",
       "1005 -0.886007  0.899231\n",
       "1006  0.808737 -0.280190\n",
       "1007  0.998703  0.231264\n",
       "1008  1.839213  0.062754\n",
       "1009  0.414872  1.454819\n",
       "1010  1.034116  0.681630\n",
       "1011  0.689122 -0.417326\n",
       "1012  0.091345  0.383053\n",
       "1013 -1.213295  0.670943\n",
       "1014  0.455126 -0.090785\n",
       "1015  1.201385  0.000165\n",
       "1016 -0.618245  0.707295\n",
       "1017  1.794065 -0.164296\n",
       "1018  1.306753  0.688382\n",
       "1019  0.987622  0.308359\n",
       "1020  2.042701  0.301285\n",
       "1021  0.700648  1.395533\n",
       "1022  1.064990  0.418018\n",
       "1023  1.658129 -0.330109\n",
       "1024  0.023851  0.294368\n",
       "1025  0.596702  1.211894\n",
       "1026  0.455377 -0.221332\n",
       "1027  0.851786  1.111942\n",
       "1028 -0.135595  1.046369\n",
       "1029 -0.080430  1.637697\n",
       "...        ...       ...\n",
       "1970  1.550078  0.227779\n",
       "1971 -0.402433  1.247790\n",
       "1972  0.162570  1.482213\n",
       "1973  1.478819 -0.433250\n",
       "1974 -0.926446  1.112851\n",
       "1975  1.510945 -0.247273\n",
       "1976  1.125564  0.732670\n",
       "1977  1.124036  0.247590\n",
       "1978 -0.106507  1.353781\n",
       "1979  0.719062 -0.133476\n",
       "1980  0.235495  1.376559\n",
       "1981  0.800804  1.066887\n",
       "1982  0.891334 -0.428375\n",
       "1983 -0.033005  0.980116\n",
       "1984  0.696512 -0.402091\n",
       "1985  0.278456  0.404542\n",
       "1986  0.174962  1.388266\n",
       "1987  2.184243 -0.395347\n",
       "1988  1.284570 -0.554872\n",
       "1989  0.952924  1.177230\n",
       "1990  1.759115 -0.147296\n",
       "1991  0.213906  0.813885\n",
       "1992  0.428816  0.230378\n",
       "1993  1.672197 -0.547969\n",
       "1994 -0.767601  1.424367\n",
       "1995 -0.643106  1.041301\n",
       "1996  0.519910  0.030210\n",
       "1997  1.297644 -0.190436\n",
       "1998  0.225894  1.116991\n",
       "1999  0.031786  1.657164\n",
       "\n",
       "[1000 rows x 2 columns]"
      ]
     },
     "execution_count": 6,
     "metadata": {},
     "output_type": "execute_result"
    }
   ],
   "source": [
    "#Checking the preprocessed data\n",
    "training_data\n",
    "test_data"
   ]
  },
  {
   "cell_type": "markdown",
   "metadata": {},
   "source": [
    "# Plot dataset"
   ]
  },
  {
   "cell_type": "markdown",
   "metadata": {},
   "source": [
    "Untuk mengetahui bagaimana sifat,hubungan tiap fitur, dan persebaran data diperlukan terlebih dahulu dipetakan gambarnya"
   ]
  },
  {
   "cell_type": "code",
   "execution_count": 7,
   "metadata": {
    "scrolled": true
   },
   "outputs": [
    {
     "data": {
      "image/png": "[encoded data removed]",
      "text/plain": [
       "<Figure size 720x288 with 1 Axes>"
      ]
     },
     "metadata": {
      "needs_background": "light"
     },
     "output_type": "display_data"
    }
   ],
   "source": [
    "# reset plot\n",
    "plt.close('all')\n",
    "\n",
    "plt.figure(figsize=(10, 4))\n",
    "\n",
    "is_0 = training_data['Y'] == 0\n",
    "is_1 = training_data['Y'] == 1\n",
    "training_is_0 = training_data[is_0]\n",
    "training_is_1 = training_data[is_1]\n",
    "\n",
    "plt.plot(training_is_0['X0'],training_is_0['X1'],\"bs\")\n",
    "plt.plot(training_is_1['X0'],training_is_1['X1'],\"g^\")\n",
    "plt.text(2, 1.5, \"Not something\", fontsize=14, color='b',ha=\"center\")\n",
    "plt.text(-0.7, 0.0, \"is something\", fontsize=14, color='g',ha=\"center\")\n",
    "plt.xlabel(\"X0\", fontsize=14)\n",
    "plt.ylabel(\"X1\", fontsize=14)\n",
    "plt.axis([-1.7, 2.56, -1, 2.0])\n",
    "plt.show()"
   ]
  },
  {
   "cell_type": "markdown",
   "metadata": {},
   "source": [
    "# Pemodelan (Logarithmic Regression)"
   ]
  },
  {
   "cell_type": "markdown",
   "metadata": {},
   "source": [
    "Dikarenakan algoritma yang akan digunakan adalah logisticRegresion sementara terdapat kasus yang tidak linearry separable maka perlu ditambahkan fitur"
   ]
  },
  {
   "cell_type": "code",
   "execution_count": 8,
   "metadata": {},
   "outputs": [],
   "source": [
    "from sklearn.svm import SVC\n",
    "\n",
    "params = {'kernel':'poly','gamma':'scale'}\n",
    "svm_clf = SVC(**params)"
   ]
  },
  {
   "cell_type": "code",
   "execution_count": 9,
   "metadata": {},
   "outputs": [
    {
     "data": {
      "text/plain": [
       "RandomizedSearchCV(cv=10, error_score='raise',\n",
       "          estimator=SVC(C=1.0, cache_size=200, class_weight=None, coef0=0.0,\n",
       "  decision_function_shape='ovr', degree=3, gamma='scale', kernel='poly',\n",
       "  max_iter=-1, probability=False, random_state=None, shrinking=True,\n",
       "  tol=0.001, verbose=False),\n",
       "          fit_params=None, iid='warn', n_iter=20, n_jobs=None,\n",
       "          param_distributions={'degree': <scipy.stats._distn_infrastructure.rv_frozen object at 0x0000014D411B1BA8>, 'C': <scipy.stats._distn_infrastructure.rv_frozen object at 0x0000014D411B1C18>, 'coef0': <scipy.stats._distn_infrastructure.rv_frozen object at 0x0000014D411B1DD8>},\n",
       "          pre_dispatch='2*n_jobs', random_state=None, refit=True,\n",
       "          return_train_score=True, scoring='neg_mean_squared_error',\n",
       "          verbose=0)"
      ]
     },
     "execution_count": 9,
     "metadata": {},
     "output_type": "execute_result"
    }
   ],
   "source": [
    "#Untuk Mencari parameter terbaik digunakan RandomizedSearchCV\n",
    "from sklearn.model_selection import RandomizedSearchCV\n",
    "from scipy.stats import randint\n",
    "\n",
    "param_grid =  { 'degree': randint(low=1,high=10), 'C': randint(low=1,high=10), 'coef0': randint(low=0.5,high=2)}\n",
    "\n",
    "clf = RandomizedSearchCV(svm_clf,param_grid,cv=10,n_iter=20,scoring='neg_mean_squared_error', return_train_score=True,error_score='raise')\n",
    "clf.fit(train_set_X,train_set_Y)\n"
   ]
  },
  {
   "cell_type": "code",
   "execution_count": 18,
   "metadata": {},
   "outputs": [
    {
     "data": {
      "text/plain": [
       "{'C': 9, 'coef0': 1, 'degree': 5}"
      ]
     },
     "execution_count": 18,
     "metadata": {},
     "output_type": "execute_result"
    }
   ],
   "source": [
    "clf.best_params_"
   ]
  },
  {
   "cell_type": "code",
   "execution_count": 11,
   "metadata": {},
   "outputs": [],
   "source": [
    "prediction = clf.predict(test_data)\n",
    "submission_LogReg = pd.DataFrame(test_data,columns = ['X0','X1','prediksi'],)\n",
    "submission_LogReg['prediksi'] = prediction\n",
    "submission_LogReg.to_csv('SubmissionAwal')"
   ]
  },
  {
   "cell_type": "markdown",
   "metadata": {},
   "source": [
    "# Pemodelan (RandomForestRegressor)"
   ]
  },
  {
   "cell_type": "markdown",
   "metadata": {},
   "source": [
    "Pada pemodelan kali ini digunakan algoritma RandomForestRegressor. Algoritma ini bekerja dengan menggunakan berbagai decision trees dengan tujuan menciptakan model yang stabil dan memiliki variansi yang rendah"
   ]
  },
  {
   "cell_type": "code",
   "execution_count": 20,
   "metadata": {},
   "outputs": [],
   "source": [
    "#Construct a regressor obj\n",
    "from sklearn.ensemble import RandomForestRegressor\n",
    "\n",
    "forest_reg = RandomForestRegressor()"
   ]
  },
  {
   "cell_type": "code",
   "execution_count": 22,
   "metadata": {},
   "outputs": [
    {
     "data": {
      "text/plain": [
       "RandomizedSearchCV(cv=10, error_score='raise',\n",
       "          estimator=RandomForestRegressor(bootstrap=True, criterion='mse', max_depth=None,\n",
       "           max_features='auto', max_leaf_nodes=None,\n",
       "           min_impurity_decrease=0.0, min_impurity_split=None,\n",
       "           min_samples_leaf=1, min_samples_split=2,\n",
       "           min_weight_fraction_leaf=0.0, n_estimators='warn', n_jobs=None,\n",
       "           oob_score=False, random_state=None, verbose=0, warm_start=False),\n",
       "          fit_params=None, iid='warn', n_iter=20, n_jobs=None,\n",
       "          param_distributions={'n_estimators': <scipy.stats._distn_infrastructure.rv_frozen object at 0x0000014D4138D9B0>, 'max_features': <scipy.stats._distn_infrastructure.rv_frozen object at 0x0000014D413C72B0>},\n",
       "          pre_dispatch='2*n_jobs', random_state=None, refit=True,\n",
       "          return_train_score=True, scoring='neg_mean_squared_error',\n",
       "          verbose=0)"
      ]
     },
     "execution_count": 22,
     "metadata": {},
     "output_type": "execute_result"
    }
   ],
   "source": [
    "#Untuk Mencari parameter terbaik digunakan RandomizedSearchCV\n",
    "from sklearn.model_selection import RandomizedSearchCV\n",
    "from scipy.stats import randint\n",
    "\n",
    "param_for =  { 'n_estimators': randint(low=1, high=200),'max_features': randint(low=1, high=2)}\n",
    "clf = RandomizedSearchCV(forest_reg,param_for,cv=10,n_iter=20,scoring='neg_mean_squared_error', return_train_score=True,error_score='raise')\n",
    "clf.fit(train_set_X,train_set_Y)\n"
   ]
  },
  {
   "cell_type": "code",
   "execution_count": 18,
   "metadata": {},
   "outputs": [
    {
     "data": {
      "text/plain": [
       "{'C': 9, 'coef0': 1, 'degree': 5}"
      ]
     },
     "execution_count": 18,
     "metadata": {},
     "output_type": "execute_result"
    }
   ],
   "source": [
    "clf.best_params_"
   ]
  },
  {
   "cell_type": "code",
   "execution_count": 23,
   "metadata": {},
   "outputs": [],
   "source": [
    "prediction = clf.predict(test_data)\n",
    "submission_LogReg = pd.DataFrame(test_data,columns = ['X0','X1','prediksi'],)\n",
    "submission_LogReg['prediksi'] = prediction\n",
    "submission_LogReg.to_csv('SubmissionForrest')"
   ]
  },
  {
   "cell_type": "markdown",
   "metadata": {},
   "source": [
    "#  Additional Information"
   ]
  },
  {
   "cell_type": "code",
   "execution_count": 13,
   "metadata": {},
   "outputs": [],
   "source": [
    "# Agar Bisa Diuji dilakukan menggunakan library bawaan cross_val_score\n",
    "from sklearn.model_selection import cross_val_score\n",
    "\n",
    "scores = cross_val_score(\n",
    "                        svm_clf, \n",
    "                        train_set_X, \n",
    "                        train_set_Y,\n",
    "                        scoring=\"neg_mean_squared_error\", cv=10)\n",
    "rmse_scores = np.sqrt(-scores)"
   ]
  },
  {
   "cell_type": "code",
   "execution_count": 14,
   "metadata": {},
   "outputs": [],
   "source": [
    "def display_scores(scores):\n",
    "     print(\"Scores:\", scores)\n",
    "     print(\"Mean:\", scores.mean())\n",
    "     print(\"Standard deviation:\", scores.std())"
   ]
  },
  {
   "cell_type": "code",
   "execution_count": 15,
   "metadata": {
    "scrolled": true
   },
   "outputs": [
    {
     "name": "stdout",
     "output_type": "stream",
     "text": [
      "Scores: [0.34469099 0.24373334 0.28143902 0.33166248 0.2        0.26457513\n",
      " 0.2        0.33333333 0.26590801 0.24618298]\n",
      "Mean: 0.27115252879488416\n",
      "Standard deviation: 0.049611537246788615\n"
     ]
    }
   ],
   "source": [
    "display_scores(rmse_scores)"
   ]
  },
  {
   "cell_type": "code",
   "execution_count": null,
   "metadata": {},
   "outputs": [],
   "source": []
  }
 ],
 "metadata": {
  "kernelspec": {
   "display_name": "Python 3",
   "language": "python",
   "name": "python3"
  },
  "language_info": {
   "codemirror_mode": {
    "name": "ipython",
    "version": 3
   },
   "file_extension": ".py",
   "mimetype": "text/x-python",
   "name": "python",
   "nbconvert_exporter": "python",
   "pygments_lexer": "ipython3",
   "version": "3.7.1"
  }
 },
 "nbformat": 4,
 "nbformat_minor": 2
}
