{
  "nbformat": 4,
  "nbformat_minor": 0,
  "metadata": {
    "colab": {
      "name": "Text_Classification.ipynb",
      "version": "0.3.2",
      "provenance": [],
      "collapsed_sections": [],
      "include_colab_link": true
    },
    "kernelspec": {
      "name": "python3",
      "display_name": "Python 3"
    },
    "accelerator": "GPU"
  },
  "cells": [
    {
      "cell_type": "markdown",
      "metadata": {
        "id": "view-in-github",
        "colab_type": "text"
      },
      "source": [
        "<a href=\"https://colab.research.google.com/github/Athurnm/MachineLearning/blob/master/NLP_Text_Classification_RNN_FF_Keras.ipynb\" target=\"_parent\"><img src=\"https://colab.research.google.com/assets/colab-badge.svg\" alt=\"Open In Colab\"/></a>"
      ]
    },
    {
      "cell_type": "code",
      "metadata": {
        "id": "Hf0fdVllpO_J",
        "colab_type": "code",
        "outputId": "381cb73a-d95d-4a14-f58f-a2b5a4e471f1",
        "colab": {
          "base_uri": "https://localhost:8080/",
          "height": 853
        }
      },
      "source": [
        "# Importing Dependencies\n",
        "# Using Recurrent neural network\n",
        "from keras.models import Sequential\n",
        "from keras.layers import Dense, LSTM, Dropout, Embedding, SpatialDropout1D\n",
        "from keras.callbacks import EarlyStopping\n",
        "from sklearn.model_selection import train_test_split\n",
        "import numpy as np\n",
        "\n",
        "# Install for saving model\n",
        "!pip install h5py pyyaml\n",
        "!pip install tf_nightly"
      ],
      "execution_count": 6,
      "outputs": [
        {
          "output_type": "stream",
          "text": [
            "Requirement already satisfied: h5py in /usr/local/lib/python3.6/dist-packages (2.8.0)\n",
            "Requirement already satisfied: pyyaml in /usr/local/lib/python3.6/dist-packages (3.13)\n",
            "Requirement already satisfied: numpy>=1.7 in /usr/local/lib/python3.6/dist-packages (from h5py) (1.16.3)\n",
            "Requirement already satisfied: six in /usr/local/lib/python3.6/dist-packages (from h5py) (1.12.0)\n",
            "Collecting tf_nightly\n",
            "\u001b[?25l  Downloading https://files.pythonhosted.org/packages/94/76/d006b7c61c03608c30480b89ad99c49e8ff20789c7277ebcf72f53af1d52/tf_nightly-1.14.1.dev20190509-cp36-cp36m-manylinux1_x86_64.whl (109.0MB)\n",
            "\u001b[K     |████████████████████████████████| 109.0MB 1.4MB/s \n",
            "\u001b[?25hRequirement already satisfied: wheel>=0.26 in /usr/local/lib/python3.6/dist-packages (from tf_nightly) (0.33.1)\n",
            "Requirement already satisfied: keras-preprocessing>=1.0.5 in /usr/local/lib/python3.6/dist-packages (from tf_nightly) (1.0.9)\n",
            "Requirement already satisfied: grpcio>=1.8.6 in /usr/local/lib/python3.6/dist-packages (from tf_nightly) (1.15.0)\n",
            "Collecting tb-nightly<1.15.0a0,>=1.14.0a0 (from tf_nightly)\n",
            "\u001b[?25l  Downloading https://files.pythonhosted.org/packages/d5/64/e6221e5ecf7a64a7ee1218e7b3546d7c5975f505a0f495c9b85992bbdf4d/tb_nightly-1.14.0a20190509-py3-none-any.whl (3.1MB)\n",
            "\u001b[K     |████████████████████████████████| 3.1MB 36.0MB/s \n",
            "\u001b[?25hRequirement already satisfied: keras-applications>=1.0.6 in /usr/local/lib/python3.6/dist-packages (from tf_nightly) (1.0.7)\n",
            "Requirement already satisfied: astor>=0.6.0 in /usr/local/lib/python3.6/dist-packages (from tf_nightly) (0.7.1)\n",
            "Requirement already satisfied: numpy<2.0,>=1.14.5 in /usr/local/lib/python3.6/dist-packages (from tf_nightly) (1.16.3)\n",
            "Requirement already satisfied: six>=1.10.0 in /usr/local/lib/python3.6/dist-packages (from tf_nightly) (1.12.0)\n",
            "Collecting tf-estimator-nightly (from tf_nightly)\n",
            "\u001b[?25l  Downloading https://files.pythonhosted.org/packages/2d/be/2c9766f835f609d9cffbc04881b3ad1c041d9f9d69f6e369bdfbf00b7ce9/tf_estimator_nightly-1.14.0.dev2019050901-py2.py3-none-any.whl (486kB)\n",
            "\u001b[K     |████████████████████████████████| 491kB 53.6MB/s \n",
            "\u001b[?25hRequirement already satisfied: protobuf>=3.6.1 in /usr/local/lib/python3.6/dist-packages (from tf_nightly) (3.7.1)\n",
            "Collecting wrapt>=1.11.1 (from tf_nightly)\n",
            "  Downloading https://files.pythonhosted.org/packages/67/b2/0f71ca90b0ade7fad27e3d20327c996c6252a2ffe88f50a95bba7434eda9/wrapt-1.11.1.tar.gz\n",
            "Collecting google-pasta>=0.1.6 (from tf_nightly)\n",
            "\u001b[?25l  Downloading https://files.pythonhosted.org/packages/f9/68/a14620bfb042691f532dcde8576ff82ee82e4c003cdc0a3dbee5f289cee6/google_pasta-0.1.6-py3-none-any.whl (51kB)\n",
            "\u001b[K     |████████████████████████████████| 61kB 28.8MB/s \n",
            "\u001b[?25hRequirement already satisfied: absl-py>=0.7.0 in /usr/local/lib/python3.6/dist-packages (from tf_nightly) (0.7.1)\n",
            "Requirement already satisfied: gast>=0.2.0 in /usr/local/lib/python3.6/dist-packages (from tf_nightly) (0.2.2)\n",
            "Requirement already satisfied: termcolor>=1.1.0 in /usr/local/lib/python3.6/dist-packages (from tf_nightly) (1.1.0)\n",
            "Requirement already satisfied: markdown>=2.6.8 in /usr/local/lib/python3.6/dist-packages (from tb-nightly<1.15.0a0,>=1.14.0a0->tf_nightly) (3.1)\n",
            "Requirement already satisfied: werkzeug>=0.11.15 in /usr/local/lib/python3.6/dist-packages (from tb-nightly<1.15.0a0,>=1.14.0a0->tf_nightly) (0.15.2)\n",
            "Requirement already satisfied: h5py in /usr/local/lib/python3.6/dist-packages (from keras-applications>=1.0.6->tf_nightly) (2.8.0)\n",
            "Requirement already satisfied: setuptools in /usr/local/lib/python3.6/dist-packages (from protobuf>=3.6.1->tf_nightly) (41.0.1)\n",
            "Building wheels for collected packages: wrapt\n",
            "  Building wheel for wrapt (setup.py) ... \u001b[?25l\u001b[?25hdone\n",
            "  Stored in directory: /root/.cache/pip/wheels/89/67/41/63cbf0f6ac0a6156588b9587be4db5565f8c6d8ccef98202fc\n",
            "Successfully built wrapt\n",
            "\u001b[31mERROR: thinc 6.12.1 has requirement wrapt<1.11.0,>=1.10.0, but you'll have wrapt 1.11.1 which is incompatible.\u001b[0m\n",
            "Installing collected packages: tb-nightly, tf-estimator-nightly, wrapt, google-pasta, tf-nightly\n",
            "  Found existing installation: wrapt 1.10.11\n",
            "    Uninstalling wrapt-1.10.11:\n",
            "      Successfully uninstalled wrapt-1.10.11\n",
            "Successfully installed google-pasta-0.1.6 tb-nightly-1.14.0a20190509 tf-estimator-nightly-1.14.0.dev2019050901 tf-nightly-1.14.1.dev20190509 wrapt-1.11.1\n"
          ],
          "name": "stdout"
        },
        {
          "output_type": "display_data",
          "data": {
            "application/vnd.colab-display-data+json": {
              "pip_warning": {
                "packages": [
                  "tensorflow",
                  "tensorflow_estimator"
                ]
              }
            }
          },
          "metadata": {
            "tags": []
          }
        }
      ]
    },
    {
      "cell_type": "markdown",
      "metadata": {
        "id": "rWl1OAOsrfxq",
        "colab_type": "text"
      },
      "source": [
        "#Data Preparation"
      ]
    },
    {
      "cell_type": "code",
      "metadata": {
        "id": "Re9KRcO3rKO0",
        "colab_type": "code",
        "outputId": "b1fef9ca-b713-4927-e5e8-858d83bf964a",
        "colab": {
          "resources": {
            "http://localhost:8080/nbextensions/google.colab/files.js": {
              "data": "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",
              "ok": true,
              "headers": [
                [
                  "content-type",
                  "application/javascript"
                ]
              ],
              "status": 200,
              "status_text": ""
            }
          },
          "base_uri": "https://localhost:8080/",
          "height": 74
        }
      },
      "source": [
        "# Importing data from drive\n",
        "from google.colab import files\n",
        "uploaded = files.upload()"
      ],
      "execution_count": 7,
      "outputs": [
        {
          "output_type": "display_data",
          "data": {
            "text/html": [
              "\n",
              "     <input type=\"file\" id=\"files-98eee32a-86e0-4fe6-bc86-5f3576fb7424\" name=\"files[]\" multiple disabled />\n",
              "     <output id=\"result-98eee32a-86e0-4fe6-bc86-5f3576fb7424\">\n",
              "      Upload widget is only available when the cell has been executed in the\n",
              "      current browser session. Please rerun this cell to enable.\n",
              "      </output>\n",
              "      <script src=\"/nbextensions/google.colab/files.js\"></script> "
            ],
            "text/plain": [
              "<IPython.core.display.HTML object>"
            ]
          },
          "metadata": {
            "tags": []
          }
        },
        {
          "output_type": "stream",
          "text": [
            "Saving DB INTENT.csv to DB INTENT.csv\n"
          ],
          "name": "stdout"
        }
      ]
    },
    {
      "cell_type": "code",
      "metadata": {
        "id": "JwYCjtvZsUXH",
        "colab_type": "code",
        "colab": {}
      },
      "source": [
        "import pandas as pd\n",
        "import io\n",
        "df = pd.read_csv(io.StringIO(uploaded['DB INTENT.csv'].decode('utf-8')))"
      ],
      "execution_count": 0,
      "outputs": []
    },
    {
      "cell_type": "code",
      "metadata": {
        "id": "nykjh0AVuPo3",
        "colab_type": "code",
        "outputId": "96589c5b-79b6-42ac-ba94-55234a142f6a",
        "colab": {
          "base_uri": "https://localhost:8080/",
          "height": 204
        }
      },
      "source": [
        "# Checking data\n",
        "df.head()"
      ],
      "execution_count": 9,
      "outputs": [
        {
          "output_type": "execute_result",
          "data": {
            "text/html": [
              "<div>\n",
              "<style scoped>\n",
              "    .dataframe tbody tr th:only-of-type {\n",
              "        vertical-align: middle;\n",
              "    }\n",
              "\n",
              "    .dataframe tbody tr th {\n",
              "        vertical-align: top;\n",
              "    }\n",
              "\n",
              "    .dataframe thead th {\n",
              "        text-align: right;\n",
              "    }\n",
              "</style>\n",
              "<table border=\"1\" class=\"dataframe\">\n",
              "  <thead>\n",
              "    <tr style=\"text-align: right;\">\n",
              "      <th></th>\n",
              "      <th>TEKS_KALIMAT</th>\n",
              "      <th>ID_KONTEKS</th>\n",
              "    </tr>\n",
              "  </thead>\n",
              "  <tbody>\n",
              "    <tr>\n",
              "      <th>0</th>\n",
              "      <td>bisa dibantu maaf, selamat pagi</td>\n",
              "      <td>33</td>\n",
              "    </tr>\n",
              "    <tr>\n",
              "      <th>1</th>\n",
              "      <td>mbak, saya mau melaporkan ini gangguan telepon</td>\n",
              "      <td>12</td>\n",
              "    </tr>\n",
              "    <tr>\n",
              "      <th>2</th>\n",
              "      <td>sering kali nggak bisa ditelepon, nggak bisa t...</td>\n",
              "      <td>12</td>\n",
              "    </tr>\n",
              "    <tr>\n",
              "      <th>3</th>\n",
              "      <td>kan sejak diganti sama ada dikasih modem itu</td>\n",
              "      <td>12</td>\n",
              "    </tr>\n",
              "    <tr>\n",
              "      <th>4</th>\n",
              "      <td>iya baik</td>\n",
              "      <td>19</td>\n",
              "    </tr>\n",
              "  </tbody>\n",
              "</table>\n",
              "</div>"
            ],
            "text/plain": [
              "                                        TEKS_KALIMAT  ID_KONTEKS\n",
              "0                    bisa dibantu maaf, selamat pagi          33\n",
              "1     mbak, saya mau melaporkan ini gangguan telepon          12\n",
              "2  sering kali nggak bisa ditelepon, nggak bisa t...          12\n",
              "3       kan sejak diganti sama ada dikasih modem itu          12\n",
              "4                                           iya baik          19"
            ]
          },
          "metadata": {
            "tags": []
          },
          "execution_count": 9
        }
      ]
    },
    {
      "cell_type": "code",
      "metadata": {
        "id": "mo_G1Bo-AVuA",
        "colab_type": "code",
        "outputId": "64aa874e-c79f-48cc-fdb3-c70aa1c39f51",
        "colab": {
          "base_uri": "https://localhost:8080/",
          "height": 34
        }
      },
      "source": [
        "# Load tools we need for preprocessing\n",
        "# Tokenizer use to tokenize text into words\n",
        "from keras.preprocessing.text import Tokenizer\n",
        "from keras.preprocessing.sequence import pad_sequences\n",
        "\n",
        "# The maximum number of words to be used. (most frequent)\n",
        "MAX_NB_WORDS = 50000\n",
        "# Max number of words in each complaint.\n",
        "MAX_SEQUENCE_LENGTH = 250\n",
        "# This is fixed.\n",
        "EMBEDDING_DIM = 100\n",
        "\n",
        "tokenizer = Tokenizer(num_words=MAX_NB_WORDS, filters='!\"#$%&()*+,-./:;<=>?@[\\]^_`{|}~', lower=True)\n",
        "tokenizer.fit_on_texts(df['TEKS_KALIMAT'].values)\n",
        "word_index = tokenizer.word_index\n",
        "print('Found %s unique tokens.' % len(word_index))"
      ],
      "execution_count": 10,
      "outputs": [
        {
          "output_type": "stream",
          "text": [
            "Found 6691 unique tokens.\n"
          ],
          "name": "stdout"
        }
      ]
    },
    {
      "cell_type": "code",
      "metadata": {
        "id": "ZNPISiMcAubw",
        "colab_type": "code",
        "outputId": "a5645a9d-4574-4e61-8e3a-f12a82607713",
        "colab": {
          "base_uri": "https://localhost:8080/",
          "height": 34
        }
      },
      "source": [
        "X = tokenizer.texts_to_sequences(df['TEKS_KALIMAT'].values)\n",
        "X = pad_sequences(X, maxlen=MAX_SEQUENCE_LENGTH)\n",
        "print('Shape of data tensor:', X.shape)"
      ],
      "execution_count": 11,
      "outputs": [
        {
          "output_type": "stream",
          "text": [
            "Shape of data tensor: (21174, 250)\n"
          ],
          "name": "stdout"
        }
      ]
    },
    {
      "cell_type": "code",
      "metadata": {
        "id": "LvUKYu8dB8dr",
        "colab_type": "code",
        "outputId": "570619ce-fbe0-4452-ba5a-38521010ce9f",
        "colab": {
          "base_uri": "https://localhost:8080/",
          "height": 34
        }
      },
      "source": [
        "target = pd.get_dummies(df['ID_KONTEKS'].values)\n",
        "print('Shape of data tensor:', target.shape)"
      ],
      "execution_count": 12,
      "outputs": [
        {
          "output_type": "stream",
          "text": [
            "Shape of data tensor: (21174, 42)\n"
          ],
          "name": "stdout"
        }
      ]
    },
    {
      "cell_type": "markdown",
      "metadata": {
        "id": "idN496iow7c4",
        "colab_type": "text"
      },
      "source": [
        "##Data Split for Train and Validation"
      ]
    },
    {
      "cell_type": "code",
      "metadata": {
        "id": "-usSoysgxAKf",
        "colab_type": "code",
        "colab": {}
      },
      "source": [
        "Xtrain,Xtest,Ytrain,Ytest = train_test_split(X, target, test_size=0.2, random_state=1)"
      ],
      "execution_count": 0,
      "outputs": []
    },
    {
      "cell_type": "markdown",
      "metadata": {
        "id": "Ssdm22IkzHvq",
        "colab_type": "text"
      },
      "source": [
        "#RNN Model\n",
        "RNN Model will be implemented with LSTM approach to solve vanishing gradient issues"
      ]
    },
    {
      "cell_type": "code",
      "metadata": {
        "id": "vZrPATjYyRLo",
        "colab_type": "code",
        "colab": {}
      },
      "source": [
        "# Instatiate model\n",
        "model = Sequential()"
      ],
      "execution_count": 0,
      "outputs": []
    },
    {
      "cell_type": "markdown",
      "metadata": {
        "id": "LgEOQHN96ok6",
        "colab_type": "text"
      },
      "source": [
        "##Create Model"
      ]
    },
    {
      "cell_type": "code",
      "metadata": {
        "id": "cKT1JIETzTzP",
        "colab_type": "code",
        "outputId": "48bc0eba-8ae6-4bee-cc27-347b04033d71",
        "colab": {
          "base_uri": "https://localhost:8080/",
          "height": 306
        }
      },
      "source": [
        "from keras.layers import Bidirectional\n",
        "\n",
        "# Input layer with embedding words\n",
        "model.add(Embedding(MAX_NB_WORDS, EMBEDDING_DIM))\n",
        "model.add(SpatialDropout1D(0.1))\n",
        "\n",
        "# Hidden layer RNN using LSTM\n",
        "model.add(Bidirectional(LSTM(100, dropout=0.1, recurrent_dropout=0.1, return_sequences=True)))\n",
        "model.add(Bidirectional(LSTM(50, dropout=0.1)))\n",
        "\n",
        "# Output layer 42 class\n",
        "model.add(Dense(42, activation='softmax'))\n",
        "model.compile(loss='categorical_crossentropy', optimizer='adam', metrics=['accuracy'])\n",
        "\n",
        "epochs = 100\n",
        "batch_size = 256\n",
        "\n",
        "model.summary()"
      ],
      "execution_count": 38,
      "outputs": [
        {
          "output_type": "stream",
          "text": [
            "_________________________________________________________________\n",
            "Layer (type)                 Output Shape              Param #   \n",
            "=================================================================\n",
            "embedding_4 (Embedding)      (None, None, 100)         5000000   \n",
            "_________________________________________________________________\n",
            "spatial_dropout1d_4 (Spatial (None, None, 100)         0         \n",
            "_________________________________________________________________\n",
            "bidirectional_7 (Bidirection (None, None, 200)         160800    \n",
            "_________________________________________________________________\n",
            "bidirectional_8 (Bidirection (None, 100)               100400    \n",
            "_________________________________________________________________\n",
            "dense_21 (Dense)             (None, 42)                4242      \n",
            "=================================================================\n",
            "Total params: 5,265,442\n",
            "Trainable params: 5,265,442\n",
            "Non-trainable params: 0\n",
            "_________________________________________________________________\n"
          ],
          "name": "stdout"
        }
      ]
    },
    {
      "cell_type": "markdown",
      "metadata": {
        "id": "Lc-ES4y86hOn",
        "colab_type": "text"
      },
      "source": [
        "## LSTM - with EarlyStopping Model Fit"
      ]
    },
    {
      "cell_type": "code",
      "metadata": {
        "id": "vUyVosY26wK2",
        "colab_type": "code",
        "outputId": "7145d093-1c88-4447-8782-f6ef8fad7480",
        "colab": {
          "base_uri": "https://localhost:8080/",
          "height": 340
        }
      },
      "source": [
        "# using early stopping\n",
        "history = model.fit(Xtrain, Ytrain, epochs=epochs, batch_size=batch_size,validation_split=0.2,callbacks=[EarlyStopping(monitor='val_loss', patience=3, min_delta=0.0001)])"
      ],
      "execution_count": 22,
      "outputs": [
        {
          "output_type": "stream",
          "text": [
            "Train on 13551 samples, validate on 3388 samples\n",
            "Epoch 1/80\n",
            "13551/13551 [==============================] - 374s 28ms/step - loss: 2.8358 - acc: 0.2015 - val_loss: 2.6602 - val_acc: 0.2290\n",
            "Epoch 2/80\n",
            "13551/13551 [==============================] - 368s 27ms/step - loss: 2.5865 - acc: 0.2505 - val_loss: 2.5318 - val_acc: 0.2748\n",
            "Epoch 3/80\n",
            "13551/13551 [==============================] - 367s 27ms/step - loss: 2.4084 - acc: 0.3060 - val_loss: 2.4287 - val_acc: 0.2922\n",
            "Epoch 4/80\n",
            "13551/13551 [==============================] - 366s 27ms/step - loss: 2.2615 - acc: 0.3403 - val_loss: 2.3796 - val_acc: 0.3111\n",
            "Epoch 5/80\n",
            "13551/13551 [==============================] - 365s 27ms/step - loss: 2.1282 - acc: 0.3797 - val_loss: 2.3571 - val_acc: 0.3297\n",
            "Epoch 6/80\n",
            "13551/13551 [==============================] - 359s 27ms/step - loss: 2.0065 - acc: 0.4166 - val_loss: 2.3324 - val_acc: 0.3291\n",
            "Epoch 7/80\n",
            "13551/13551 [==============================] - 359s 26ms/step - loss: 1.9118 - acc: 0.4456 - val_loss: 2.3400 - val_acc: 0.3356\n",
            "Epoch 8/80\n",
            "13551/13551 [==============================] - 359s 27ms/step - loss: 1.8108 - acc: 0.4751 - val_loss: 2.3405 - val_acc: 0.3403\n",
            "Epoch 9/80\n",
            "13551/13551 [==============================] - 359s 26ms/step - loss: 1.7203 - acc: 0.5057 - val_loss: 2.3522 - val_acc: 0.3489\n"
          ],
          "name": "stdout"
        }
      ]
    },
    {
      "cell_type": "code",
      "metadata": {
        "id": "lIo5UP5sZ5p_",
        "colab_type": "code",
        "colab": {}
      },
      "source": [
        "model.save('NLP_Classification_LSTM_EarlyStopping.h5')"
      ],
      "execution_count": 0,
      "outputs": []
    },
    {
      "cell_type": "markdown",
      "metadata": {
        "id": "hbqeIJU76KP2",
        "colab_type": "text"
      },
      "source": [
        "###Evaluate LSTM (RNN Implementation) - with EarlyStopping Model"
      ]
    },
    {
      "cell_type": "code",
      "metadata": {
        "id": "zIJEBNmLjqs5",
        "colab_type": "code",
        "colab": {
          "base_uri": "https://localhost:8080/",
          "height": 85
        },
        "outputId": "ff0cbc37-5b43-4138-823c-9f9a3074febb"
      },
      "source": [
        "# Evaluate accuracy with test data chunk\n",
        "accr = model.evaluate(Xtest,Ytest)\n",
        "print('Test set\\n  Loss: {:0.3f}\\n  Accuracy: {:0.3f}'.format(accr[0],accr[1]))"
      ],
      "execution_count": 24,
      "outputs": [
        {
          "output_type": "stream",
          "text": [
            "4235/4235 [==============================] - 29s 7ms/step\n",
            "Test set\n",
            "  Loss: 2.400\n",
            "  Accuracy: 0.338\n"
          ],
          "name": "stdout"
        }
      ]
    },
    {
      "cell_type": "code",
      "metadata": {
        "id": "b6Z-25A4j_VV",
        "colab_type": "code",
        "colab": {
          "base_uri": "https://localhost:8080/",
          "height": 281
        },
        "outputId": "b4cfd8f8-76b9-4fcf-e850-1d8e00aca27d"
      },
      "source": [
        "# Import matplotlib\n",
        "import matplotlib.pyplot as plt\n",
        "\n",
        "# Plot the first model loss and validating loss for knowing overfit and underfit\n",
        "plt.title('Loss for first model')\n",
        "plt.plot(history.history['loss'], label='train')\n",
        "plt.plot(history.history['val_loss'], label='test')\n",
        "plt.legend()\n",
        "plt.show();"
      ],
      "execution_count": 25,
      "outputs": [
        {
          "output_type": "display_data",
          "data": {
            "image/png": "[encoded data removed]",
            "text/plain": [
              "<Figure size 432x288 with 1 Axes>"
            ]
          },
          "metadata": {
            "tags": []
          }
        }
      ]
    },
    {
      "cell_type": "code",
      "metadata": {
        "id": "GCdAfiNckw3_",
        "colab_type": "code",
        "colab": {
          "base_uri": "https://localhost:8080/",
          "height": 281
        },
        "outputId": "136783c2-d1de-433e-c639-8e1fc6571584"
      },
      "source": [
        "# Plot the first model accuracy and validating accuracy for knowing overfit and underfit\n",
        "plt.title('Accuracy for First Model')\n",
        "plt.plot(history.history['acc'], label='train')\n",
        "plt.plot(history.history['val_acc'], label='test')\n",
        "plt.legend()\n",
        "plt.show();"
      ],
      "execution_count": 26,
      "outputs": [
        {
          "output_type": "display_data",
          "data": {
            "image/png": "[encoded data removed]",
            "text/plain": [
              "<Figure size 432x288 with 1 Axes>"
            ]
          },
          "metadata": {
            "tags": []
          }
        }
      ]
    },
    {
      "cell_type": "markdown",
      "metadata": {
        "id": "suwCV1OX6Snh",
        "colab_type": "text"
      },
      "source": [
        "## LSTM - without EarlyStopping Model Fit"
      ]
    },
    {
      "cell_type": "code",
      "metadata": {
        "id": "bHGYNBeZ7XgA",
        "colab_type": "code",
        "colab": {
          "base_uri": "https://localhost:8080/",
          "height": 3434
        },
        "outputId": "984d6420-661a-4837-d337-6500e633176f"
      },
      "source": [
        "# without early stopping\n",
        "history2 = model.fit(Xtrain, Ytrain, epochs=epochs, batch_size=batch_size,validation_split=0.1)"
      ],
      "execution_count": 39,
      "outputs": [
        {
          "output_type": "stream",
          "text": [
            "Train on 15245 samples, validate on 1694 samples\n",
            "Epoch 1/100\n",
            "15245/15245 [==============================] - 107s 7ms/step - loss: 3.0171 - acc: 0.1817 - val_loss: 2.7567 - val_acc: 0.2031\n",
            "Epoch 2/100\n",
            "15245/15245 [==============================] - 99s 7ms/step - loss: 2.7096 - acc: 0.2264 - val_loss: 2.6524 - val_acc: 0.2456\n",
            "Epoch 3/100\n",
            "15245/15245 [==============================] - 100s 7ms/step - loss: 2.5907 - acc: 0.2520 - val_loss: 2.5779 - val_acc: 0.2462\n",
            "Epoch 4/100\n",
            "15245/15245 [==============================] - 100s 7ms/step - loss: 2.4789 - acc: 0.2776 - val_loss: 2.4939 - val_acc: 0.2727\n",
            "Epoch 5/100\n",
            "15245/15245 [==============================] - 99s 7ms/step - loss: 2.3290 - acc: 0.3210 - val_loss: 2.3937 - val_acc: 0.2999\n",
            "Epoch 6/100\n",
            "15245/15245 [==============================] - 100s 7ms/step - loss: 2.1779 - acc: 0.3610 - val_loss: 2.3400 - val_acc: 0.3170\n",
            "Epoch 7/100\n",
            "15245/15245 [==============================] - 102s 7ms/step - loss: 2.0491 - acc: 0.3951 - val_loss: 2.3145 - val_acc: 0.3241\n",
            "Epoch 8/100\n",
            "15245/15245 [==============================] - 99s 6ms/step - loss: 1.9482 - acc: 0.4265 - val_loss: 2.2947 - val_acc: 0.3371\n",
            "Epoch 9/100\n",
            "15245/15245 [==============================] - 99s 7ms/step - loss: 1.8614 - acc: 0.4559 - val_loss: 2.2939 - val_acc: 0.3453\n",
            "Epoch 10/100\n",
            "15245/15245 [==============================] - 101s 7ms/step - loss: 1.7798 - acc: 0.4783 - val_loss: 2.3021 - val_acc: 0.3329\n",
            "Epoch 11/100\n",
            "15245/15245 [==============================] - 100s 7ms/step - loss: 1.7139 - acc: 0.5018 - val_loss: 2.2961 - val_acc: 0.3477\n",
            "Epoch 12/100\n",
            "15245/15245 [==============================] - 99s 6ms/step - loss: 1.6517 - acc: 0.5184 - val_loss: 2.3112 - val_acc: 0.3477\n",
            "Epoch 13/100\n",
            "15245/15245 [==============================] - 101s 7ms/step - loss: 1.5887 - acc: 0.5387 - val_loss: 2.3287 - val_acc: 0.3613\n",
            "Epoch 14/100\n",
            "15245/15245 [==============================] - 99s 7ms/step - loss: 1.5540 - acc: 0.5452 - val_loss: 2.3390 - val_acc: 0.3530\n",
            "Epoch 15/100\n",
            "15245/15245 [==============================] - 100s 7ms/step - loss: 1.5019 - acc: 0.5612 - val_loss: 2.3445 - val_acc: 0.3524\n",
            "Epoch 16/100\n",
            "15245/15245 [==============================] - 101s 7ms/step - loss: 1.4659 - acc: 0.5706 - val_loss: 2.3349 - val_acc: 0.3566\n",
            "Epoch 17/100\n",
            "15245/15245 [==============================] - 99s 7ms/step - loss: 1.4235 - acc: 0.5835 - val_loss: 2.3910 - val_acc: 0.3707\n",
            "Epoch 18/100\n",
            "15245/15245 [==============================] - 99s 6ms/step - loss: 1.3959 - acc: 0.5919 - val_loss: 2.3939 - val_acc: 0.3595\n",
            "Epoch 19/100\n",
            "15245/15245 [==============================] - 101s 7ms/step - loss: 1.3607 - acc: 0.6003 - val_loss: 2.4009 - val_acc: 0.3672\n",
            "Epoch 20/100\n",
            "15245/15245 [==============================] - 99s 6ms/step - loss: 1.3252 - acc: 0.6095 - val_loss: 2.4466 - val_acc: 0.3607\n",
            "Epoch 21/100\n",
            "15245/15245 [==============================] - 100s 7ms/step - loss: 1.3118 - acc: 0.6178 - val_loss: 2.4461 - val_acc: 0.3613\n",
            "Epoch 22/100\n",
            "15245/15245 [==============================] - 101s 7ms/step - loss: 1.2627 - acc: 0.6292 - val_loss: 2.4525 - val_acc: 0.3672\n",
            "Epoch 23/100\n",
            "15245/15245 [==============================] - 101s 7ms/step - loss: 1.2441 - acc: 0.6321 - val_loss: 2.4730 - val_acc: 0.3660\n",
            "Epoch 24/100\n",
            "15245/15245 [==============================] - 99s 7ms/step - loss: 1.2202 - acc: 0.6414 - val_loss: 2.4751 - val_acc: 0.3684\n",
            "Epoch 25/100\n",
            "15245/15245 [==============================] - 100s 7ms/step - loss: 1.1908 - acc: 0.6523 - val_loss: 2.4989 - val_acc: 0.3648\n",
            "Epoch 26/100\n",
            "15245/15245 [==============================] - 100s 7ms/step - loss: 1.1715 - acc: 0.6546 - val_loss: 2.4951 - val_acc: 0.3695\n",
            "Epoch 27/100\n",
            "15245/15245 [==============================] - 99s 6ms/step - loss: 1.1499 - acc: 0.6591 - val_loss: 2.5201 - val_acc: 0.3619\n",
            "Epoch 28/100\n",
            "15245/15245 [==============================] - 100s 7ms/step - loss: 1.1328 - acc: 0.6581 - val_loss: 2.5029 - val_acc: 0.3707\n",
            "Epoch 29/100\n",
            "15245/15245 [==============================] - 100s 7ms/step - loss: 1.1096 - acc: 0.6687 - val_loss: 2.5394 - val_acc: 0.3843\n",
            "Epoch 30/100\n",
            "15245/15245 [==============================] - 99s 6ms/step - loss: 1.0946 - acc: 0.6686 - val_loss: 2.5452 - val_acc: 0.3630\n",
            "Epoch 31/100\n",
            "15245/15245 [==============================] - 102s 7ms/step - loss: 1.0764 - acc: 0.6749 - val_loss: 2.5853 - val_acc: 0.3754\n",
            "Epoch 32/100\n",
            "15245/15245 [==============================] - 100s 7ms/step - loss: 1.0618 - acc: 0.6786 - val_loss: 2.5612 - val_acc: 0.3813\n",
            "Epoch 33/100\n",
            "15245/15245 [==============================] - 98s 6ms/step - loss: 1.0424 - acc: 0.6857 - val_loss: 2.5835 - val_acc: 0.3778\n",
            "Epoch 34/100\n",
            "15245/15245 [==============================] - 99s 7ms/step - loss: 1.0262 - acc: 0.6893 - val_loss: 2.5940 - val_acc: 0.3837\n",
            "Epoch 35/100\n",
            "15245/15245 [==============================] - 99s 7ms/step - loss: 1.0098 - acc: 0.6909 - val_loss: 2.6043 - val_acc: 0.3861\n",
            "Epoch 36/100\n",
            "15245/15245 [==============================] - 99s 6ms/step - loss: 0.9946 - acc: 0.6985 - val_loss: 2.6307 - val_acc: 0.3943\n",
            "Epoch 37/100\n",
            "15245/15245 [==============================] - 98s 6ms/step - loss: 0.9807 - acc: 0.7063 - val_loss: 2.6305 - val_acc: 0.3896\n",
            "Epoch 38/100\n",
            "15245/15245 [==============================] - 100s 7ms/step - loss: 0.9629 - acc: 0.7120 - val_loss: 2.6088 - val_acc: 0.3843\n",
            "Epoch 39/100\n",
            "15245/15245 [==============================] - 101s 7ms/step - loss: 0.9525 - acc: 0.7141 - val_loss: 2.6813 - val_acc: 0.3831\n",
            "Epoch 40/100\n",
            "15245/15245 [==============================] - 101s 7ms/step - loss: 0.9467 - acc: 0.7133 - val_loss: 2.6819 - val_acc: 0.3796\n",
            "Epoch 41/100\n",
            "15245/15245 [==============================] - 101s 7ms/step - loss: 0.9261 - acc: 0.7195 - val_loss: 2.6932 - val_acc: 0.3867\n",
            "Epoch 42/100\n",
            "15245/15245 [==============================] - 100s 7ms/step - loss: 0.9105 - acc: 0.7262 - val_loss: 2.7336 - val_acc: 0.3719\n",
            "Epoch 43/100\n",
            "15245/15245 [==============================] - 99s 7ms/step - loss: 0.9051 - acc: 0.7262 - val_loss: 2.7292 - val_acc: 0.3837\n",
            "Epoch 44/100\n",
            "15245/15245 [==============================] - 102s 7ms/step - loss: 0.8973 - acc: 0.7289 - val_loss: 2.7493 - val_acc: 0.3790\n",
            "Epoch 45/100\n",
            "15245/15245 [==============================] - 99s 7ms/step - loss: 0.8828 - acc: 0.7269 - val_loss: 2.7390 - val_acc: 0.3861\n",
            "Epoch 46/100\n",
            "15245/15245 [==============================] - 98s 6ms/step - loss: 0.8751 - acc: 0.7334 - val_loss: 2.7490 - val_acc: 0.3802\n",
            "Epoch 47/100\n",
            "15245/15245 [==============================] - 101s 7ms/step - loss: 0.8606 - acc: 0.7375 - val_loss: 2.7632 - val_acc: 0.3790\n",
            "Epoch 48/100\n",
            "15245/15245 [==============================] - 100s 7ms/step - loss: 0.8530 - acc: 0.7391 - val_loss: 2.7715 - val_acc: 0.3920\n",
            "Epoch 49/100\n",
            "15245/15245 [==============================] - 99s 7ms/step - loss: 0.8361 - acc: 0.7401 - val_loss: 2.7732 - val_acc: 0.3896\n",
            "Epoch 50/100\n",
            "15245/15245 [==============================] - 99s 7ms/step - loss: 0.8272 - acc: 0.7446 - val_loss: 2.8103 - val_acc: 0.3802\n",
            "Epoch 51/100\n",
            "15245/15245 [==============================] - 99s 6ms/step - loss: 0.8149 - acc: 0.7517 - val_loss: 2.8373 - val_acc: 0.3802\n",
            "Epoch 52/100\n",
            "15245/15245 [==============================] - 100s 7ms/step - loss: 0.8126 - acc: 0.7470 - val_loss: 2.8738 - val_acc: 0.3808\n",
            "Epoch 53/100\n",
            "15245/15245 [==============================] - 101s 7ms/step - loss: 0.7999 - acc: 0.7509 - val_loss: 2.8732 - val_acc: 0.3790\n",
            "Epoch 54/100\n",
            "15245/15245 [==============================] - 99s 7ms/step - loss: 0.7953 - acc: 0.7543 - val_loss: 2.8587 - val_acc: 0.3819\n",
            "Epoch 55/100\n",
            "15245/15245 [==============================] - 99s 6ms/step - loss: 0.7820 - acc: 0.7579 - val_loss: 2.9102 - val_acc: 0.3837\n",
            "Epoch 56/100\n",
            "15245/15245 [==============================] - 101s 7ms/step - loss: 0.7789 - acc: 0.7582 - val_loss: 2.8914 - val_acc: 0.3796\n",
            "Epoch 57/100\n",
            "15245/15245 [==============================] - 100s 7ms/step - loss: 0.7733 - acc: 0.7574 - val_loss: 2.9166 - val_acc: 0.3808\n",
            "Epoch 58/100\n",
            "15245/15245 [==============================] - 99s 7ms/step - loss: 0.7611 - acc: 0.7647 - val_loss: 2.9434 - val_acc: 0.3754\n",
            "Epoch 59/100\n",
            "15245/15245 [==============================] - 100s 7ms/step - loss: 0.7465 - acc: 0.7677 - val_loss: 2.9471 - val_acc: 0.3678\n",
            "Epoch 60/100\n",
            "15245/15245 [==============================] - 99s 7ms/step - loss: 0.7436 - acc: 0.7661 - val_loss: 2.9447 - val_acc: 0.3778\n",
            "Epoch 61/100\n",
            "15245/15245 [==============================] - 100s 7ms/step - loss: 0.7294 - acc: 0.7713 - val_loss: 2.9790 - val_acc: 0.3731\n",
            "Epoch 62/100\n",
            "15245/15245 [==============================] - 101s 7ms/step - loss: 0.7258 - acc: 0.7726 - val_loss: 3.0055 - val_acc: 0.3731\n",
            "Epoch 63/100\n",
            "15245/15245 [==============================] - 99s 6ms/step - loss: 0.7231 - acc: 0.7711 - val_loss: 3.0039 - val_acc: 0.3684\n",
            "Epoch 64/100\n",
            "15245/15245 [==============================] - 99s 6ms/step - loss: 0.7121 - acc: 0.7707 - val_loss: 2.9850 - val_acc: 0.3695\n",
            "Epoch 65/100\n",
            "15245/15245 [==============================] - 101s 7ms/step - loss: 0.7029 - acc: 0.7779 - val_loss: 3.0366 - val_acc: 0.3636\n",
            "Epoch 66/100\n",
            "15245/15245 [==============================] - 100s 7ms/step - loss: 0.6964 - acc: 0.7811 - val_loss: 3.0523 - val_acc: 0.3654\n",
            "Epoch 67/100\n",
            "15245/15245 [==============================] - 99s 6ms/step - loss: 0.6946 - acc: 0.7784 - val_loss: 3.0780 - val_acc: 0.3725\n",
            "Epoch 68/100\n",
            "15245/15245 [==============================] - 100s 7ms/step - loss: 0.6856 - acc: 0.7832 - val_loss: 3.0790 - val_acc: 0.3766\n",
            "Epoch 69/100\n",
            "15245/15245 [==============================] - 101s 7ms/step - loss: 0.6773 - acc: 0.7856 - val_loss: 3.0890 - val_acc: 0.3695\n",
            "Epoch 70/100\n",
            "15245/15245 [==============================] - 98s 6ms/step - loss: 0.6784 - acc: 0.7831 - val_loss: 3.0812 - val_acc: 0.3684\n",
            "Epoch 71/100\n",
            "15245/15245 [==============================] - 99s 6ms/step - loss: 0.6676 - acc: 0.7878 - val_loss: 3.1337 - val_acc: 0.3601\n",
            "Epoch 72/100\n",
            "15245/15245 [==============================] - 100s 7ms/step - loss: 0.6568 - acc: 0.7877 - val_loss: 3.1098 - val_acc: 0.3719\n",
            "Epoch 73/100\n",
            "15245/15245 [==============================] - 99s 7ms/step - loss: 0.6551 - acc: 0.7892 - val_loss: 3.1704 - val_acc: 0.3725\n",
            "Epoch 74/100\n",
            "15245/15245 [==============================] - 98s 6ms/step - loss: 0.6480 - acc: 0.7913 - val_loss: 3.1644 - val_acc: 0.3749\n",
            "Epoch 75/100\n",
            "15245/15245 [==============================] - 101s 7ms/step - loss: 0.6424 - acc: 0.7941 - val_loss: 3.1861 - val_acc: 0.3766\n",
            "Epoch 76/100\n",
            "15245/15245 [==============================] - 98s 6ms/step - loss: 0.6430 - acc: 0.7897 - val_loss: 3.2254 - val_acc: 0.3701\n",
            "Epoch 77/100\n",
            "15245/15245 [==============================] - 98s 6ms/step - loss: 0.6334 - acc: 0.7957 - val_loss: 3.2434 - val_acc: 0.3808\n",
            "Epoch 78/100\n",
            "15245/15245 [==============================] - 101s 7ms/step - loss: 0.6321 - acc: 0.7991 - val_loss: 3.2347 - val_acc: 0.3754\n",
            "Epoch 79/100\n",
            "15245/15245 [==============================] - 98s 6ms/step - loss: 0.6153 - acc: 0.8030 - val_loss: 3.2110 - val_acc: 0.3713\n",
            "Epoch 80/100\n",
            "15245/15245 [==============================] - 98s 6ms/step - loss: 0.6162 - acc: 0.7986 - val_loss: 3.2416 - val_acc: 0.3831\n",
            "Epoch 81/100\n",
            "15245/15245 [==============================] - 100s 7ms/step - loss: 0.6274 - acc: 0.7951 - val_loss: 3.2208 - val_acc: 0.3725\n",
            "Epoch 82/100\n",
            "15245/15245 [==============================] - 99s 6ms/step - loss: 0.6073 - acc: 0.8033 - val_loss: 3.2624 - val_acc: 0.3778\n",
            "Epoch 83/100\n",
            "15245/15245 [==============================] - 98s 6ms/step - loss: 0.6022 - acc: 0.8022 - val_loss: 3.2603 - val_acc: 0.3725\n",
            "Epoch 84/100\n",
            "15245/15245 [==============================] - 99s 7ms/step - loss: 0.5936 - acc: 0.8062 - val_loss: 3.3026 - val_acc: 0.3760\n",
            "Epoch 85/100\n",
            "15245/15245 [==============================] - 97s 6ms/step - loss: 0.5919 - acc: 0.8070 - val_loss: 3.3242 - val_acc: 0.3731\n",
            "Epoch 86/100\n",
            "15245/15245 [==============================] - 97s 6ms/step - loss: 0.5852 - acc: 0.8094 - val_loss: 3.3478 - val_acc: 0.3695\n",
            "Epoch 87/100\n",
            "15245/15245 [==============================] - 99s 6ms/step - loss: 0.5771 - acc: 0.8125 - val_loss: 3.3079 - val_acc: 0.3666\n",
            "Epoch 88/100\n",
            "15245/15245 [==============================] - 97s 6ms/step - loss: 0.5762 - acc: 0.8142 - val_loss: 3.3195 - val_acc: 0.3737\n",
            "Epoch 89/100\n",
            "15245/15245 [==============================] - 98s 6ms/step - loss: 0.5631 - acc: 0.8167 - val_loss: 3.3359 - val_acc: 0.3754\n",
            "Epoch 90/100\n",
            "15245/15245 [==============================] - 98s 6ms/step - loss: 0.5635 - acc: 0.8140 - val_loss: 3.3693 - val_acc: 0.3754\n",
            "Epoch 91/100\n",
            "15245/15245 [==============================] - 101s 7ms/step - loss: 0.5640 - acc: 0.8145 - val_loss: 3.3517 - val_acc: 0.3695\n",
            "Epoch 92/100\n",
            "15245/15245 [==============================] - 98s 6ms/step - loss: 0.5536 - acc: 0.8148 - val_loss: 3.3770 - val_acc: 0.3731\n",
            "Epoch 93/100\n",
            "15245/15245 [==============================] - 100s 7ms/step - loss: 0.5514 - acc: 0.8205 - val_loss: 3.3646 - val_acc: 0.3719\n",
            "Epoch 94/100\n",
            "15245/15245 [==============================] - 99s 7ms/step - loss: 0.5447 - acc: 0.8226 - val_loss: 3.4323 - val_acc: 0.3754\n",
            "Epoch 95/100\n",
            "15245/15245 [==============================] - 100s 7ms/step - loss: 0.5449 - acc: 0.8228 - val_loss: 3.4285 - val_acc: 0.3719\n",
            "Epoch 96/100\n",
            "15245/15245 [==============================] - 98s 6ms/step - loss: 0.5495 - acc: 0.8190 - val_loss: 3.4571 - val_acc: 0.3695\n",
            "Epoch 97/100\n",
            "15245/15245 [==============================] - 101s 7ms/step - loss: 0.5322 - acc: 0.8238 - val_loss: 3.4586 - val_acc: 0.3630\n",
            "Epoch 98/100\n",
            "15245/15245 [==============================] - 98s 6ms/step - loss: 0.5220 - acc: 0.8271 - val_loss: 3.5047 - val_acc: 0.3701\n",
            "Epoch 99/100\n",
            "15245/15245 [==============================] - 100s 7ms/step - loss: 0.5186 - acc: 0.8298 - val_loss: 3.4877 - val_acc: 0.3790\n",
            "Epoch 100/100\n",
            "15245/15245 [==============================] - 100s 7ms/step - loss: 0.5179 - acc: 0.8276 - val_loss: 3.5036 - val_acc: 0.3695\n"
          ],
          "name": "stdout"
        }
      ]
    },
    {
      "cell_type": "code",
      "metadata": {
        "id": "gwKfEftuaFVK",
        "colab_type": "code",
        "colab": {}
      },
      "source": [
        "model.save('NLP_Classification_LSTM.h5')"
      ],
      "execution_count": 0,
      "outputs": []
    },
    {
      "cell_type": "markdown",
      "metadata": {
        "id": "p6GMuN43kFL2",
        "colab_type": "text"
      },
      "source": [
        "###Evaluate LSTM (RNN Implementation) - without EarlyStopping Model"
      ]
    },
    {
      "cell_type": "code",
      "metadata": {
        "id": "Iruf_at84xMp",
        "colab_type": "code",
        "colab": {
          "base_uri": "https://localhost:8080/",
          "height": 85
        },
        "outputId": "5b1506b5-a834-47ec-be31-6ec403e15193"
      },
      "source": [
        "# Evaluate accuracy with test data chunk\n",
        "accr = model.evaluate(Xtest,Ytest)\n",
        "print('Test set\\n  Loss: {:0.3f}\\n  Accuracy: {:0.3f}'.format(accr[0],accr[1]))"
      ],
      "execution_count": 41,
      "outputs": [
        {
          "output_type": "stream",
          "text": [
            "4235/4235 [==============================] - 43s 10ms/step\n",
            "Test set\n",
            "  Loss: 3.640\n",
            "  Accuracy: 0.374\n"
          ],
          "name": "stdout"
        }
      ]
    },
    {
      "cell_type": "code",
      "metadata": {
        "id": "57yIENH-41nJ",
        "colab_type": "code",
        "colab": {
          "base_uri": "https://localhost:8080/",
          "height": 281
        },
        "outputId": "c3d455bc-ffb6-4d51-a09e-3f3bead6d790"
      },
      "source": [
        "# Import matplotlib\n",
        "import matplotlib.pyplot as plt\n",
        "\n",
        "# Plot the second model loss and validating loss for knowing overfit and underfit\n",
        "plt.title('Loss for second model')\n",
        "plt.plot(history2.history['loss'], label='train')\n",
        "plt.plot(history2.history['val_loss'], label='test')\n",
        "plt.legend()\n",
        "plt.show();"
      ],
      "execution_count": 43,
      "outputs": [
        {
          "output_type": "display_data",
          "data": {
            "image/png": "[encoded data removed]",
            "text/plain": [
              "<Figure size 432x288 with 1 Axes>"
            ]
          },
          "metadata": {
            "tags": []
          }
        }
      ]
    },
    {
      "cell_type": "code",
      "metadata": {
        "id": "BPy-z7IM48lH",
        "colab_type": "code",
        "colab": {
          "base_uri": "https://localhost:8080/",
          "height": 281
        },
        "outputId": "248836e2-690d-44ca-c404-deb1ad92d11d"
      },
      "source": [
        "# Plot the second model accuracy and validating accuracy for knowing overfit and underfit\n",
        "plt.title('Accuracy for Second Model')\n",
        "plt.plot(history2.history['acc'], label='train')\n",
        "plt.plot(history2.history['val_acc'], label='test')\n",
        "plt.legend()\n",
        "plt.show();"
      ],
      "execution_count": 44,
      "outputs": [
        {
          "output_type": "display_data",
          "data": {
            "image/png": "[encoded data removed]",
            "text/plain": [
              "<Figure size 432x288 with 1 Axes>"
            ]
          },
          "metadata": {
            "tags": []
          }
        }
      ]
    },
    {
      "cell_type": "markdown",
      "metadata": {
        "id": "5AdJMXjx609R",
        "colab_type": "text"
      },
      "source": [
        "#Feed Forward DNN Model"
      ]
    },
    {
      "cell_type": "code",
      "metadata": {
        "id": "Yng1SRYB64fI",
        "colab_type": "code",
        "colab": {
          "base_uri": "https://localhost:8080/",
          "height": 578
        },
        "outputId": "331404a7-fd85-4e23-d954-669599c899e9"
      },
      "source": [
        "# Instatiate model\n",
        "model1 = Sequential()\n",
        "\n",
        "# Create Model\n",
        "model1.add(Dense(512, activation='relu', input_shape=(250,)))\n",
        "model1.add(Dropout(0.3))\n",
        "model1.add(Dense(512, activation='relu'))\n",
        "model1.add(Dropout(0.3))\n",
        "model1.add(Dense(512, activation='relu'))\n",
        "model1.add(Dropout(0.3))\n",
        "model1.add(Dense(512, activation='relu'))\n",
        "model1.add(Dropout(0.3))\n",
        "model1.add(Dense(512, activation='relu'))\n",
        "model1.add(Dropout(0.3))\n",
        "model1.add(Dense(512, activation='relu'))\n",
        "model1.add(Dropout(0.3))\n",
        "model1.add(Dense(42, activation='softmax'))\n",
        "model1.summary()\n",
        "\n",
        "# Build Model\n",
        "model1.compile(loss='categorical_crossentropy',\n",
        "              optimizer='adam',\n",
        "              metrics=['accuracy'])"
      ],
      "execution_count": 45,
      "outputs": [
        {
          "output_type": "stream",
          "text": [
            "_________________________________________________________________\n",
            "Layer (type)                 Output Shape              Param #   \n",
            "=================================================================\n",
            "dense_22 (Dense)             (None, 512)               128512    \n",
            "_________________________________________________________________\n",
            "dropout_15 (Dropout)         (None, 512)               0         \n",
            "_________________________________________________________________\n",
            "dense_23 (Dense)             (None, 512)               262656    \n",
            "_________________________________________________________________\n",
            "dropout_16 (Dropout)         (None, 512)               0         \n",
            "_________________________________________________________________\n",
            "dense_24 (Dense)             (None, 512)               262656    \n",
            "_________________________________________________________________\n",
            "dropout_17 (Dropout)         (None, 512)               0         \n",
            "_________________________________________________________________\n",
            "dense_25 (Dense)             (None, 512)               262656    \n",
            "_________________________________________________________________\n",
            "dropout_18 (Dropout)         (None, 512)               0         \n",
            "_________________________________________________________________\n",
            "dense_26 (Dense)             (None, 512)               262656    \n",
            "_________________________________________________________________\n",
            "dropout_19 (Dropout)         (None, 512)               0         \n",
            "_________________________________________________________________\n",
            "dense_27 (Dense)             (None, 512)               262656    \n",
            "_________________________________________________________________\n",
            "dropout_20 (Dropout)         (None, 512)               0         \n",
            "_________________________________________________________________\n",
            "dense_28 (Dense)             (None, 42)                21546     \n",
            "=================================================================\n",
            "Total params: 1,463,338\n",
            "Trainable params: 1,463,338\n",
            "Non-trainable params: 0\n",
            "_________________________________________________________________\n"
          ],
          "name": "stdout"
        }
      ]
    },
    {
      "cell_type": "code",
      "metadata": {
        "id": "Y8apEE6u75Oj",
        "colab_type": "code",
        "colab": {}
      },
      "source": [
        "epochs = 100\n",
        "batch_size = 256"
      ],
      "execution_count": 0,
      "outputs": []
    },
    {
      "cell_type": "markdown",
      "metadata": {
        "id": "5IULe3C38Ysw",
        "colab_type": "text"
      },
      "source": [
        "##FFNN - with early stopping fit"
      ]
    },
    {
      "cell_type": "code",
      "metadata": {
        "id": "pfTd07Kl8KUS",
        "colab_type": "code",
        "colab": {
          "base_uri": "https://localhost:8080/",
          "height": 3434
        },
        "outputId": "6c73434a-ffc4-410d-e296-1676d0d17b72"
      },
      "source": [
        "history3 = model1.fit(Xtrain, Ytrain, epochs=epochs, batch_size=batch_size,validation_split=0.2)"
      ],
      "execution_count": 47,
      "outputs": [
        {
          "output_type": "stream",
          "text": [
            "Train on 13551 samples, validate on 3388 samples\n",
            "Epoch 1/100\n",
            "13551/13551 [==============================] - 5s 353us/step - loss: 9.2657 - acc: 0.1322 - val_loss: 4.0534 - val_acc: 0.1576\n",
            "Epoch 2/100\n",
            "13551/13551 [==============================] - 0s 26us/step - loss: 4.3575 - acc: 0.1324 - val_loss: 3.3566 - val_acc: 0.1488\n",
            "Epoch 3/100\n",
            "13551/13551 [==============================] - 0s 24us/step - loss: 3.3144 - acc: 0.1415 - val_loss: 3.0242 - val_acc: 0.1541\n",
            "Epoch 4/100\n",
            "13551/13551 [==============================] - 0s 24us/step - loss: 3.0415 - acc: 0.1566 - val_loss: 2.8990 - val_acc: 0.1733\n",
            "Epoch 5/100\n",
            "13551/13551 [==============================] - 0s 23us/step - loss: 2.9310 - acc: 0.1714 - val_loss: 2.8723 - val_acc: 0.1727\n",
            "Epoch 6/100\n",
            "13551/13551 [==============================] - 0s 25us/step - loss: 2.8962 - acc: 0.1728 - val_loss: 2.8434 - val_acc: 0.1815\n",
            "Epoch 7/100\n",
            "13551/13551 [==============================] - 0s 25us/step - loss: 2.8674 - acc: 0.1786 - val_loss: 2.8206 - val_acc: 0.1889\n",
            "Epoch 8/100\n",
            "13551/13551 [==============================] - 0s 24us/step - loss: 2.8486 - acc: 0.1851 - val_loss: 2.8113 - val_acc: 0.1839\n",
            "Epoch 9/100\n",
            "13551/13551 [==============================] - 0s 23us/step - loss: 2.8345 - acc: 0.1814 - val_loss: 2.7904 - val_acc: 0.1774\n",
            "Epoch 10/100\n",
            "13551/13551 [==============================] - 0s 25us/step - loss: 2.8291 - acc: 0.1860 - val_loss: 2.7755 - val_acc: 0.1933\n",
            "Epoch 11/100\n",
            "13551/13551 [==============================] - 0s 24us/step - loss: 2.8166 - acc: 0.1913 - val_loss: 2.7777 - val_acc: 0.1877\n",
            "Epoch 12/100\n",
            "13551/13551 [==============================] - 0s 24us/step - loss: 2.8032 - acc: 0.1875 - val_loss: 2.7679 - val_acc: 0.1895\n",
            "Epoch 13/100\n",
            "13551/13551 [==============================] - 0s 24us/step - loss: 2.8007 - acc: 0.1903 - val_loss: 2.7668 - val_acc: 0.1883\n",
            "Epoch 14/100\n",
            "13551/13551 [==============================] - 0s 23us/step - loss: 2.7985 - acc: 0.1902 - val_loss: 2.7630 - val_acc: 0.1895\n",
            "Epoch 15/100\n",
            "13551/13551 [==============================] - 0s 24us/step - loss: 2.7948 - acc: 0.1960 - val_loss: 2.7524 - val_acc: 0.1848\n",
            "Epoch 16/100\n",
            "13551/13551 [==============================] - 0s 23us/step - loss: 2.7878 - acc: 0.1944 - val_loss: 2.7531 - val_acc: 0.1913\n",
            "Epoch 17/100\n",
            "13551/13551 [==============================] - 0s 24us/step - loss: 2.7832 - acc: 0.1950 - val_loss: 2.7448 - val_acc: 0.1904\n",
            "Epoch 18/100\n",
            "13551/13551 [==============================] - 0s 24us/step - loss: 2.7807 - acc: 0.1947 - val_loss: 2.7471 - val_acc: 0.1921\n",
            "Epoch 19/100\n",
            "13551/13551 [==============================] - 0s 23us/step - loss: 2.7778 - acc: 0.1990 - val_loss: 2.7406 - val_acc: 0.1942\n",
            "Epoch 20/100\n",
            "13551/13551 [==============================] - 0s 24us/step - loss: 2.7770 - acc: 0.1983 - val_loss: 2.7377 - val_acc: 0.1942\n",
            "Epoch 21/100\n",
            "13551/13551 [==============================] - 0s 24us/step - loss: 2.7704 - acc: 0.1992 - val_loss: 2.7325 - val_acc: 0.1942\n",
            "Epoch 22/100\n",
            "13551/13551 [==============================] - 0s 23us/step - loss: 2.7691 - acc: 0.2001 - val_loss: 2.7363 - val_acc: 0.1969\n",
            "Epoch 23/100\n",
            "13551/13551 [==============================] - 0s 25us/step - loss: 2.7674 - acc: 0.1962 - val_loss: 2.7473 - val_acc: 0.1857\n",
            "Epoch 24/100\n",
            "13551/13551 [==============================] - 0s 27us/step - loss: 2.7693 - acc: 0.1953 - val_loss: 2.7364 - val_acc: 0.1939\n",
            "Epoch 25/100\n",
            "13551/13551 [==============================] - 0s 26us/step - loss: 2.7628 - acc: 0.2009 - val_loss: 2.7266 - val_acc: 0.1907\n",
            "Epoch 26/100\n",
            "13551/13551 [==============================] - 0s 25us/step - loss: 2.7643 - acc: 0.2012 - val_loss: 2.7236 - val_acc: 0.1960\n",
            "Epoch 27/100\n",
            "13551/13551 [==============================] - 0s 24us/step - loss: 2.7622 - acc: 0.1984 - val_loss: 2.7301 - val_acc: 0.1898\n",
            "Epoch 28/100\n",
            "13551/13551 [==============================] - 0s 23us/step - loss: 2.7606 - acc: 0.1984 - val_loss: 2.7312 - val_acc: 0.1901\n",
            "Epoch 29/100\n",
            "13551/13551 [==============================] - 0s 25us/step - loss: 2.7582 - acc: 0.1986 - val_loss: 2.7197 - val_acc: 0.2001\n",
            "Epoch 30/100\n",
            "13551/13551 [==============================] - 0s 23us/step - loss: 2.7558 - acc: 0.2028 - val_loss: 2.7190 - val_acc: 0.1972\n",
            "Epoch 31/100\n",
            "13551/13551 [==============================] - 0s 23us/step - loss: 2.7556 - acc: 0.1984 - val_loss: 2.7207 - val_acc: 0.1972\n",
            "Epoch 32/100\n",
            "13551/13551 [==============================] - 0s 25us/step - loss: 2.7491 - acc: 0.2018 - val_loss: 2.7242 - val_acc: 0.1954\n",
            "Epoch 33/100\n",
            "13551/13551 [==============================] - 0s 24us/step - loss: 2.7494 - acc: 0.2032 - val_loss: 2.7210 - val_acc: 0.2001\n",
            "Epoch 34/100\n",
            "13551/13551 [==============================] - 0s 23us/step - loss: 2.7502 - acc: 0.2023 - val_loss: 2.7259 - val_acc: 0.2010\n",
            "Epoch 35/100\n",
            "13551/13551 [==============================] - 0s 24us/step - loss: 2.7445 - acc: 0.2065 - val_loss: 2.7177 - val_acc: 0.1998\n",
            "Epoch 36/100\n",
            "13551/13551 [==============================] - 0s 24us/step - loss: 2.7423 - acc: 0.2040 - val_loss: 2.7206 - val_acc: 0.2019\n",
            "Epoch 37/100\n",
            "13551/13551 [==============================] - 0s 23us/step - loss: 2.7502 - acc: 0.2014 - val_loss: 2.7216 - val_acc: 0.1998\n",
            "Epoch 38/100\n",
            "13551/13551 [==============================] - 0s 24us/step - loss: 2.7467 - acc: 0.2029 - val_loss: 2.7296 - val_acc: 0.1954\n",
            "Epoch 39/100\n",
            "13551/13551 [==============================] - 0s 25us/step - loss: 2.7404 - acc: 0.2032 - val_loss: 2.7170 - val_acc: 0.2004\n",
            "Epoch 40/100\n",
            "13551/13551 [==============================] - 0s 24us/step - loss: 2.7462 - acc: 0.2021 - val_loss: 2.7159 - val_acc: 0.2019\n",
            "Epoch 41/100\n",
            "13551/13551 [==============================] - 0s 23us/step - loss: 2.7430 - acc: 0.2071 - val_loss: 2.7214 - val_acc: 0.1986\n",
            "Epoch 42/100\n",
            "13551/13551 [==============================] - 0s 25us/step - loss: 2.7364 - acc: 0.2029 - val_loss: 2.7126 - val_acc: 0.2016\n",
            "Epoch 43/100\n",
            "13551/13551 [==============================] - 0s 24us/step - loss: 2.7372 - acc: 0.2046 - val_loss: 2.7121 - val_acc: 0.2016\n",
            "Epoch 44/100\n",
            "13551/13551 [==============================] - 0s 24us/step - loss: 2.7314 - acc: 0.2052 - val_loss: 2.7141 - val_acc: 0.1989\n",
            "Epoch 45/100\n",
            "13551/13551 [==============================] - 0s 25us/step - loss: 2.7303 - acc: 0.2062 - val_loss: 2.7137 - val_acc: 0.2022\n",
            "Epoch 46/100\n",
            "13551/13551 [==============================] - 0s 23us/step - loss: 2.7326 - acc: 0.2038 - val_loss: 2.7095 - val_acc: 0.2034\n",
            "Epoch 47/100\n",
            "13551/13551 [==============================] - 0s 24us/step - loss: 2.7272 - acc: 0.2046 - val_loss: 2.7089 - val_acc: 0.2045\n",
            "Epoch 48/100\n",
            "13551/13551 [==============================] - 0s 25us/step - loss: 2.7273 - acc: 0.2068 - val_loss: 2.7080 - val_acc: 0.2013\n",
            "Epoch 49/100\n",
            "13551/13551 [==============================] - 0s 23us/step - loss: 2.7301 - acc: 0.2068 - val_loss: 2.7064 - val_acc: 0.2057\n",
            "Epoch 50/100\n",
            "13551/13551 [==============================] - 0s 23us/step - loss: 2.7330 - acc: 0.2086 - val_loss: 2.7055 - val_acc: 0.2054\n",
            "Epoch 51/100\n",
            "13551/13551 [==============================] - 0s 25us/step - loss: 2.7244 - acc: 0.2080 - val_loss: 2.7165 - val_acc: 0.2034\n",
            "Epoch 52/100\n",
            "13551/13551 [==============================] - 0s 24us/step - loss: 2.7274 - acc: 0.2049 - val_loss: 2.7006 - val_acc: 0.2054\n",
            "Epoch 53/100\n",
            "13551/13551 [==============================] - 0s 23us/step - loss: 2.7228 - acc: 0.2085 - val_loss: 2.7025 - val_acc: 0.1981\n",
            "Epoch 54/100\n",
            "13551/13551 [==============================] - 0s 25us/step - loss: 2.7236 - acc: 0.2092 - val_loss: 2.7125 - val_acc: 0.2037\n",
            "Epoch 55/100\n",
            "13551/13551 [==============================] - 0s 24us/step - loss: 2.7233 - acc: 0.2094 - val_loss: 2.7052 - val_acc: 0.2040\n",
            "Epoch 56/100\n",
            "13551/13551 [==============================] - 0s 23us/step - loss: 2.7199 - acc: 0.2077 - val_loss: 2.7049 - val_acc: 0.2057\n",
            "Epoch 57/100\n",
            "13551/13551 [==============================] - 0s 23us/step - loss: 2.7184 - acc: 0.2085 - val_loss: 2.7044 - val_acc: 0.2054\n",
            "Epoch 58/100\n",
            "13551/13551 [==============================] - 0s 24us/step - loss: 2.7204 - acc: 0.2095 - val_loss: 2.7054 - val_acc: 0.2040\n",
            "Epoch 59/100\n",
            "13551/13551 [==============================] - 0s 23us/step - loss: 2.7189 - acc: 0.2085 - val_loss: 2.7053 - val_acc: 0.1998\n",
            "Epoch 60/100\n",
            "13551/13551 [==============================] - 0s 24us/step - loss: 2.7143 - acc: 0.2098 - val_loss: 2.7080 - val_acc: 0.2084\n",
            "Epoch 61/100\n",
            "13551/13551 [==============================] - 0s 24us/step - loss: 2.7078 - acc: 0.2133 - val_loss: 2.7029 - val_acc: 0.2060\n",
            "Epoch 62/100\n",
            "13551/13551 [==============================] - 0s 24us/step - loss: 2.7116 - acc: 0.2127 - val_loss: 2.6996 - val_acc: 0.2001\n",
            "Epoch 63/100\n",
            "13551/13551 [==============================] - 0s 23us/step - loss: 2.7076 - acc: 0.2162 - val_loss: 2.7066 - val_acc: 0.2004\n",
            "Epoch 64/100\n",
            "13551/13551 [==============================] - 0s 24us/step - loss: 2.7019 - acc: 0.2136 - val_loss: 2.6977 - val_acc: 0.2066\n",
            "Epoch 65/100\n",
            "13551/13551 [==============================] - 0s 23us/step - loss: 2.7068 - acc: 0.2162 - val_loss: 2.6995 - val_acc: 0.2119\n",
            "Epoch 66/100\n",
            "13551/13551 [==============================] - 0s 23us/step - loss: 2.7063 - acc: 0.2132 - val_loss: 2.7014 - val_acc: 0.2060\n",
            "Epoch 67/100\n",
            "13551/13551 [==============================] - 0s 24us/step - loss: 2.7043 - acc: 0.2139 - val_loss: 2.7034 - val_acc: 0.2037\n",
            "Epoch 68/100\n",
            "13551/13551 [==============================] - 0s 23us/step - loss: 2.7012 - acc: 0.2171 - val_loss: 2.6983 - val_acc: 0.2063\n",
            "Epoch 69/100\n",
            "13551/13551 [==============================] - 0s 24us/step - loss: 2.7003 - acc: 0.2161 - val_loss: 2.7036 - val_acc: 0.2075\n",
            "Epoch 70/100\n",
            "13551/13551 [==============================] - 0s 24us/step - loss: 2.6969 - acc: 0.2163 - val_loss: 2.7007 - val_acc: 0.2025\n",
            "Epoch 71/100\n",
            "13551/13551 [==============================] - 0s 23us/step - loss: 2.6983 - acc: 0.2134 - val_loss: 2.6949 - val_acc: 0.2031\n",
            "Epoch 72/100\n",
            "13551/13551 [==============================] - 0s 24us/step - loss: 2.6983 - acc: 0.2161 - val_loss: 2.7005 - val_acc: 0.2048\n",
            "Epoch 73/100\n",
            "13551/13551 [==============================] - 0s 23us/step - loss: 2.6921 - acc: 0.2175 - val_loss: 2.7007 - val_acc: 0.2087\n",
            "Epoch 74/100\n",
            "13551/13551 [==============================] - 0s 25us/step - loss: 2.6964 - acc: 0.2145 - val_loss: 2.7071 - val_acc: 0.2104\n",
            "Epoch 75/100\n",
            "13551/13551 [==============================] - 0s 23us/step - loss: 2.6984 - acc: 0.2158 - val_loss: 2.6959 - val_acc: 0.2119\n",
            "Epoch 76/100\n",
            "13551/13551 [==============================] - 0s 23us/step - loss: 2.6927 - acc: 0.2184 - val_loss: 2.6931 - val_acc: 0.2107\n",
            "Epoch 77/100\n",
            "13551/13551 [==============================] - 0s 24us/step - loss: 2.6910 - acc: 0.2160 - val_loss: 2.7054 - val_acc: 0.2060\n",
            "Epoch 78/100\n",
            "13551/13551 [==============================] - 0s 24us/step - loss: 2.6909 - acc: 0.2186 - val_loss: 2.6967 - val_acc: 0.2040\n",
            "Epoch 79/100\n",
            "13551/13551 [==============================] - 0s 24us/step - loss: 2.6926 - acc: 0.2153 - val_loss: 2.7005 - val_acc: 0.2031\n",
            "Epoch 80/100\n",
            "13551/13551 [==============================] - 0s 24us/step - loss: 2.6887 - acc: 0.2186 - val_loss: 2.7036 - val_acc: 0.2037\n",
            "Epoch 81/100\n",
            "13551/13551 [==============================] - 0s 23us/step - loss: 2.6870 - acc: 0.2204 - val_loss: 2.7082 - val_acc: 0.2104\n",
            "Epoch 82/100\n",
            "13551/13551 [==============================] - 0s 24us/step - loss: 2.6850 - acc: 0.2199 - val_loss: 2.7014 - val_acc: 0.2081\n",
            "Epoch 83/100\n",
            "13551/13551 [==============================] - 0s 25us/step - loss: 2.6855 - acc: 0.2187 - val_loss: 2.6946 - val_acc: 0.2054\n",
            "Epoch 84/100\n",
            "13551/13551 [==============================] - 0s 27us/step - loss: 2.6785 - acc: 0.2229 - val_loss: 2.6971 - val_acc: 0.2072\n",
            "Epoch 85/100\n",
            "13551/13551 [==============================] - 0s 27us/step - loss: 2.6845 - acc: 0.2170 - val_loss: 2.7020 - val_acc: 0.2057\n",
            "Epoch 86/100\n",
            "13551/13551 [==============================] - 0s 28us/step - loss: 2.6833 - acc: 0.2166 - val_loss: 2.7051 - val_acc: 0.2045\n",
            "Epoch 87/100\n",
            "13551/13551 [==============================] - 0s 27us/step - loss: 2.6780 - acc: 0.2226 - val_loss: 2.7020 - val_acc: 0.2054\n",
            "Epoch 88/100\n",
            "13551/13551 [==============================] - 0s 27us/step - loss: 2.6828 - acc: 0.2185 - val_loss: 2.6996 - val_acc: 0.2066\n",
            "Epoch 89/100\n",
            "13551/13551 [==============================] - 0s 28us/step - loss: 2.6807 - acc: 0.2205 - val_loss: 2.6919 - val_acc: 0.2078\n",
            "Epoch 90/100\n",
            "13551/13551 [==============================] - 0s 27us/step - loss: 2.6789 - acc: 0.2243 - val_loss: 2.6964 - val_acc: 0.2063\n",
            "Epoch 91/100\n",
            "13551/13551 [==============================] - 0s 28us/step - loss: 2.6799 - acc: 0.2167 - val_loss: 2.6959 - val_acc: 0.2110\n",
            "Epoch 92/100\n",
            "13551/13551 [==============================] - 0s 28us/step - loss: 2.6814 - acc: 0.2181 - val_loss: 2.7059 - val_acc: 0.2099\n",
            "Epoch 93/100\n",
            "13551/13551 [==============================] - 0s 27us/step - loss: 2.6746 - acc: 0.2240 - val_loss: 2.7003 - val_acc: 0.2081\n",
            "Epoch 94/100\n",
            "13551/13551 [==============================] - 0s 28us/step - loss: 2.6690 - acc: 0.2240 - val_loss: 2.7007 - val_acc: 0.2128\n",
            "Epoch 95/100\n",
            "13551/13551 [==============================] - 0s 27us/step - loss: 2.6686 - acc: 0.2216 - val_loss: 2.7063 - val_acc: 0.2093\n",
            "Epoch 96/100\n",
            "13551/13551 [==============================] - 0s 27us/step - loss: 2.6643 - acc: 0.2259 - val_loss: 2.6996 - val_acc: 0.2048\n",
            "Epoch 97/100\n",
            "13551/13551 [==============================] - 0s 29us/step - loss: 2.6686 - acc: 0.2233 - val_loss: 2.7059 - val_acc: 0.2075\n",
            "Epoch 98/100\n",
            "13551/13551 [==============================] - 0s 25us/step - loss: 2.6726 - acc: 0.2245 - val_loss: 2.7097 - val_acc: 0.2102\n",
            "Epoch 99/100\n",
            "13551/13551 [==============================] - 0s 24us/step - loss: 2.6606 - acc: 0.2272 - val_loss: 2.7082 - val_acc: 0.2090\n",
            "Epoch 100/100\n",
            "13551/13551 [==============================] - 0s 25us/step - loss: 2.6638 - acc: 0.2260 - val_loss: 2.7057 - val_acc: 0.2116\n"
          ],
          "name": "stdout"
        }
      ]
    },
    {
      "cell_type": "markdown",
      "metadata": {
        "id": "0TH6vgYA8-dg",
        "colab_type": "text"
      },
      "source": [
        "##Model Evaluation"
      ]
    },
    {
      "cell_type": "code",
      "metadata": {
        "id": "TbVlaaex9BEs",
        "colab_type": "code",
        "colab": {
          "base_uri": "https://localhost:8080/",
          "height": 85
        },
        "outputId": "33402c92-e32d-4c3a-b8f0-88cd80009904"
      },
      "source": [
        "# Evaluate accuracy with test data chunk\n",
        "accr = model1.evaluate(Xtest,Ytest)\n",
        "print('Test set\\n  Loss: {:0.3f}\\n  Accuracy: {:0.3f}'.format(accr[0],accr[1]))"
      ],
      "execution_count": 48,
      "outputs": [
        {
          "output_type": "stream",
          "text": [
            "4235/4235 [==============================] - 0s 47us/step\n",
            "Test set\n",
            "  Loss: 2.739\n",
            "  Accuracy: 0.216\n"
          ],
          "name": "stdout"
        }
      ]
    },
    {
      "cell_type": "code",
      "metadata": {
        "id": "NwAC6wCg9HhW",
        "colab_type": "code",
        "colab": {
          "base_uri": "https://localhost:8080/",
          "height": 281
        },
        "outputId": "f27dd1d9-ac79-438c-b02b-bae3831a6e60"
      },
      "source": [
        "# Plot the FFNN model loss and validating loss for knowing overfit and underfit\n",
        "plt.title('Loss for FFNN model')\n",
        "plt.plot(history3.history['loss'], label='train')\n",
        "plt.plot(history3.history['val_loss'], label='test')\n",
        "plt.legend()\n",
        "plt.show();"
      ],
      "execution_count": 49,
      "outputs": [
        {
          "output_type": "display_data",
          "data": {
            "image/png": "[encoded data removed]",
            "text/plain": [
              "<Figure size 432x288 with 1 Axes>"
            ]
          },
          "metadata": {
            "tags": []
          }
        }
      ]
    },
    {
      "cell_type": "code",
      "metadata": {
        "id": "3iSsQ9Uf9NIW",
        "colab_type": "code",
        "colab": {
          "base_uri": "https://localhost:8080/",
          "height": 281
        },
        "outputId": "02670d1f-1954-4d86-b4a5-66d2678f89ed"
      },
      "source": [
        "# Plot the FFNN model accuracy and validating accuracy for knowing overfit and underfit\n",
        "plt.title('Accuracy for FFNN Model')\n",
        "plt.plot(history3.history['acc'], label='train')\n",
        "plt.plot(history3.history['val_acc'], label='test')\n",
        "plt.legend()\n",
        "plt.show();"
      ],
      "execution_count": 50,
      "outputs": [
        {
          "output_type": "display_data",
          "data": {
            "image/png": "[encoded data removed]",
            "text/plain": [
              "<Figure size 432x288 with 1 Axes>"
            ]
          },
          "metadata": {
            "tags": []
          }
        }
      ]
    }
  ]
}