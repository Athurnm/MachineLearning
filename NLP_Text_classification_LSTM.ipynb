{
  "nbformat": 4,
  "nbformat_minor": 0,
  "metadata": {
    "colab": {
      "name": "Text_classification.ipynb",
      "version": "0.3.2",
      "provenance": [],
      "collapsed_sections": [],
      "include_colab_link": true
    },
    "kernelspec": {
      "name": "python3",
      "display_name": "Python 3"
    },
    "accelerator": "GPU"
  },
  "cells": [
    {
      "cell_type": "markdown",
      "metadata": {
        "id": "view-in-github",
        "colab_type": "text"
      },
      "source": [
        "<a href=\"https://colab.research.google.com/github/Athurnm/MachineLearning/blob/master/NLP_Text_classification_LSTM.ipynb\" target=\"_parent\"><img src=\"https://colab.research.google.com/assets/colab-badge.svg\" alt=\"Open In Colab\"/></a>"
      ]
    },
    {
      "cell_type": "code",
      "metadata": {
        "id": "Hf0fdVllpO_J",
        "colab_type": "code",
        "colab": {
          "base_uri": "https://localhost:8080/",
          "height": 853
        },
        "outputId": "4ef68fca-b383-4d4b-ebba-17c8107d17a5"
      },
      "source": [
        "# Importing Dependencies\n",
        "# Using Recurrent neural network\n",
        "from keras.models import Sequential\n",
        "from keras.layers import Dense, LSTM, Dropout, Embedding, SpatialDropout1D\n",
        "from keras.callbacks import EarlyStopping\n",
        "from sklearn.model_selection import train_test_split\n",
        "import numpy as np\n",
        "\n",
        "# Install for saving model\n",
        "!pip install h5py pyyaml\n",
        "!pip install tf_nightly"
      ],
      "execution_count": 61,
      "outputs": [
        {
          "output_type": "stream",
          "text": [
            "Requirement already satisfied: h5py in /usr/local/lib/python3.6/dist-packages (2.8.0)\n",
            "Requirement already satisfied: pyyaml in /usr/local/lib/python3.6/dist-packages (3.13)\n",
            "Requirement already satisfied: six in /usr/local/lib/python3.6/dist-packages (from h5py) (1.12.0)\n",
            "Requirement already satisfied: numpy>=1.7 in /usr/local/lib/python3.6/dist-packages (from h5py) (1.16.3)\n",
            "Collecting tf_nightly\n",
            "\u001b[?25l  Downloading https://files.pythonhosted.org/packages/03/fd/5b9f632c637d0db8b6df5fc4146c6452335f0e8e310c6004b9bf58f83a90/tf_nightly-1.14.1.dev20190508-cp36-cp36m-manylinux1_x86_64.whl (109.0MB)\n",
            "\u001b[K     |████████████████████████████████| 109.0MB 44.9MB/s \n",
            "\u001b[?25hRequirement already satisfied: grpcio>=1.8.6 in /usr/local/lib/python3.6/dist-packages (from tf_nightly) (1.15.0)\n",
            "Requirement already satisfied: keras-applications>=1.0.6 in /usr/local/lib/python3.6/dist-packages (from tf_nightly) (1.0.7)\n",
            "Requirement already satisfied: keras-preprocessing>=1.0.5 in /usr/local/lib/python3.6/dist-packages (from tf_nightly) (1.0.9)\n",
            "Requirement already satisfied: numpy<2.0,>=1.14.5 in /usr/local/lib/python3.6/dist-packages (from tf_nightly) (1.16.3)\n",
            "Collecting google-pasta>=0.1.2 (from tf_nightly)\n",
            "\u001b[?25l  Downloading https://files.pythonhosted.org/packages/64/bb/f1bbc131d6294baa6085a222d29abadd012696b73dcbf8cf1bf56b9f082a/google_pasta-0.1.5-py3-none-any.whl (51kB)\n",
            "\u001b[K     |████████████████████████████████| 61kB 9.3MB/s \n",
            "\u001b[?25hCollecting tb-nightly<1.15.0a0,>=1.14.0a0 (from tf_nightly)\n",
            "\u001b[?25l  Downloading https://files.pythonhosted.org/packages/28/ea/961dab12737fc150d457e72eb1dd39cf6964b9be752955ea25a3daaf4a91/tb_nightly-1.14.0a20190508-py3-none-any.whl (3.1MB)\n",
            "\u001b[K     |████████████████████████████████| 3.1MB 15.5MB/s \n",
            "\u001b[?25hRequirement already satisfied: termcolor>=1.1.0 in /usr/local/lib/python3.6/dist-packages (from tf_nightly) (1.1.0)\n",
            "Requirement already satisfied: protobuf>=3.6.1 in /usr/local/lib/python3.6/dist-packages (from tf_nightly) (3.7.1)\n",
            "Collecting wrapt>=1.11.1 (from tf_nightly)\n",
            "  Downloading https://files.pythonhosted.org/packages/67/b2/0f71ca90b0ade7fad27e3d20327c996c6252a2ffe88f50a95bba7434eda9/wrapt-1.11.1.tar.gz\n",
            "Requirement already satisfied: astor>=0.6.0 in /usr/local/lib/python3.6/dist-packages (from tf_nightly) (0.7.1)\n",
            "Collecting tf-estimator-nightly (from tf_nightly)\n",
            "\u001b[?25l  Downloading https://files.pythonhosted.org/packages/9b/c3/2aecf2510a292a905af1a93ad510ff9dcfa23a2a10d0a0124c8392e6e4da/tf_estimator_nightly-1.14.0.dev2019050801-py2.py3-none-any.whl (486kB)\n",
            "\u001b[K     |████████████████████████████████| 491kB 46.4MB/s \n",
            "\u001b[?25hRequirement already satisfied: wheel>=0.26 in /usr/local/lib/python3.6/dist-packages (from tf_nightly) (0.33.1)\n",
            "Requirement already satisfied: six>=1.10.0 in /usr/local/lib/python3.6/dist-packages (from tf_nightly) (1.12.0)\n",
            "Requirement already satisfied: absl-py>=0.7.0 in /usr/local/lib/python3.6/dist-packages (from tf_nightly) (0.7.1)\n",
            "Requirement already satisfied: gast>=0.2.0 in /usr/local/lib/python3.6/dist-packages (from tf_nightly) (0.2.2)\n",
            "Requirement already satisfied: h5py in /usr/local/lib/python3.6/dist-packages (from keras-applications>=1.0.6->tf_nightly) (2.8.0)\n",
            "Requirement already satisfied: werkzeug>=0.11.15 in /usr/local/lib/python3.6/dist-packages (from tb-nightly<1.15.0a0,>=1.14.0a0->tf_nightly) (0.15.2)\n",
            "Requirement already satisfied: markdown>=2.6.8 in /usr/local/lib/python3.6/dist-packages (from tb-nightly<1.15.0a0,>=1.14.0a0->tf_nightly) (3.1)\n",
            "Requirement already satisfied: setuptools in /usr/local/lib/python3.6/dist-packages (from protobuf>=3.6.1->tf_nightly) (41.0.1)\n",
            "Building wheels for collected packages: wrapt\n",
            "  Building wheel for wrapt (setup.py) ... \u001b[?25l\u001b[?25hdone\n",
            "  Stored in directory: /root/.cache/pip/wheels/89/67/41/63cbf0f6ac0a6156588b9587be4db5565f8c6d8ccef98202fc\n",
            "Successfully built wrapt\n",
            "\u001b[31mERROR: thinc 6.12.1 has requirement wrapt<1.11.0,>=1.10.0, but you'll have wrapt 1.11.1 which is incompatible.\u001b[0m\n",
            "Installing collected packages: google-pasta, tb-nightly, wrapt, tf-estimator-nightly, tf-nightly\n",
            "  Found existing installation: wrapt 1.10.11\n",
            "    Uninstalling wrapt-1.10.11:\n",
            "      Successfully uninstalled wrapt-1.10.11\n",
            "Successfully installed google-pasta-0.1.5 tb-nightly-1.14.0a20190508 tf-estimator-nightly-1.14.0.dev2019050801 tf-nightly-1.14.1.dev20190508 wrapt-1.11.1\n"
          ],
          "name": "stdout"
        },
        {
          "output_type": "display_data",
          "data": {
            "application/vnd.colab-display-data+json": {
              "pip_warning": {
                "packages": [
                  "tensorflow",
                  "tensorflow_estimator"
                ]
              }
            }
          },
          "metadata": {
            "tags": []
          }
        }
      ]
    },
    {
      "cell_type": "markdown",
      "metadata": {
        "id": "rWl1OAOsrfxq",
        "colab_type": "text"
      },
      "source": [
        "#Data Preparation"
      ]
    },
    {
      "cell_type": "code",
      "metadata": {
        "id": "Re9KRcO3rKO0",
        "colab_type": "code",
        "colab": {
          "resources": {
            "http://localhost:8080/nbextensions/google.colab/files.js": {
              "data": "Ly8gQ29weXJpZ2h0IDIwMTcgR29vZ2xlIExMQwovLwovLyBMaWNlbnNlZCB1bmRlciB0aGUgQXBhY2hlIExpY2Vuc2UsIFZlcnNpb24gMi4wICh0aGUgIkxpY2Vuc2UiKTsKLy8geW91IG1heSBub3QgdXNlIHRoaXMgZmlsZSBleGNlcHQgaW4gY29tcGxpYW5jZSB3aXRoIHRoZSBMaWNlbnNlLgovLyBZb3UgbWF5IG9idGFpbiBhIGNvcHkgb2YgdGhlIExpY2Vuc2UgYXQKLy8KLy8gICAgICBodHRwOi8vd3d3LmFwYWNoZS5vcmcvbGljZW5zZXMvTElDRU5TRS0yLjAKLy8KLy8gVW5sZXNzIHJlcXVpcmVkIGJ5IGFwcGxpY2FibGUgbGF3IG9yIGFncmVlZCB0byBpbiB3cml0aW5nLCBzb2Z0d2FyZQovLyBkaXN0cmlidXRlZCB1bmRlciB0aGUgTGljZW5zZSBpcyBkaXN0cmlidXRlZCBvbiBhbiAiQVMgSVMiIEJBU0lTLAovLyBXSVRIT1VUIFdBUlJBTlRJRVMgT1IgQ09ORElUSU9OUyBPRiBBTlkgS0lORCwgZWl0aGVyIGV4cHJlc3Mgb3IgaW1wbGllZC4KLy8gU2VlIHRoZSBMaWNlbnNlIGZvciB0aGUgc3BlY2lmaWMgbGFuZ3VhZ2UgZ292ZXJuaW5nIHBlcm1pc3Npb25zIGFuZAovLyBsaW1pdGF0aW9ucyB1bmRlciB0aGUgTGljZW5zZS4KCi8qKgogKiBAZmlsZW92ZXJ2aWV3IEhlbHBlcnMgZm9yIGdvb2dsZS5jb2xhYiBQeXRob24gbW9kdWxlLgogKi8KKGZ1bmN0aW9uKHNjb3BlKSB7CmZ1bmN0aW9uIHNwYW4odGV4dCwgc3R5bGVBdHRyaWJ1dGVzID0ge30pIHsKICBjb25zdCBlbGVtZW50ID0gZG9jdW1lbnQuY3JlYXRlRWxlbWVudCgnc3BhbicpOwogIGVsZW1lbnQudGV4dENvbnRlbnQgPSB0ZXh0OwogIGZvciAoY29uc3Qga2V5IG9mIE9iamVjdC5rZXlzKHN0eWxlQXR0cmlidXRlcykpIHsKICAgIGVsZW1lbnQuc3R5bGVba2V5XSA9IHN0eWxlQXR0cmlidXRlc1trZXldOwogIH0KICByZXR1cm4gZWxlbWVudDsKfQoKLy8gTWF4IG51bWJlciBvZiBieXRlcyB3aGljaCB3aWxsIGJlIHVwbG9hZGVkIGF0IGEgdGltZS4KY29uc3QgTUFYX1BBWUxPQURfU0laRSA9IDEwMCAqIDEwMjQ7Ci8vIE1heCBhbW91bnQgb2YgdGltZSB0byBibG9jayB3YWl0aW5nIGZvciB0aGUgdXNlci4KY29uc3QgRklMRV9DSEFOR0VfVElNRU9VVF9NUyA9IDMwICogMTAwMDsKCmZ1bmN0aW9uIF91cGxvYWRGaWxlcyhpbnB1dElkLCBvdXRwdXRJZCkgewogIGNvbnN0IHN0ZXBzID0gdXBsb2FkRmlsZXNTdGVwKGlucHV0SWQsIG91dHB1dElkKTsKICBjb25zdCBvdXRwdXRFbGVtZW50ID0gZG9jdW1lbnQuZ2V0RWxlbWVudEJ5SWQob3V0cHV0SWQpOwogIC8vIENhY2hlIHN0ZXBzIG9uIHRoZSBvdXRwdXRFbGVtZW50IHRvIG1ha2UgaXQgYXZhaWxhYmxlIGZvciB0aGUgbmV4dCBjYWxsCiAgLy8gdG8gdXBsb2FkRmlsZXNDb250aW51ZSBmcm9tIFB5dGhvbi4KICBvdXRwdXRFbGVtZW50LnN0ZXBzID0gc3RlcHM7CgogIHJldHVybiBfdXBsb2FkRmlsZXNDb250aW51ZShvdXRwdXRJZCk7Cn0KCi8vIFRoaXMgaXMgcm91Z2hseSBhbiBhc3luYyBnZW5lcmF0b3IgKG5vdCBzdXBwb3J0ZWQgaW4gdGhlIGJyb3dzZXIgeWV0KSwKLy8gd2hlcmUgdGhlcmUgYXJlIG11bHRpcGxlIGFzeW5jaHJvbm91cyBzdGVwcyBhbmQgdGhlIFB5dGhvbiBzaWRlIGlzIGdvaW5nCi8vIHRvIHBvbGwgZm9yIGNvbXBsZXRpb24gb2YgZWFjaCBzdGVwLgovLyBUaGlzIHVzZXMgYSBQcm9taXNlIHRvIGJsb2NrIHRoZSBweXRob24gc2lkZSBvbiBjb21wbGV0aW9uIG9mIGVhY2ggc3RlcCwKLy8gdGhlbiBwYXNzZXMgdGhlIHJlc3VsdCBvZiB0aGUgcHJldmlvdXMgc3RlcCBhcyB0aGUgaW5wdXQgdG8gdGhlIG5leHQgc3RlcC4KZnVuY3Rpb24gX3VwbG9hZEZpbGVzQ29udGludWUob3V0cHV0SWQpIHsKICBjb25zdCBvdXRwdXRFbGVtZW50ID0gZG9jdW1lbnQuZ2V0RWxlbWVudEJ5SWQob3V0cHV0SWQpOwogIGNvbnN0IHN0ZXBzID0gb3V0cHV0RWxlbWVudC5zdGVwczsKCiAgY29uc3QgbmV4dCA9IHN0ZXBzLm5leHQob3V0cHV0RWxlbWVudC5sYXN0UHJvbWlzZVZhbHVlKTsKICByZXR1cm4gUHJvbWlzZS5yZXNvbHZlKG5leHQudmFsdWUucHJvbWlzZSkudGhlbigodmFsdWUpID0+IHsKICAgIC8vIENhY2hlIHRoZSBsYXN0IHByb21pc2UgdmFsdWUgdG8gbWFrZSBpdCBhdmFpbGFibGUgdG8gdGhlIG5leHQKICAgIC8vIHN0ZXAgb2YgdGhlIGdlbmVyYXRvci4KICAgIG91dHB1dEVsZW1lbnQubGFzdFByb21pc2VWYWx1ZSA9IHZhbHVlOwogICAgcmV0dXJuIG5leHQudmFsdWUucmVzcG9uc2U7CiAgfSk7Cn0KCi8qKgogKiBHZW5lcmF0b3IgZnVuY3Rpb24gd2hpY2ggaXMgY2FsbGVkIGJldHdlZW4gZWFjaCBhc3luYyBzdGVwIG9mIHRoZSB1cGxvYWQKICogcHJvY2Vzcy4KICogQHBhcmFtIHtzdHJpbmd9IGlucHV0SWQgRWxlbWVudCBJRCBvZiB0aGUgaW5wdXQgZmlsZSBwaWNrZXIgZWxlbWVudC4KICogQHBhcmFtIHtzdHJpbmd9IG91dHB1dElkIEVsZW1lbnQgSUQgb2YgdGhlIG91dHB1dCBkaXNwbGF5LgogKiBAcmV0dXJuIHshSXRlcmFibGU8IU9iamVjdD59IEl0ZXJhYmxlIG9mIG5leHQgc3RlcHMuCiAqLwpmdW5jdGlvbiogdXBsb2FkRmlsZXNTdGVwKGlucHV0SWQsIG91dHB1dElkKSB7CiAgY29uc3QgaW5wdXRFbGVtZW50ID0gZG9jdW1lbnQuZ2V0RWxlbWVudEJ5SWQoaW5wdXRJZCk7CiAgaW5wdXRFbGVtZW50LmRpc2FibGVkID0gZmFsc2U7CgogIGNvbnN0IG91dHB1dEVsZW1lbnQgPSBkb2N1bWVudC5nZXRFbGVtZW50QnlJZChvdXRwdXRJZCk7CiAgb3V0cHV0RWxlbWVudC5pbm5lckhUTUwgPSAnJzsKCiAgY29uc3QgcGlja2VkUHJvbWlzZSA9IG5ldyBQcm9taXNlKChyZXNvbHZlKSA9PiB7CiAgICBpbnB1dEVsZW1lbnQuYWRkRXZlbnRMaXN0ZW5lcignY2hhbmdlJywgKGUpID0+IHsKICAgICAgcmVzb2x2ZShlLnRhcmdldC5maWxlcyk7CiAgICB9KTsKICB9KTsKCiAgY29uc3QgY2FuY2VsID0gZG9jdW1lbnQuY3JlYXRlRWxlbWVudCgnYnV0dG9uJyk7CiAgaW5wdXRFbGVtZW50LnBhcmVudEVsZW1lbnQuYXBwZW5kQ2hpbGQoY2FuY2VsKTsKICBjYW5jZWwudGV4dENvbnRlbnQgPSAnQ2FuY2VsIHVwbG9hZCc7CiAgY29uc3QgY2FuY2VsUHJvbWlzZSA9IG5ldyBQcm9taXNlKChyZXNvbHZlKSA9PiB7CiAgICBjYW5jZWwub25jbGljayA9ICgpID0+IHsKICAgICAgcmVzb2x2ZShudWxsKTsKICAgIH07CiAgfSk7CgogIC8vIENhbmNlbCB1cGxvYWQgaWYgdXNlciBoYXNuJ3QgcGlja2VkIGFueXRoaW5nIGluIHRpbWVvdXQuCiAgY29uc3QgdGltZW91dFByb21pc2UgPSBuZXcgUHJvbWlzZSgocmVzb2x2ZSkgPT4gewogICAgc2V0VGltZW91dCgoKSA9PiB7CiAgICAgIHJlc29sdmUobnVsbCk7CiAgICB9LCBGSUxFX0NIQU5HRV9USU1FT1VUX01TKTsKICB9KTsKCiAgLy8gV2FpdCBmb3IgdGhlIHVzZXIgdG8gcGljayB0aGUgZmlsZXMuCiAgY29uc3QgZmlsZXMgPSB5aWVsZCB7CiAgICBwcm9taXNlOiBQcm9taXNlLnJhY2UoW3BpY2tlZFByb21pc2UsIHRpbWVvdXRQcm9taXNlLCBjYW5jZWxQcm9taXNlXSksCiAgICByZXNwb25zZTogewogICAgICBhY3Rpb246ICdzdGFydGluZycsCiAgICB9CiAgfTsKCiAgaWYgKCFmaWxlcykgewogICAgcmV0dXJuIHsKICAgICAgcmVzcG9uc2U6IHsKICAgICAgICBhY3Rpb246ICdjb21wbGV0ZScsCiAgICAgIH0KICAgIH07CiAgfQoKICBjYW5jZWwucmVtb3ZlKCk7CgogIC8vIERpc2FibGUgdGhlIGlucHV0IGVsZW1lbnQgc2luY2UgZnVydGhlciBwaWNrcyBhcmUgbm90IGFsbG93ZWQuCiAgaW5wdXRFbGVtZW50LmRpc2FibGVkID0gdHJ1ZTsKCiAgZm9yIChjb25zdCBmaWxlIG9mIGZpbGVzKSB7CiAgICBjb25zdCBsaSA9IGRvY3VtZW50LmNyZWF0ZUVsZW1lbnQoJ2xpJyk7CiAgICBsaS5hcHBlbmQoc3BhbihmaWxlLm5hbWUsIHtmb250V2VpZ2h0OiAnYm9sZCd9KSk7CiAgICBsaS5hcHBlbmQoc3BhbigKICAgICAgICBgKCR7ZmlsZS50eXBlIHx8ICduL2EnfSkgLSAke2ZpbGUuc2l6ZX0gYnl0ZXMsIGAgKwogICAgICAgIGBsYXN0IG1vZGlmaWVkOiAkewogICAgICAgICAgICBmaWxlLmxhc3RNb2RpZmllZERhdGUgPyBmaWxlLmxhc3RNb2RpZmllZERhdGUudG9Mb2NhbGVEYXRlU3RyaW5nKCkgOgogICAgICAgICAgICAgICAgICAgICAgICAgICAgICAgICAgICAnbi9hJ30gLSBgKSk7CiAgICBjb25zdCBwZXJjZW50ID0gc3BhbignMCUgZG9uZScpOwogICAgbGkuYXBwZW5kQ2hpbGQocGVyY2VudCk7CgogICAgb3V0cHV0RWxlbWVudC5hcHBlbmRDaGlsZChsaSk7CgogICAgY29uc3QgZmlsZURhdGFQcm9taXNlID0gbmV3IFByb21pc2UoKHJlc29sdmUpID0+IHsKICAgICAgY29uc3QgcmVhZGVyID0gbmV3IEZpbGVSZWFkZXIoKTsKICAgICAgcmVhZGVyLm9ubG9hZCA9IChlKSA9PiB7CiAgICAgICAgcmVzb2x2ZShlLnRhcmdldC5yZXN1bHQpOwogICAgICB9OwogICAgICByZWFkZXIucmVhZEFzQXJyYXlCdWZmZXIoZmlsZSk7CiAgICB9KTsKICAgIC8vIFdhaXQgZm9yIHRoZSBkYXRhIHRvIGJlIHJlYWR5LgogICAgbGV0IGZpbGVEYXRhID0geWllbGQgewogICAgICBwcm9taXNlOiBmaWxlRGF0YVByb21pc2UsCiAgICAgIHJlc3BvbnNlOiB7CiAgICAgICAgYWN0aW9uOiAnY29udGludWUnLAogICAgICB9CiAgICB9OwoKICAgIC8vIFVzZSBhIGNodW5rZWQgc2VuZGluZyB0byBhdm9pZCBtZXNzYWdlIHNpemUgbGltaXRzLiBTZWUgYi82MjExNTY2MC4KICAgIGxldCBwb3NpdGlvbiA9IDA7CiAgICB3aGlsZSAocG9zaXRpb24gPCBmaWxlRGF0YS5ieXRlTGVuZ3RoKSB7CiAgICAgIGNvbnN0IGxlbmd0aCA9IE1hdGgubWluKGZpbGVEYXRhLmJ5dGVMZW5ndGggLSBwb3NpdGlvbiwgTUFYX1BBWUxPQURfU0laRSk7CiAgICAgIGNvbnN0IGNodW5rID0gbmV3IFVpbnQ4QXJyYXkoZmlsZURhdGEsIHBvc2l0aW9uLCBsZW5ndGgpOwogICAgICBwb3NpdGlvbiArPSBsZW5ndGg7CgogICAgICBjb25zdCBiYXNlNjQgPSBidG9hKFN0cmluZy5mcm9tQ2hhckNvZGUuYXBwbHkobnVsbCwgY2h1bmspKTsKICAgICAgeWllbGQgewogICAgICAgIHJlc3BvbnNlOiB7CiAgICAgICAgICBhY3Rpb246ICdhcHBlbmQnLAogICAgICAgICAgZmlsZTogZmlsZS5uYW1lLAogICAgICAgICAgZGF0YTogYmFzZTY0LAogICAgICAgIH0sCiAgICAgIH07CiAgICAgIHBlcmNlbnQudGV4dENvbnRlbnQgPQogICAgICAgICAgYCR7TWF0aC5yb3VuZCgocG9zaXRpb24gLyBmaWxlRGF0YS5ieXRlTGVuZ3RoKSAqIDEwMCl9JSBkb25lYDsKICAgIH0KICB9CgogIC8vIEFsbCBkb25lLgogIHlpZWxkIHsKICAgIHJlc3BvbnNlOiB7CiAgICAgIGFjdGlvbjogJ2NvbXBsZXRlJywKICAgIH0KICB9Owp9CgpzY29wZS5nb29nbGUgPSBzY29wZS5nb29nbGUgfHwge307CnNjb3BlLmdvb2dsZS5jb2xhYiA9IHNjb3BlLmdvb2dsZS5jb2xhYiB8fCB7fTsKc2NvcGUuZ29vZ2xlLmNvbGFiLl9maWxlcyA9IHsKICBfdXBsb2FkRmlsZXMsCiAgX3VwbG9hZEZpbGVzQ29udGludWUsCn07Cn0pKHNlbGYpOwo=",
              "ok": true,
              "headers": [
                [
                  "content-type",
                  "application/javascript"
                ]
              ],
              "status": 200,
              "status_text": ""
            }
          },
          "base_uri": "https://localhost:8080/",
          "height": 74
        },
        "outputId": "106c41da-7232-4fb5-c83f-b6c76137b082"
      },
      "source": [
        "# Importing data from drive\n",
        "from google.colab import files\n",
        "uploaded = files.upload()"
      ],
      "execution_count": 35,
      "outputs": [
        {
          "output_type": "display_data",
          "data": {
            "text/html": [
              "\n",
              "     <input type=\"file\" id=\"files-14e6cf73-f8b2-490a-9c6e-2c97ced8cfb4\" name=\"files[]\" multiple disabled />\n",
              "     <output id=\"result-14e6cf73-f8b2-490a-9c6e-2c97ced8cfb4\">\n",
              "      Upload widget is only available when the cell has been executed in the\n",
              "      current browser session. Please rerun this cell to enable.\n",
              "      </output>\n",
              "      <script src=\"/nbextensions/google.colab/files.js\"></script> "
            ],
            "text/plain": [
              "<IPython.core.display.HTML object>"
            ]
          },
          "metadata": {
            "tags": []
          }
        },
        {
          "output_type": "stream",
          "text": [
            "Saving DB INTENT.csv to DB INTENT (2).csv\n"
          ],
          "name": "stdout"
        }
      ]
    },
    {
      "cell_type": "code",
      "metadata": {
        "id": "JwYCjtvZsUXH",
        "colab_type": "code",
        "colab": {}
      },
      "source": [
        "import pandas as pd\n",
        "import io\n",
        "df = pd.read_csv(io.StringIO(uploaded['DB INTENT.csv'].decode('utf-8')))"
      ],
      "execution_count": 0,
      "outputs": []
    },
    {
      "cell_type": "code",
      "metadata": {
        "id": "nykjh0AVuPo3",
        "colab_type": "code",
        "colab": {
          "base_uri": "https://localhost:8080/",
          "height": 204
        },
        "outputId": "014d9dc3-16a7-4bf1-d35c-ea33e2de7050"
      },
      "source": [
        "# Checking data\n",
        "df.head()"
      ],
      "execution_count": 37,
      "outputs": [
        {
          "output_type": "execute_result",
          "data": {
            "text/html": [
              "<div>\n",
              "<style scoped>\n",
              "    .dataframe tbody tr th:only-of-type {\n",
              "        vertical-align: middle;\n",
              "    }\n",
              "\n",
              "    .dataframe tbody tr th {\n",
              "        vertical-align: top;\n",
              "    }\n",
              "\n",
              "    .dataframe thead th {\n",
              "        text-align: right;\n",
              "    }\n",
              "</style>\n",
              "<table border=\"1\" class=\"dataframe\">\n",
              "  <thead>\n",
              "    <tr style=\"text-align: right;\">\n",
              "      <th></th>\n",
              "      <th>TEKS_KALIMAT</th>\n",
              "      <th>ID_KONTEKS</th>\n",
              "    </tr>\n",
              "  </thead>\n",
              "  <tbody>\n",
              "    <tr>\n",
              "      <th>0</th>\n",
              "      <td>bisa dibantu maaf, selamat pagi</td>\n",
              "      <td>33</td>\n",
              "    </tr>\n",
              "    <tr>\n",
              "      <th>1</th>\n",
              "      <td>mbak, saya mau melaporkan ini gangguan telepon</td>\n",
              "      <td>12</td>\n",
              "    </tr>\n",
              "    <tr>\n",
              "      <th>2</th>\n",
              "      <td>sering kali nggak bisa ditelepon, nggak bisa t...</td>\n",
              "      <td>12</td>\n",
              "    </tr>\n",
              "    <tr>\n",
              "      <th>3</th>\n",
              "      <td>kan sejak diganti sama ada dikasih modem itu</td>\n",
              "      <td>12</td>\n",
              "    </tr>\n",
              "    <tr>\n",
              "      <th>4</th>\n",
              "      <td>iya baik</td>\n",
              "      <td>19</td>\n",
              "    </tr>\n",
              "  </tbody>\n",
              "</table>\n",
              "</div>"
            ],
            "text/plain": [
              "                                        TEKS_KALIMAT  ID_KONTEKS\n",
              "0                    bisa dibantu maaf, selamat pagi          33\n",
              "1     mbak, saya mau melaporkan ini gangguan telepon          12\n",
              "2  sering kali nggak bisa ditelepon, nggak bisa t...          12\n",
              "3       kan sejak diganti sama ada dikasih modem itu          12\n",
              "4                                           iya baik          19"
            ]
          },
          "metadata": {
            "tags": []
          },
          "execution_count": 37
        }
      ]
    },
    {
      "cell_type": "code",
      "metadata": {
        "id": "mo_G1Bo-AVuA",
        "colab_type": "code",
        "colab": {
          "base_uri": "https://localhost:8080/",
          "height": 34
        },
        "outputId": "f095e67f-fa39-4a73-ef15-60d137ad9a9d"
      },
      "source": [
        "# Load tools we need for preprocessing\n",
        "# Tokenizer use to tokenize text into words\n",
        "from keras.preprocessing.text import Tokenizer\n",
        "from keras.preprocessing.sequence import pad_sequences\n",
        "\n",
        "# The maximum number of words to be used. (most frequent)\n",
        "MAX_NB_WORDS = 50000\n",
        "# Max number of words in each complaint.\n",
        "MAX_SEQUENCE_LENGTH = 250\n",
        "# This is fixed.\n",
        "EMBEDDING_DIM = 100\n",
        "\n",
        "tokenizer = Tokenizer(num_words=MAX_NB_WORDS, filters='!\"#$%&()*+,-./:;<=>?@[\\]^_`{|}~', lower=True)\n",
        "tokenizer.fit_on_texts(df['TEKS_KALIMAT'].values)\n",
        "word_index = tokenizer.word_index\n",
        "print('Found %s unique tokens.' % len(word_index))"
      ],
      "execution_count": 38,
      "outputs": [
        {
          "output_type": "stream",
          "text": [
            "Found 6691 unique tokens.\n"
          ],
          "name": "stdout"
        }
      ]
    },
    {
      "cell_type": "code",
      "metadata": {
        "id": "ZNPISiMcAubw",
        "colab_type": "code",
        "colab": {
          "base_uri": "https://localhost:8080/",
          "height": 34
        },
        "outputId": "17992060-0565-46fe-d9f7-6fdbf2adbf1a"
      },
      "source": [
        "X = tokenizer.texts_to_sequences(df['TEKS_KALIMAT'].values)\n",
        "X = pad_sequences(X, maxlen=MAX_SEQUENCE_LENGTH)\n",
        "print('Shape of data tensor:', X.shape)"
      ],
      "execution_count": 39,
      "outputs": [
        {
          "output_type": "stream",
          "text": [
            "Shape of data tensor: (21174, 250)\n"
          ],
          "name": "stdout"
        }
      ]
    },
    {
      "cell_type": "code",
      "metadata": {
        "id": "LvUKYu8dB8dr",
        "colab_type": "code",
        "colab": {
          "base_uri": "https://localhost:8080/",
          "height": 34
        },
        "outputId": "393c76ff-8460-4aa8-93ed-c8765d2c764a"
      },
      "source": [
        "target = pd.get_dummies(df['ID_KONTEKS'].values)\n",
        "print('Shape of data tensor:', target.shape)"
      ],
      "execution_count": 40,
      "outputs": [
        {
          "output_type": "stream",
          "text": [
            "Shape of data tensor: (21174, 42)\n"
          ],
          "name": "stdout"
        }
      ]
    },
    {
      "cell_type": "code",
      "metadata": {
        "id": "t7W-CpiTwfPO",
        "colab_type": "code",
        "colab": {}
      },
      "source": [
        "#from sklearn.preprocessing import LabelBinarizer"
      ],
      "execution_count": 0,
      "outputs": []
    },
    {
      "cell_type": "code",
      "metadata": {
        "id": "-LJ4zi2WwgX4",
        "colab_type": "code",
        "colab": {}
      },
      "source": [
        "#encoder = LabelBinarizer()\n",
        "#encoder.fit(ta)\n",
        "#target = encoder.transform(ta)"
      ],
      "execution_count": 0,
      "outputs": []
    },
    {
      "cell_type": "code",
      "metadata": {
        "id": "sU6fDADUw4Vy",
        "colab_type": "code",
        "colab": {}
      },
      "source": [
        "#print(ta[0])\n",
        "#print(target[1])"
      ],
      "execution_count": 0,
      "outputs": []
    },
    {
      "cell_type": "code",
      "metadata": {
        "id": "lziiGzjkulUj",
        "colab_type": "code",
        "colab": {}
      },
      "source": [
        "# convert pandas dataframe to string type (for list)\n",
        "#text = df['TEKS_KALIMAT']\n",
        "#text = text.astype(str)\n",
        "\n",
        "\n",
        "# target = df['ID_KONTEKS_ALT_1'].values.tolist()\n",
        "#target = df['ID_KONTEKS']\n",
        "#target = target.astype(str)"
      ],
      "execution_count": 0,
      "outputs": []
    },
    {
      "cell_type": "code",
      "metadata": {
        "id": "gUh_zF4qu0KZ",
        "colab_type": "code",
        "colab": {}
      },
      "source": [
        "# change to list type\n",
        "#t = text.tolist()\n",
        "#ta = target.tolist()\n",
        "#print(type(t))\n",
        "#print(type(ta))"
      ],
      "execution_count": 0,
      "outputs": []
    },
    {
      "cell_type": "code",
      "metadata": {
        "id": "a7sTEBm9vsuV",
        "colab_type": "code",
        "colab": {}
      },
      "source": [
        "#VOCAB_SIZE = 20000 #define vocabulary size is 20000"
      ],
      "execution_count": 0,
      "outputs": []
    },
    {
      "cell_type": "code",
      "metadata": {
        "id": "awEqtzbXvxqV",
        "colab_type": "code",
        "colab": {}
      },
      "source": [
        "#tokenizer = Tokenizer(num_words=VOCAB_SIZE) # Setup tokenizer"
      ],
      "execution_count": 0,
      "outputs": []
    },
    {
      "cell_type": "code",
      "metadata": {
        "id": "gAvLCx0MvzxN",
        "colab_type": "code",
        "colab": {}
      },
      "source": [
        "#tokenizer.fit_on_texts(t)"
      ],
      "execution_count": 0,
      "outputs": []
    },
    {
      "cell_type": "code",
      "metadata": {
        "id": "QipmiHJRv3v3",
        "colab_type": "code",
        "colab": {}
      },
      "source": [
        "#text = tokenizer.texts_to_matrix(t, mode='tfidf')"
      ],
      "execution_count": 0,
      "outputs": []
    },
    {
      "cell_type": "code",
      "metadata": {
        "id": "4xJh8-DYwL90",
        "colab_type": "code",
        "colab": {}
      },
      "source": [
        "#tokenizer.index_word #list words"
      ],
      "execution_count": 0,
      "outputs": []
    },
    {
      "cell_type": "code",
      "metadata": {
        "id": "2nY-PaT0wPin",
        "colab_type": "code",
        "colab": {}
      },
      "source": [
        "#word_index = tokenizer.word_index\n",
        "#print('Found %s unique tokens.' % len(word_index))"
      ],
      "execution_count": 0,
      "outputs": []
    },
    {
      "cell_type": "markdown",
      "metadata": {
        "id": "idN496iow7c4",
        "colab_type": "text"
      },
      "source": [
        "##Data Split for Train and Validation"
      ]
    },
    {
      "cell_type": "code",
      "metadata": {
        "id": "-usSoysgxAKf",
        "colab_type": "code",
        "colab": {}
      },
      "source": [
        "Xtrain,Xtest,Ytrain,Ytest = train_test_split(X, target, test_size=0.2, random_state=1)"
      ],
      "execution_count": 0,
      "outputs": []
    },
    {
      "cell_type": "markdown",
      "metadata": {
        "id": "Ssdm22IkzHvq",
        "colab_type": "text"
      },
      "source": [
        "#RNN Model"
      ]
    },
    {
      "cell_type": "code",
      "metadata": {
        "id": "vZrPATjYyRLo",
        "colab_type": "code",
        "colab": {}
      },
      "source": [
        "# Instatiate model\n",
        "model = Sequential()"
      ],
      "execution_count": 0,
      "outputs": []
    },
    {
      "cell_type": "code",
      "metadata": {
        "id": "cKT1JIETzTzP",
        "colab_type": "code",
        "colab": {}
      },
      "source": [
        "# Input layer with embedding words\n",
        "model.add(Embedding(MAX_NB_WORDS, EMBEDDING_DIM))\n",
        "model.add(SpatialDropout1D(0.2))\n",
        "\n",
        "# Hidden layer RNN using LSTM\n",
        "model.add(LSTM(100, dropout=0.2, recurrent_dropout=0.2))\n",
        "\n",
        "# Output layer 42 class\n",
        "model.add(Dense(42, activation='softmax'))\n",
        "model.compile(loss='categorical_crossentropy', optimizer='adam', metrics=['accuracy'])\n",
        "\n",
        "epochs = 100\n",
        "batch_size = 64"
      ],
      "execution_count": 0,
      "outputs": []
    },
    {
      "cell_type": "code",
      "metadata": {
        "id": "vUyVosY26wK2",
        "colab_type": "code",
        "colab": {
          "base_uri": "https://localhost:8080/",
          "height": 578
        },
        "outputId": "7bb5efa0-2d0f-4712-eace-cd35eba5b019"
      },
      "source": [
        "# using early stopping\n",
        "history = model.fit(Xtrain, Ytrain, epochs=epochs, batch_size=batch_size,validation_split=0.2,callbacks=[EarlyStopping(monitor='val_loss', patience=10, min_delta=0.1)])"
      ],
      "execution_count": 55,
      "outputs": [
        {
          "output_type": "stream",
          "text": [
            "Train on 13551 samples, validate on 3388 samples\n",
            "Epoch 1/100\n",
            "13551/13551 [==============================] - 90s 7ms/step - loss: 2.8592 - acc: 0.1977 - val_loss: 2.6352 - val_acc: 0.2403\n",
            "Epoch 2/100\n",
            "13551/13551 [==============================] - 89s 7ms/step - loss: 2.5428 - acc: 0.2715 - val_loss: 2.4461 - val_acc: 0.2816\n",
            "Epoch 3/100\n",
            "13551/13551 [==============================] - 89s 7ms/step - loss: 2.3458 - acc: 0.3256 - val_loss: 2.3409 - val_acc: 0.3120\n",
            "Epoch 4/100\n",
            "13551/13551 [==============================] - 87s 6ms/step - loss: 2.1724 - acc: 0.3626 - val_loss: 2.2889 - val_acc: 0.3244\n",
            "Epoch 5/100\n",
            "13551/13551 [==============================] - 87s 6ms/step - loss: 2.0321 - acc: 0.4030 - val_loss: 2.2461 - val_acc: 0.3462\n",
            "Epoch 6/100\n",
            "13551/13551 [==============================] - 88s 6ms/step - loss: 1.9058 - acc: 0.4437 - val_loss: 2.2394 - val_acc: 0.3545\n",
            "Epoch 7/100\n",
            "13551/13551 [==============================] - 88s 6ms/step - loss: 1.7941 - acc: 0.4743 - val_loss: 2.2051 - val_acc: 0.3607\n",
            "Epoch 8/100\n",
            "13551/13551 [==============================] - 86s 6ms/step - loss: 1.6927 - acc: 0.4967 - val_loss: 2.2040 - val_acc: 0.3695\n",
            "Epoch 9/100\n",
            "13551/13551 [==============================] - 86s 6ms/step - loss: 1.6101 - acc: 0.5226 - val_loss: 2.2136 - val_acc: 0.3799\n",
            "Epoch 10/100\n",
            "13551/13551 [==============================] - 87s 6ms/step - loss: 1.5282 - acc: 0.5472 - val_loss: 2.2191 - val_acc: 0.3743\n",
            "Epoch 11/100\n",
            "13551/13551 [==============================] - 86s 6ms/step - loss: 1.4626 - acc: 0.5607 - val_loss: 2.2223 - val_acc: 0.3843\n",
            "Epoch 12/100\n",
            "13551/13551 [==============================] - 86s 6ms/step - loss: 1.4069 - acc: 0.5800 - val_loss: 2.2472 - val_acc: 0.3796\n",
            "Epoch 13/100\n",
            "13551/13551 [==============================] - 86s 6ms/step - loss: 1.3514 - acc: 0.5926 - val_loss: 2.2748 - val_acc: 0.3790\n",
            "Epoch 14/100\n",
            "13551/13551 [==============================] - 87s 6ms/step - loss: 1.3002 - acc: 0.6098 - val_loss: 2.2938 - val_acc: 0.3808\n",
            "Epoch 15/100\n",
            "13551/13551 [==============================] - 85s 6ms/step - loss: 1.2554 - acc: 0.6187 - val_loss: 2.3144 - val_acc: 0.3837\n",
            "Epoch 16/100\n",
            "13551/13551 [==============================] - 86s 6ms/step - loss: 1.2146 - acc: 0.6270 - val_loss: 2.3193 - val_acc: 0.3843\n"
          ],
          "name": "stdout"
        }
      ]
    },
    {
      "cell_type": "code",
      "metadata": {
        "id": "lIo5UP5sZ5p_",
        "colab_type": "code",
        "colab": {}
      },
      "source": [
        "model.save('NLP_Classification_LSTM_EarlyStopping.h5')"
      ],
      "execution_count": 0,
      "outputs": []
    },
    {
      "cell_type": "code",
      "metadata": {
        "id": "bHGYNBeZ7XgA",
        "colab_type": "code",
        "outputId": "75b3ca11-062f-452f-e563-0c13650b7377",
        "colab": {
          "base_uri": "https://localhost:8080/",
          "height": 3434
        }
      },
      "source": [
        "# without early stopping\n",
        "history2 = model.fit(Xtrain, Ytrain, epochs=epochs, batch_size=batch_size,validation_split=0.1)"
      ],
      "execution_count": 57,
      "outputs": [
        {
          "output_type": "stream",
          "text": [
            "Train on 15245 samples, validate on 1694 samples\n",
            "Epoch 1/100\n",
            "15245/15245 [==============================] - 95s 6ms/step - loss: 1.3048 - acc: 0.6114 - val_loss: 2.2770 - val_acc: 0.3896\n",
            "Epoch 2/100\n",
            "15245/15245 [==============================] - 94s 6ms/step - loss: 1.2378 - acc: 0.6237 - val_loss: 2.2658 - val_acc: 0.3878\n",
            "Epoch 3/100\n",
            "15245/15245 [==============================] - 93s 6ms/step - loss: 1.1877 - acc: 0.6374 - val_loss: 2.3104 - val_acc: 0.3902\n",
            "Epoch 4/100\n",
            "15245/15245 [==============================] - 94s 6ms/step - loss: 1.1527 - acc: 0.6453 - val_loss: 2.3020 - val_acc: 0.3973\n",
            "Epoch 5/100\n",
            "15245/15245 [==============================] - 94s 6ms/step - loss: 1.1100 - acc: 0.6583 - val_loss: 2.3315 - val_acc: 0.3855\n",
            "Epoch 6/100\n",
            "15245/15245 [==============================] - 93s 6ms/step - loss: 1.0693 - acc: 0.6697 - val_loss: 2.3595 - val_acc: 0.3890\n",
            "Epoch 7/100\n",
            "15245/15245 [==============================] - 94s 6ms/step - loss: 1.0426 - acc: 0.6722 - val_loss: 2.3661 - val_acc: 0.3914\n",
            "Epoch 8/100\n",
            "15245/15245 [==============================] - 96s 6ms/step - loss: 1.0090 - acc: 0.6813 - val_loss: 2.4041 - val_acc: 0.3949\n",
            "Epoch 9/100\n",
            "15245/15245 [==============================] - 93s 6ms/step - loss: 0.9846 - acc: 0.6882 - val_loss: 2.4179 - val_acc: 0.3920\n",
            "Epoch 10/100\n",
            "15245/15245 [==============================] - 94s 6ms/step - loss: 0.9667 - acc: 0.6895 - val_loss: 2.4379 - val_acc: 0.3961\n",
            "Epoch 11/100\n",
            "15245/15245 [==============================] - 95s 6ms/step - loss: 0.9391 - acc: 0.7009 - val_loss: 2.4728 - val_acc: 0.3949\n",
            "Epoch 12/100\n",
            "15245/15245 [==============================] - 94s 6ms/step - loss: 0.9116 - acc: 0.7084 - val_loss: 2.5228 - val_acc: 0.3884\n",
            "Epoch 13/100\n",
            "15245/15245 [==============================] - 95s 6ms/step - loss: 0.9018 - acc: 0.7106 - val_loss: 2.5344 - val_acc: 0.3943\n",
            "Epoch 14/100\n",
            "15245/15245 [==============================] - 96s 6ms/step - loss: 0.8782 - acc: 0.7128 - val_loss: 2.5424 - val_acc: 0.3849\n",
            "Epoch 15/100\n",
            "15245/15245 [==============================] - 94s 6ms/step - loss: 0.8534 - acc: 0.7230 - val_loss: 2.5665 - val_acc: 0.3932\n",
            "Epoch 16/100\n",
            "15245/15245 [==============================] - 94s 6ms/step - loss: 0.8365 - acc: 0.7267 - val_loss: 2.6020 - val_acc: 0.3943\n",
            "Epoch 17/100\n",
            "15245/15245 [==============================] - 95s 6ms/step - loss: 0.8300 - acc: 0.7294 - val_loss: 2.6482 - val_acc: 0.4014\n",
            "Epoch 18/100\n",
            "15245/15245 [==============================] - 95s 6ms/step - loss: 0.8131 - acc: 0.7325 - val_loss: 2.6391 - val_acc: 0.3996\n",
            "Epoch 19/100\n",
            "15245/15245 [==============================] - 95s 6ms/step - loss: 0.7961 - acc: 0.7354 - val_loss: 2.6495 - val_acc: 0.4032\n",
            "Epoch 20/100\n",
            "15245/15245 [==============================] - 95s 6ms/step - loss: 0.7896 - acc: 0.7374 - val_loss: 2.6804 - val_acc: 0.4050\n",
            "Epoch 21/100\n",
            "15245/15245 [==============================] - 95s 6ms/step - loss: 0.7634 - acc: 0.7491 - val_loss: 2.7389 - val_acc: 0.4050\n",
            "Epoch 22/100\n",
            "15245/15245 [==============================] - 94s 6ms/step - loss: 0.7504 - acc: 0.7520 - val_loss: 2.7589 - val_acc: 0.3967\n",
            "Epoch 23/100\n",
            "15245/15245 [==============================] - 95s 6ms/step - loss: 0.7394 - acc: 0.7538 - val_loss: 2.7790 - val_acc: 0.3985\n",
            "Epoch 24/100\n",
            "15245/15245 [==============================] - 95s 6ms/step - loss: 0.7318 - acc: 0.7581 - val_loss: 2.7879 - val_acc: 0.3943\n",
            "Epoch 25/100\n",
            "15245/15245 [==============================] - 95s 6ms/step - loss: 0.7165 - acc: 0.7617 - val_loss: 2.8235 - val_acc: 0.3908\n",
            "Epoch 26/100\n",
            "15245/15245 [==============================] - 94s 6ms/step - loss: 0.7053 - acc: 0.7654 - val_loss: 2.8561 - val_acc: 0.3878\n",
            "Epoch 27/100\n",
            "15245/15245 [==============================] - 95s 6ms/step - loss: 0.6960 - acc: 0.7661 - val_loss: 2.8917 - val_acc: 0.3914\n",
            "Epoch 28/100\n",
            "15245/15245 [==============================] - 96s 6ms/step - loss: 0.6844 - acc: 0.7698 - val_loss: 2.8999 - val_acc: 0.3985\n",
            "Epoch 29/100\n",
            "15245/15245 [==============================] - 95s 6ms/step - loss: 0.6737 - acc: 0.7722 - val_loss: 2.9005 - val_acc: 0.3943\n",
            "Epoch 30/100\n",
            "15245/15245 [==============================] - 96s 6ms/step - loss: 0.6673 - acc: 0.7734 - val_loss: 2.9342 - val_acc: 0.3920\n",
            "Epoch 31/100\n",
            "15245/15245 [==============================] - 96s 6ms/step - loss: 0.6637 - acc: 0.7769 - val_loss: 2.9358 - val_acc: 0.3902\n",
            "Epoch 32/100\n",
            "15245/15245 [==============================] - 94s 6ms/step - loss: 0.6502 - acc: 0.7785 - val_loss: 2.9823 - val_acc: 0.3884\n",
            "Epoch 33/100\n",
            "15245/15245 [==============================] - 95s 6ms/step - loss: 0.6419 - acc: 0.7814 - val_loss: 2.9805 - val_acc: 0.4002\n",
            "Epoch 34/100\n",
            "15245/15245 [==============================] - 96s 6ms/step - loss: 0.6221 - acc: 0.7906 - val_loss: 3.0285 - val_acc: 0.3920\n",
            "Epoch 35/100\n",
            "15245/15245 [==============================] - 94s 6ms/step - loss: 0.6271 - acc: 0.7887 - val_loss: 3.0539 - val_acc: 0.3973\n",
            "Epoch 36/100\n",
            "15245/15245 [==============================] - 96s 6ms/step - loss: 0.6156 - acc: 0.7918 - val_loss: 3.0949 - val_acc: 0.3920\n",
            "Epoch 37/100\n",
            "15245/15245 [==============================] - 96s 6ms/step - loss: 0.6120 - acc: 0.7922 - val_loss: 3.1047 - val_acc: 0.4014\n",
            "Epoch 38/100\n",
            "15245/15245 [==============================] - 97s 6ms/step - loss: 0.6101 - acc: 0.7911 - val_loss: 3.0874 - val_acc: 0.3979\n",
            "Epoch 39/100\n",
            "15245/15245 [==============================] - 96s 6ms/step - loss: 0.6015 - acc: 0.7919 - val_loss: 3.1100 - val_acc: 0.3890\n",
            "Epoch 40/100\n",
            "15245/15245 [==============================] - 95s 6ms/step - loss: 0.5857 - acc: 0.7994 - val_loss: 3.1423 - val_acc: 0.3837\n",
            "Epoch 41/100\n",
            "15245/15245 [==============================] - 96s 6ms/step - loss: 0.5787 - acc: 0.8008 - val_loss: 3.1460 - val_acc: 0.4002\n",
            "Epoch 42/100\n",
            "15245/15245 [==============================] - 95s 6ms/step - loss: 0.5721 - acc: 0.8022 - val_loss: 3.1790 - val_acc: 0.3937\n",
            "Epoch 43/100\n",
            "15245/15245 [==============================] - 94s 6ms/step - loss: 0.5684 - acc: 0.8030 - val_loss: 3.1897 - val_acc: 0.3872\n",
            "Epoch 44/100\n",
            "15245/15245 [==============================] - 94s 6ms/step - loss: 0.5648 - acc: 0.8028 - val_loss: 3.2439 - val_acc: 0.4014\n",
            "Epoch 45/100\n",
            "15245/15245 [==============================] - 96s 6ms/step - loss: 0.5567 - acc: 0.8076 - val_loss: 3.2430 - val_acc: 0.3943\n",
            "Epoch 46/100\n",
            "15245/15245 [==============================] - 95s 6ms/step - loss: 0.5466 - acc: 0.8089 - val_loss: 3.2631 - val_acc: 0.3914\n",
            "Epoch 47/100\n",
            "15245/15245 [==============================] - 96s 6ms/step - loss: 0.5356 - acc: 0.8131 - val_loss: 3.2970 - val_acc: 0.3867\n",
            "Epoch 48/100\n",
            "15245/15245 [==============================] - 95s 6ms/step - loss: 0.5400 - acc: 0.8132 - val_loss: 3.3368 - val_acc: 0.3908\n",
            "Epoch 49/100\n",
            "15245/15245 [==============================] - 95s 6ms/step - loss: 0.5367 - acc: 0.8133 - val_loss: 3.2888 - val_acc: 0.3937\n",
            "Epoch 50/100\n",
            "15245/15245 [==============================] - 96s 6ms/step - loss: 0.5301 - acc: 0.8169 - val_loss: 3.3302 - val_acc: 0.3955\n",
            "Epoch 51/100\n",
            "15245/15245 [==============================] - 96s 6ms/step - loss: 0.5277 - acc: 0.8179 - val_loss: 3.3464 - val_acc: 0.3973\n",
            "Epoch 52/100\n",
            "15245/15245 [==============================] - 96s 6ms/step - loss: 0.5167 - acc: 0.8187 - val_loss: 3.3773 - val_acc: 0.3967\n",
            "Epoch 53/100\n",
            "15245/15245 [==============================] - 95s 6ms/step - loss: 0.5131 - acc: 0.8210 - val_loss: 3.3978 - val_acc: 0.4008\n",
            "Epoch 54/100\n",
            "15245/15245 [==============================] - 96s 6ms/step - loss: 0.5153 - acc: 0.8205 - val_loss: 3.4012 - val_acc: 0.3967\n",
            "Epoch 55/100\n",
            "15245/15245 [==============================] - 95s 6ms/step - loss: 0.5047 - acc: 0.8258 - val_loss: 3.3967 - val_acc: 0.3943\n",
            "Epoch 56/100\n",
            "15245/15245 [==============================] - 95s 6ms/step - loss: 0.4978 - acc: 0.8246 - val_loss: 3.4509 - val_acc: 0.3979\n",
            "Epoch 57/100\n",
            "15245/15245 [==============================] - 97s 6ms/step - loss: 0.5015 - acc: 0.8243 - val_loss: 3.4625 - val_acc: 0.3920\n",
            "Epoch 58/100\n",
            "15245/15245 [==============================] - 95s 6ms/step - loss: 0.4961 - acc: 0.8272 - val_loss: 3.4776 - val_acc: 0.3979\n",
            "Epoch 59/100\n",
            "15245/15245 [==============================] - 95s 6ms/step - loss: 0.4859 - acc: 0.8269 - val_loss: 3.4877 - val_acc: 0.3884\n",
            "Epoch 60/100\n",
            "15245/15245 [==============================] - 96s 6ms/step - loss: 0.4855 - acc: 0.8308 - val_loss: 3.5044 - val_acc: 0.3967\n",
            "Epoch 61/100\n",
            "15245/15245 [==============================] - 96s 6ms/step - loss: 0.4784 - acc: 0.8303 - val_loss: 3.5286 - val_acc: 0.3849\n",
            "Epoch 62/100\n",
            "15245/15245 [==============================] - 96s 6ms/step - loss: 0.4775 - acc: 0.8310 - val_loss: 3.5254 - val_acc: 0.3855\n",
            "Epoch 63/100\n",
            "15245/15245 [==============================] - 96s 6ms/step - loss: 0.4791 - acc: 0.8328 - val_loss: 3.5332 - val_acc: 0.3949\n",
            "Epoch 64/100\n",
            "15245/15245 [==============================] - 94s 6ms/step - loss: 0.4700 - acc: 0.8363 - val_loss: 3.5996 - val_acc: 0.3979\n",
            "Epoch 65/100\n",
            "15245/15245 [==============================] - 95s 6ms/step - loss: 0.4750 - acc: 0.8308 - val_loss: 3.5712 - val_acc: 0.3985\n",
            "Epoch 66/100\n",
            "15245/15245 [==============================] - 94s 6ms/step - loss: 0.4664 - acc: 0.8337 - val_loss: 3.6108 - val_acc: 0.3955\n",
            "Epoch 67/100\n",
            "15245/15245 [==============================] - 94s 6ms/step - loss: 0.4613 - acc: 0.8375 - val_loss: 3.6198 - val_acc: 0.3949\n",
            "Epoch 68/100\n",
            "15245/15245 [==============================] - 94s 6ms/step - loss: 0.4683 - acc: 0.8357 - val_loss: 3.6307 - val_acc: 0.3896\n",
            "Epoch 69/100\n",
            "15245/15245 [==============================] - 92s 6ms/step - loss: 0.4484 - acc: 0.8412 - val_loss: 3.6226 - val_acc: 0.3943\n",
            "Epoch 70/100\n",
            "15245/15245 [==============================] - 93s 6ms/step - loss: 0.4534 - acc: 0.8396 - val_loss: 3.6516 - val_acc: 0.3884\n",
            "Epoch 71/100\n",
            "15245/15245 [==============================] - 92s 6ms/step - loss: 0.4485 - acc: 0.8411 - val_loss: 3.6546 - val_acc: 0.3991\n",
            "Epoch 72/100\n",
            "15245/15245 [==============================] - 91s 6ms/step - loss: 0.4494 - acc: 0.8412 - val_loss: 3.7154 - val_acc: 0.3908\n",
            "Epoch 73/100\n",
            "15245/15245 [==============================] - 93s 6ms/step - loss: 0.4488 - acc: 0.8401 - val_loss: 3.6834 - val_acc: 0.3908\n",
            "Epoch 74/100\n",
            "15245/15245 [==============================] - 92s 6ms/step - loss: 0.4430 - acc: 0.8442 - val_loss: 3.6975 - val_acc: 0.3908\n",
            "Epoch 75/100\n",
            "15245/15245 [==============================] - 92s 6ms/step - loss: 0.4465 - acc: 0.8414 - val_loss: 3.7081 - val_acc: 0.3908\n",
            "Epoch 76/100\n",
            "15245/15245 [==============================] - 91s 6ms/step - loss: 0.4370 - acc: 0.8439 - val_loss: 3.7059 - val_acc: 0.3861\n",
            "Epoch 77/100\n",
            "15245/15245 [==============================] - 93s 6ms/step - loss: 0.4411 - acc: 0.8459 - val_loss: 3.7084 - val_acc: 0.3855\n",
            "Epoch 78/100\n",
            "15245/15245 [==============================] - 91s 6ms/step - loss: 0.4462 - acc: 0.8432 - val_loss: 3.7386 - val_acc: 0.3890\n",
            "Epoch 79/100\n",
            "15245/15245 [==============================] - 91s 6ms/step - loss: 0.4332 - acc: 0.8464 - val_loss: 3.7711 - val_acc: 0.3861\n",
            "Epoch 80/100\n",
            "15245/15245 [==============================] - 92s 6ms/step - loss: 0.4238 - acc: 0.8499 - val_loss: 3.7655 - val_acc: 0.3961\n",
            "Epoch 81/100\n",
            "15245/15245 [==============================] - 91s 6ms/step - loss: 0.4234 - acc: 0.8485 - val_loss: 3.7732 - val_acc: 0.3967\n",
            "Epoch 82/100\n",
            "15245/15245 [==============================] - 92s 6ms/step - loss: 0.4225 - acc: 0.8485 - val_loss: 3.7844 - val_acc: 0.3926\n",
            "Epoch 83/100\n",
            "15245/15245 [==============================] - 91s 6ms/step - loss: 0.4216 - acc: 0.8480 - val_loss: 3.8039 - val_acc: 0.3914\n",
            "Epoch 84/100\n",
            "15245/15245 [==============================] - 93s 6ms/step - loss: 0.4192 - acc: 0.8485 - val_loss: 3.8014 - val_acc: 0.3896\n",
            "Epoch 85/100\n",
            "15245/15245 [==============================] - 91s 6ms/step - loss: 0.4119 - acc: 0.8520 - val_loss: 3.8458 - val_acc: 0.3937\n",
            "Epoch 86/100\n",
            "15245/15245 [==============================] - 91s 6ms/step - loss: 0.4166 - acc: 0.8525 - val_loss: 3.8613 - val_acc: 0.3908\n",
            "Epoch 87/100\n",
            "15245/15245 [==============================] - 92s 6ms/step - loss: 0.4158 - acc: 0.8502 - val_loss: 3.8316 - val_acc: 0.3908\n",
            "Epoch 88/100\n",
            "15245/15245 [==============================] - 91s 6ms/step - loss: 0.4143 - acc: 0.8502 - val_loss: 3.8239 - val_acc: 0.3872\n",
            "Epoch 89/100\n",
            "15245/15245 [==============================] - 91s 6ms/step - loss: 0.4040 - acc: 0.8534 - val_loss: 3.8184 - val_acc: 0.3932\n",
            "Epoch 90/100\n",
            "15245/15245 [==============================] - 92s 6ms/step - loss: 0.4026 - acc: 0.8537 - val_loss: 3.8647 - val_acc: 0.3961\n",
            "Epoch 91/100\n",
            "15245/15245 [==============================] - 91s 6ms/step - loss: 0.4044 - acc: 0.8541 - val_loss: 3.8625 - val_acc: 0.3949\n",
            "Epoch 92/100\n",
            "15245/15245 [==============================] - 91s 6ms/step - loss: 0.4075 - acc: 0.8538 - val_loss: 3.8671 - val_acc: 0.3861\n",
            "Epoch 93/100\n",
            "15245/15245 [==============================] - 91s 6ms/step - loss: 0.4013 - acc: 0.8561 - val_loss: 3.9190 - val_acc: 0.3878\n",
            "Epoch 94/100\n",
            "15245/15245 [==============================] - 93s 6ms/step - loss: 0.3996 - acc: 0.8560 - val_loss: 3.9224 - val_acc: 0.3902\n",
            "Epoch 95/100\n",
            "15245/15245 [==============================] - 90s 6ms/step - loss: 0.4006 - acc: 0.8552 - val_loss: 3.9292 - val_acc: 0.3849\n",
            "Epoch 96/100\n",
            "15245/15245 [==============================] - 91s 6ms/step - loss: 0.3941 - acc: 0.8597 - val_loss: 3.9572 - val_acc: 0.3937\n",
            "Epoch 97/100\n",
            "15245/15245 [==============================] - 93s 6ms/step - loss: 0.3858 - acc: 0.8607 - val_loss: 3.9735 - val_acc: 0.3849\n",
            "Epoch 98/100\n",
            "15245/15245 [==============================] - 91s 6ms/step - loss: 0.3941 - acc: 0.8582 - val_loss: 3.9957 - val_acc: 0.3867\n",
            "Epoch 99/100\n",
            "15245/15245 [==============================] - 91s 6ms/step - loss: 0.3906 - acc: 0.8597 - val_loss: 4.0022 - val_acc: 0.3902\n",
            "Epoch 100/100\n",
            "15245/15245 [==============================] - 91s 6ms/step - loss: 0.3874 - acc: 0.8594 - val_loss: 4.0069 - val_acc: 0.3813\n"
          ],
          "name": "stdout"
        }
      ]
    },
    {
      "cell_type": "code",
      "metadata": {
        "id": "gwKfEftuaFVK",
        "colab_type": "code",
        "colab": {}
      },
      "source": [
        "model.save('NLP_Classification_LSTM.h5')"
      ],
      "execution_count": 0,
      "outputs": []
    },
    {
      "cell_type": "markdown",
      "metadata": {
        "id": "p6GMuN43kFL2",
        "colab_type": "text"
      },
      "source": [
        "#Evaluate Model"
      ]
    },
    {
      "cell_type": "code",
      "metadata": {
        "id": "zIJEBNmLjqs5",
        "colab_type": "code",
        "colab": {
          "base_uri": "https://localhost:8080/",
          "height": 85
        },
        "outputId": "d583b2c9-2efe-4479-b7fb-c63fbbabe706"
      },
      "source": [
        "# Evaluate accuracy with test data chunk\n",
        "accr = model.evaluate(Xtest,Ytest)\n",
        "print('Test set\\n  Loss: {:0.3f}\\n  Accuracy: {:0.3f}'.format(accr[0],accr[1]))"
      ],
      "execution_count": 59,
      "outputs": [
        {
          "output_type": "stream",
          "text": [
            "4235/4235 [==============================] - 11s 3ms/step\n",
            "Test set\n",
            "  Loss: 4.108\n",
            "  Accuracy: 0.390\n"
          ],
          "name": "stdout"
        }
      ]
    },
    {
      "cell_type": "code",
      "metadata": {
        "id": "b6Z-25A4j_VV",
        "colab_type": "code",
        "colab": {
          "base_uri": "https://localhost:8080/",
          "height": 281
        },
        "outputId": "31dee44f-ef0f-4eb4-db89-820667e2d356"
      },
      "source": [
        "# Import matplotlib\n",
        "import matplotlib.pyplot as plt\n",
        "\n",
        "# Plot the first model loss and validating loss for knowing overfit and underfit\n",
        "plt.title('Loss for first model')\n",
        "plt.plot(history.history['loss'], label='train')\n",
        "plt.plot(history.history['val_loss'], label='test')\n",
        "plt.legend()\n",
        "plt.show();"
      ],
      "execution_count": 62,
      "outputs": [
        {
          "output_type": "display_data",
          "data": {
            "image/png": "[encoded data removed]",
            "text/plain": [
              "<Figure size 432x288 with 1 Axes>"
            ]
          },
          "metadata": {
            "tags": []
          }
        }
      ]
    },
    {
      "cell_type": "code",
      "metadata": {
        "id": "GCdAfiNckw3_",
        "colab_type": "code",
        "colab": {
          "base_uri": "https://localhost:8080/",
          "height": 281
        },
        "outputId": "c4994b1f-9e74-43e2-bbba-cf7b96b59faf"
      },
      "source": [
        "# Plot the first model accuracy and validating accuracy for knowing overfit and underfit\n",
        "plt.title('Accuracy for First Model')\n",
        "plt.plot(history.history['acc'], label='train')\n",
        "plt.plot(history.history['val_acc'], label='test')\n",
        "plt.legend()\n",
        "plt.show();"
      ],
      "execution_count": 63,
      "outputs": [
        {
          "output_type": "display_data",
          "data": {
            "image/png": "[encoded data removed]",
            "text/plain": [
              "<Figure size 432x288 with 1 Axes>"
            ]
          },
          "metadata": {
            "tags": []
          }
        }
      ]
    }
  ]
}