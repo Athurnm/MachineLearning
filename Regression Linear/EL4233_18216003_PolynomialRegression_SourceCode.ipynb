{
 "cells": [
  {
   "cell_type": "code",
   "execution_count": 2,
   "metadata": {},
   "outputs": [],
   "source": [
    "# Set up, diambil dari 04_training_linear_models.ipynb"
   ]
  },
  {
   "cell_type": "code",
   "execution_count": 3,
   "metadata": {},
   "outputs": [],
   "source": [
    "import sklearn\n",
    "import math\n",
    "import numpy\n",
    "import pandas as pd"
   ]
  },
  {
   "cell_type": "code",
   "execution_count": 4,
   "metadata": {},
   "outputs": [],
   "source": [
    "#simple ML\n",
    "# Python ≥3.5 is required\n",
    "import sys\n",
    "assert sys.version_info >= (3, 5)\n",
    "\n",
    "# Common imports\n",
    "import numpy as np\n",
    "import os\n",
    "\n",
    "# to make this notebook's output stable across runs\n",
    "np.random.seed(42)\n",
    "\n",
    "# To plot pretty figures\n",
    "%matplotlib inline\n",
    "import matplotlib as mpl\n",
    "import matplotlib.pyplot as plt\n",
    "mpl.rc('axes', labelsize=14)\n",
    "mpl.rc('xtick', labelsize=12)\n",
    "mpl.rc('ytick', labelsize=12)\n",
    "\n",
    "# Where to save the figures\n",
    "PROJECT_ROOT_DIR = \".\"\n",
    "CHAPTER_ID = \"training_linear_models\"\n",
    "\n",
    "def save_fig(fig_id, tight_layout=True):\n",
    "    path = os.path.join(PROJECT_ROOT_DIR, \"images\", CHAPTER_ID, fig_id + \".png\")\n",
    "    print(\"Saving figure\", fig_id)\n",
    "    if tight_layout:\n",
    "        plt.tight_layout()\n",
    "    plt.savefig(path, format='png', dpi=300)\n",
    "\n",
    "# Ignore useless warnings (see SciPy issue #5998)\n",
    "import warnings\n",
    "warnings.filterwarnings(action=\"ignore\", message=\"^internal gelsd\")"
   ]
  },
  {
   "cell_type": "code",
   "execution_count": 5,
   "metadata": {
    "scrolled": false
   },
   "outputs": [
    {
     "name": "stdout",
     "output_type": "stream",
     "text": [
      "            x         y\n",
      "0    0.360539 -1.790432\n",
      "1    0.038950  0.745912\n",
      "2    0.926437 -0.585759\n",
      "3    1.449868 -0.569869\n",
      "4    0.840407 -2.412565\n",
      "5    0.970854 -0.440285\n",
      "6    0.025562  0.592882\n",
      "7    0.974743  0.199745\n",
      "8    1.883613 -1.007853\n",
      "9    1.701590  0.233468\n",
      "10   1.459929  0.101995\n",
      "11   0.217472  1.503574\n",
      "12   1.787808  1.193271\n",
      "13   1.714308  1.348063\n",
      "14   0.330173 -0.870303\n",
      "15   1.264668 -0.920761\n",
      "16   0.040967  1.873501\n",
      "17   0.233475  0.865656\n",
      "18   0.632735  0.835648\n",
      "19   0.315825 -1.154777\n",
      "20   1.517959  0.160509\n",
      "21   1.636551  0.850285\n",
      "22   0.689249  0.322936\n",
      "23   0.637598  1.162256\n",
      "24   0.223322  1.314271\n",
      "25   0.167906  2.074165\n",
      "26   1.425452  0.087272\n",
      "27   1.199087 -0.203360\n",
      "28   0.111347  0.648798\n",
      "29   0.959595 -0.228698\n",
      "..        ...       ...\n",
      "970  1.581237  1.680498\n",
      "971  1.979703 -0.324692\n",
      "972  0.495949 -0.309745\n",
      "973  0.783114 -1.634726\n",
      "974  0.968996 -0.824075\n",
      "975  0.973949 -1.080997\n",
      "976  0.471551 -1.014063\n",
      "977  0.659609  1.416125\n",
      "978  0.178571  1.707258\n",
      "979  1.144471  0.113634\n",
      "980  1.992961  0.089751\n",
      "981  0.248541  1.268819\n",
      "982  1.440614 -0.062207\n",
      "983  1.055122  0.856673\n",
      "984  0.655658  0.732742\n",
      "985  0.665694  0.749328\n",
      "986  1.972517 -0.682706\n",
      "987  0.216991  1.225088\n",
      "988  1.177276 -0.509853\n",
      "989  1.074151  0.327453\n",
      "990  1.887335 -0.507590\n",
      "991  0.406841 -1.381857\n",
      "992  0.059253  0.737249\n",
      "993  1.772463  0.307150\n",
      "994  0.650055  1.731990\n",
      "995  0.818707 -1.830806\n",
      "996  0.239722  0.393730\n",
      "997  0.452365 -0.732363\n",
      "998  0.451936 -1.380003\n",
      "999  1.363317 -1.314649\n",
      "\n",
      "[1000 rows x 2 columns]\n",
      "             x\n",
      "0     0.412077\n",
      "1     1.408084\n",
      "2     0.597636\n",
      "3     1.057357\n",
      "4     0.174777\n",
      "5     1.711870\n",
      "6     1.681215\n",
      "7     0.206816\n",
      "8     1.776814\n",
      "9     0.383256\n",
      "10    0.632508\n",
      "11    1.180341\n",
      "12    1.755183\n",
      "13    1.599650\n",
      "14    0.153841\n",
      "15    1.036084\n",
      "16    1.088464\n",
      "17    0.975142\n",
      "18    1.455828\n",
      "19    0.423218\n",
      "20    1.449753\n",
      "21    0.185377\n",
      "22    0.379857\n",
      "23    0.347664\n",
      "24    0.676826\n",
      "25    1.291469\n",
      "26    0.951091\n",
      "27    1.537486\n",
      "28    0.642298\n",
      "29    1.396314\n",
      "...        ...\n",
      "1970  1.232540\n",
      "1971  0.855154\n",
      "1972  0.549545\n",
      "1973  1.419557\n",
      "1974  0.301493\n",
      "1975  1.738501\n",
      "1976  0.287033\n",
      "1977  1.749606\n",
      "1978  0.965210\n",
      "1979  1.115178\n",
      "1980  1.313522\n",
      "1981  0.700982\n",
      "1982  1.555959\n",
      "1983  0.818487\n",
      "1984  1.506208\n",
      "1985  0.638875\n",
      "1986  1.648574\n",
      "1987  1.512144\n",
      "1988  0.516740\n",
      "1989  1.384799\n",
      "1990  0.862271\n",
      "1991  0.251970\n",
      "1992  0.941924\n",
      "1993  0.177446\n",
      "1994  0.487423\n",
      "1995  1.531373\n",
      "1996  1.474732\n",
      "1997  0.621320\n",
      "1998  1.021814\n",
      "1999  1.087843\n",
      "\n",
      "[2000 rows x 1 columns]\n"
     ]
    }
   ],
   "source": [
    "# Import training data from csv and cleaning the data\n",
    "training_data = pd.read_csv('el4233-2018-2019-02-01-training.csv', names = ['x','y'])\n",
    "test_data = pd.read_csv('el4233-2018-2019-02-01-test.csv',names = ['index','x'])\n",
    "\n",
    "# split to x and y\n",
    "training_x = training_data.drop(['y'], axis=1)\n",
    "training_y = training_data['y']\n",
    "\n",
    "# Make training and validation data\n",
    "valid_x = training_x [799:1000]\n",
    "valid_y = training_y [799:1000]\n",
    "training_x = training_x [0:800]\n",
    "training_y = training_y [0:800]\n",
    "\n",
    "#Clean Test_data\n",
    "test_data = test_data.drop(['index'],axis=1)\n",
    "\n",
    "#Checking the data\n",
    "print(training_data)\n",
    "print(test_data)"
   ]
  },
  {
   "cell_type": "code",
   "execution_count": 6,
   "metadata": {
    "scrolled": true
   },
   "outputs": [
    {
     "data": {
      "text/plain": [
       "<matplotlib.axes._subplots.AxesSubplot at 0x18e05595240>"
      ]
     },
     "execution_count": 6,
     "metadata": {},
     "output_type": "execute_result"
    },
    {
     "data": {
      "text/plain": [
       "<Figure size 432x288 with 0 Axes>"
      ]
     },
     "metadata": {},
     "output_type": "display_data"
    },
    {
     "data": {
      "image/png": "[encoded data removed]",
      "text/plain": [
       "<Figure size 432x288 with 1 Axes>"
      ]
     },
     "metadata": {
      "needs_background": "light"
     },
     "output_type": "display_data"
    }
   ],
   "source": [
    "# reset plot\n",
    "plt.close('all')\n",
    "\n",
    "# show training dataset plot\n",
    "pl=training_data.cumsum()\n",
    "plt.figure()\n",
    "pl.plot(x='x',y='y')\n"
   ]
  },
  {
   "cell_type": "code",
   "execution_count": 7,
   "metadata": {},
   "outputs": [],
   "source": [
    "# Make an empty array (filled with 0) for mse\n",
    "report_train_mse=np.zeros(40)\n",
    "report_valid_mse=np.zeros(40)"
   ]
  },
  {
   "cell_type": "code",
   "execution_count": 8,
   "metadata": {},
   "outputs": [],
   "source": [
    "#Preprocess modelling by transforming the polynom data to fit into linear regression model\n",
    "derajat_polinom=23\n",
    "from sklearn.preprocessing import PolynomialFeatures\n",
    "poly_features = PolynomialFeatures(degree=derajat_polinom, include_bias=False)\n",
    "train_x_poly = poly_features.fit_transform(training_x)\n",
    "valid_x_poly = poly_features.fit_transform(valid_x)\n",
    "test_x_poly = poly_features.fit_transform(test_data)"
   ]
  },
  {
   "cell_type": "code",
   "execution_count": 9,
   "metadata": {},
   "outputs": [],
   "source": [
    "#Prepare model object with 'lin_reg' name\n",
    "from sklearn.linear_model import LinearRegression\n",
    "\n",
    "lin_reg = LinearRegression()"
   ]
  },
  {
   "cell_type": "code",
   "execution_count": 11,
   "metadata": {},
   "outputs": [
    {
     "data": {
      "text/plain": [
       "(-0.6024048092350134,\n",
       " array([ 1.00421142e+02, -2.96094678e+03,  4.62936793e+04, -4.06974697e+05,\n",
       "         2.21887337e+06, -7.98950351e+06,  1.93392481e+07, -3.04556417e+07,\n",
       "         2.67961008e+07, -2.37403670e+06, -2.19140678e+07,  1.79332090e+07,\n",
       "         8.64240453e+06, -2.26507531e+07,  7.89888571e+06,  1.56172909e+07,\n",
       "        -2.46393790e+07,  1.83320580e+07, -8.56909443e+06,  2.64872221e+06,\n",
       "        -5.30054567e+05,  6.26096356e+04, -3.32924588e+03]))"
      ]
     },
     "execution_count": 11,
     "metadata": {},
     "output_type": "execute_result"
    }
   ],
   "source": [
    "#Finding best model by fitting the training data using linear regression algorithm\n",
    "lin_reg.fit(train_x_poly, training_y)\n",
    "\n",
    "#Checking the result\n",
    "lin_reg.intercept_, lin_reg.coef_"
   ]
  },
  {
   "cell_type": "code",
   "execution_count": 12,
   "metadata": {},
   "outputs": [
    {
     "data": {
      "text/plain": [
       "['Regresi_linear.pkl']"
      ]
     },
     "execution_count": 12,
     "metadata": {},
     "output_type": "execute_result"
    }
   ],
   "source": [
    "# saving model\n",
    "from sklearn.externals import joblib\n",
    "\n",
    "joblib.dump(lin_reg, \"Regresi_linear.pkl\")"
   ]
  },
  {
   "cell_type": "code",
   "execution_count": 13,
   "metadata": {},
   "outputs": [],
   "source": [
    "# Finding train using model\n",
    "train_y_predict=lin_reg.predict(train_x_poly)\n",
    "\n",
    "# Finding valid using model\n",
    "valid_y_predict=lin_reg.predict(valid_x_poly)"
   ]
  },
  {
   "cell_type": "code",
   "execution_count": 15,
   "metadata": {},
   "outputs": [],
   "source": [
    "# Finding solution using model\n",
    "\n",
    "test_y_predict=lin_reg.predict(test_x_poly)"
   ]
  },
  {
   "cell_type": "code",
   "execution_count": 16,
   "metadata": {},
   "outputs": [
    {
     "data": {
      "text/plain": [
       "((800,), (2000,), (201,))"
      ]
     },
     "execution_count": 16,
     "metadata": {},
     "output_type": "execute_result"
    }
   ],
   "source": [
    "# Checking all the prediction data number \n",
    "\n",
    "train_y_predict.shape, test_y_predict.shape, valid_y_predict.shape"
   ]
  },
  {
   "cell_type": "code",
   "execution_count": 17,
   "metadata": {},
   "outputs": [],
   "source": [
    "#MSE for training set"
   ]
  },
  {
   "cell_type": "code",
   "execution_count": 18,
   "metadata": {},
   "outputs": [],
   "source": [
    "train_mse=sklearn.metrics.mean_squared_error(training_y, train_y_predict)"
   ]
  },
  {
   "cell_type": "code",
   "execution_count": 19,
   "metadata": {},
   "outputs": [],
   "source": [
    "#MSE for validation set"
   ]
  },
  {
   "cell_type": "code",
   "execution_count": 20,
   "metadata": {},
   "outputs": [],
   "source": [
    "valid_x_poly = poly_features.fit_transform(valid_x)\n",
    "valid_y_predict=lin_reg.predict(valid_x_poly)"
   ]
  },
  {
   "cell_type": "code",
   "execution_count": 21,
   "metadata": {},
   "outputs": [],
   "source": [
    "valid_mse=sklearn.metrics.mean_squared_error(valid_y, valid_y_predict)"
   ]
  },
  {
   "cell_type": "code",
   "execution_count": 22,
   "metadata": {},
   "outputs": [],
   "source": [
    "# Input to arry\n",
    "report_train_mse[derajat_polinom]=train_mse\n",
    "report_valid_mse[derajat_polinom]=valid_mse"
   ]
  },
  {
   "cell_type": "code",
   "execution_count": 23,
   "metadata": {},
   "outputs": [
    {
     "data": {
      "text/plain": [
       "array([0.        , 0.        , 0.        , 0.        , 0.        ,\n",
       "       0.        , 0.        , 0.        , 0.        , 0.        ,\n",
       "       0.        , 0.        , 0.        , 0.        , 0.        ,\n",
       "       0.        , 0.        , 0.        , 0.        , 0.        ,\n",
       "       0.        , 0.        , 0.        , 0.25148723, 0.        ,\n",
       "       0.        , 0.        , 0.        , 0.        , 0.        ,\n",
       "       0.        , 0.        , 0.        , 0.        , 0.        ,\n",
       "       0.        , 0.        , 0.        , 0.        , 0.        ])"
      ]
     },
     "execution_count": 23,
     "metadata": {},
     "output_type": "execute_result"
    }
   ],
   "source": [
    "report_train_mse"
   ]
  },
  {
   "cell_type": "code",
   "execution_count": 24,
   "metadata": {},
   "outputs": [
    {
     "data": {
      "text/plain": [
       "array([0.        , 0.        , 0.        , 0.        , 0.        ,\n",
       "       0.        , 0.        , 0.        , 0.        , 0.        ,\n",
       "       0.        , 0.        , 0.        , 0.        , 0.        ,\n",
       "       0.        , 0.        , 0.        , 0.        , 0.        ,\n",
       "       0.        , 0.        , 0.        , 0.24694847, 0.        ,\n",
       "       0.        , 0.        , 0.        , 0.        , 0.        ,\n",
       "       0.        , 0.        , 0.        , 0.        , 0.        ,\n",
       "       0.        , 0.        , 0.        , 0.        , 0.        ])"
      ]
     },
     "execution_count": 24,
     "metadata": {},
     "output_type": "execute_result"
    }
   ],
   "source": [
    "report_valid_mse"
   ]
  },
  {
   "cell_type": "code",
   "execution_count": 25,
   "metadata": {},
   "outputs": [
    {
     "data": {
      "image/png": "[encoded data removed]",
      "text/plain": [
       "<Figure size 432x288 with 1 Axes>"
      ]
     },
     "metadata": {
      "needs_background": "light"
     },
     "output_type": "display_data"
    }
   ],
   "source": [
    "# validation vs training error, in terms of M\n",
    "plt.plot(report_train_mse, \"b:\",label='training error linreg')\n",
    "\n",
    "plt.plot(report_valid_mse, \"y-\",label='validation error linreg')\n",
    "\n",
    "plt.axis([1, 30, 0,0.35])\n",
    "plt.legend(loc='best')\n",
    "#save_fig(\"simple_sin_error\")\n",
    "plt.xlabel(\"$derajat polinom$\", fontsize=18)\n",
    "plt.show()"
   ]
  },
  {
   "cell_type": "code",
   "execution_count": 26,
   "metadata": {},
   "outputs": [],
   "source": [
    "# Append solution to dataframe\n",
    "m = np.asarray(test_y_predict)\n",
    "test_data['y']=m\n",
    "test_data.to_csv('solution.csv')"
   ]
  },
  {
   "cell_type": "markdown",
   "metadata": {},
   "source": [
    "## "
   ]
  }
 ],
 "metadata": {
  "kernelspec": {
   "display_name": "Python 3",
   "language": "python",
   "name": "python3"
  },
  "language_info": {
   "codemirror_mode": {
    "name": "ipython",
    "version": 3
   },
   "file_extension": ".py",
   "mimetype": "text/x-python",
   "name": "python",
   "nbconvert_exporter": "python",
   "pygments_lexer": "ipython3",
   "version": "3.7.1"
  }
 },
 "nbformat": 4,
 "nbformat_minor": 2
}
